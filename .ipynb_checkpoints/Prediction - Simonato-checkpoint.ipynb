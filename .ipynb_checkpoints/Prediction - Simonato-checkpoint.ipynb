{
 "cells": [
  {
   "cell_type": "markdown",
   "metadata": {
    "id": "ELPU3bTvsRXC"
   },
   "source": [
    "# Predictions \n",
    "## Niccolò Simonato \n",
    "## Data & Web Mining, Academic Year 2021-2022"
   ]
  },
  {
   "cell_type": "markdown",
   "metadata": {},
   "source": [
    "## Importing the dependencies and the cleaned dataset\n",
    "\n",
    "The cleaned dataset is now imported.\n",
    "\n",
    "The first snipped is intended to be used in the Google Drive environment, just set the path variable as needed.\n",
    "\n",
    "The second one is intended to be used in the Jupyter Notebook environment."
   ]
  },
  {
   "cell_type": "code",
   "execution_count": 72,
   "metadata": {},
   "outputs": [],
   "source": [
    "# dependencies\n",
    "import pandas as pd\n",
    "import matplotlib.pyplot as plt\n",
    "from sklearn import neighbors\n",
    "from sklearn.metrics import accuracy_score"
   ]
  },
  {
   "cell_type": "code",
   "execution_count": 27,
   "metadata": {
    "id": "_x2HBMo0iWLY"
   },
   "outputs": [],
   "source": [
    "# from google.colab import drive\n",
    "# drive.mount('/gdrive')\n",
    "# path = '/gdrive/MyDrive/Progetto DWM/Data/*.csv'\n",
    "# %cd /gdrive"
   ]
  },
  {
   "cell_type": "code",
   "execution_count": 28,
   "metadata": {
    "id": "OlRC0QJQiT25"
   },
   "outputs": [],
   "source": [
    "path = 'Data/'\n",
    "\n",
    "# cleaned_df = pd.read_csv(path, low_memory = False)\n",
    "train_datasets = []\n",
    "test_datasets = []\n",
    "\n",
    "for i in range(5):\n",
    "    train_datasets.append(pd.read_csv(f\"{path}train_dataset_2016_{i + 1}.csv\", low_memory = True))\n",
    "    test_datasets.append(pd.read_csv(f\"{path}test_dataset_2016_{i + 1}.csv\", low_memory = True))"
   ]
  },
  {
   "cell_type": "markdown",
   "metadata": {},
   "source": [
    "## Data Validation\n",
    "In order to prevent any exception to be raised, we will check the state of each dataset and will ensure that the data can be used."
   ]
  },
  {
   "cell_type": "code",
   "execution_count": 33,
   "metadata": {},
   "outputs": [
    {
     "data": {
      "text/html": [
       "<div>\n",
       "<style scoped>\n",
       "    .dataframe tbody tr th:only-of-type {\n",
       "        vertical-align: middle;\n",
       "    }\n",
       "\n",
       "    .dataframe tbody tr th {\n",
       "        vertical-align: top;\n",
       "    }\n",
       "\n",
       "    .dataframe thead th {\n",
       "        text-align: right;\n",
       "    }\n",
       "</style>\n",
       "<table border=\"1\" class=\"dataframe\">\n",
       "  <thead>\n",
       "    <tr style=\"text-align: right;\">\n",
       "      <th></th>\n",
       "      <th>Unnamed: 0</th>\n",
       "      <th>parcelid</th>\n",
       "      <th>airconditioningtypeid</th>\n",
       "      <th>bathroomcnt</th>\n",
       "      <th>bedroomcnt</th>\n",
       "      <th>buildingqualitytypeid</th>\n",
       "      <th>calculatedbathnbr</th>\n",
       "      <th>calculatedfinishedsquarefeet</th>\n",
       "      <th>finishedsquarefeet12</th>\n",
       "      <th>fips</th>\n",
       "      <th>...</th>\n",
       "      <th>N-LogTaxScore</th>\n",
       "      <th>N-zip_count</th>\n",
       "      <th>N-city_count</th>\n",
       "      <th>N-ACInd</th>\n",
       "      <th>N-HeatInd</th>\n",
       "      <th>N-PropType</th>\n",
       "      <th>N-Dev-structuretaxvaluedollarcnt</th>\n",
       "      <th>DD</th>\n",
       "      <th>MM</th>\n",
       "      <th>N-DaysInCurrentYear</th>\n",
       "    </tr>\n",
       "  </thead>\n",
       "  <tbody>\n",
       "    <tr>\n",
       "      <th>count</th>\n",
       "      <td>68208.000000</td>\n",
       "      <td>6.820800e+04</td>\n",
       "      <td>68208.000000</td>\n",
       "      <td>68208.000000</td>\n",
       "      <td>68208.000000</td>\n",
       "      <td>68208.000000</td>\n",
       "      <td>68208.000000</td>\n",
       "      <td>68208.000000</td>\n",
       "      <td>68208.000000</td>\n",
       "      <td>68208.000000</td>\n",
       "      <td>...</td>\n",
       "      <td>68208.000000</td>\n",
       "      <td>68208.000000</td>\n",
       "      <td>68208.000000</td>\n",
       "      <td>68208.000000</td>\n",
       "      <td>68208.000000</td>\n",
       "      <td>68208.000000</td>\n",
       "      <td>68208.000000</td>\n",
       "      <td>68208.00000</td>\n",
       "      <td>68208.000000</td>\n",
       "      <td>68208.000000</td>\n",
       "    </tr>\n",
       "    <tr>\n",
       "      <th>mean</th>\n",
       "      <td>49638.060931</td>\n",
       "      <td>1.300474e+07</td>\n",
       "      <td>3.945578</td>\n",
       "      <td>2.270320</td>\n",
       "      <td>3.003636</td>\n",
       "      <td>5.521900</td>\n",
       "      <td>2.288236</td>\n",
       "      <td>1743.108272</td>\n",
       "      <td>1743.108272</td>\n",
       "      <td>6049.177223</td>\n",
       "      <td>...</td>\n",
       "      <td>9.147980</td>\n",
       "      <td>324.725560</td>\n",
       "      <td>4834.738476</td>\n",
       "      <td>0.329390</td>\n",
       "      <td>0.654718</td>\n",
       "      <td>0.051050</td>\n",
       "      <td>0.530811</td>\n",
       "      <td>16.36267</td>\n",
       "      <td>5.867875</td>\n",
       "      <td>164.342922</td>\n",
       "    </tr>\n",
       "    <tr>\n",
       "      <th>std</th>\n",
       "      <td>27218.525092</td>\n",
       "      <td>2.371372e+06</td>\n",
       "      <td>2.279430</td>\n",
       "      <td>0.940313</td>\n",
       "      <td>1.009035</td>\n",
       "      <td>1.529856</td>\n",
       "      <td>1.017559</td>\n",
       "      <td>905.997275</td>\n",
       "      <td>905.997275</td>\n",
       "      <td>20.860330</td>\n",
       "      <td>...</td>\n",
       "      <td>0.681050</td>\n",
       "      <td>177.343462</td>\n",
       "      <td>7380.803303</td>\n",
       "      <td>0.469995</td>\n",
       "      <td>0.475464</td>\n",
       "      <td>0.314264</td>\n",
       "      <td>0.757977</td>\n",
       "      <td>9.00774</td>\n",
       "      <td>2.803042</td>\n",
       "      <td>85.483391</td>\n",
       "    </tr>\n",
       "    <tr>\n",
       "      <th>min</th>\n",
       "      <td>0.000000</td>\n",
       "      <td>1.071174e+07</td>\n",
       "      <td>1.000000</td>\n",
       "      <td>0.000000</td>\n",
       "      <td>0.000000</td>\n",
       "      <td>1.000000</td>\n",
       "      <td>1.000000</td>\n",
       "      <td>2.000000</td>\n",
       "      <td>2.000000</td>\n",
       "      <td>6037.000000</td>\n",
       "      <td>...</td>\n",
       "      <td>4.824880</td>\n",
       "      <td>1.000000</td>\n",
       "      <td>1.000000</td>\n",
       "      <td>0.000000</td>\n",
       "      <td>0.000000</td>\n",
       "      <td>0.000000</td>\n",
       "      <td>0.000000</td>\n",
       "      <td>1.00000</td>\n",
       "      <td>1.000000</td>\n",
       "      <td>1.000000</td>\n",
       "    </tr>\n",
       "    <tr>\n",
       "      <th>25%</th>\n",
       "      <td>31590.000000</td>\n",
       "      <td>1.154383e+07</td>\n",
       "      <td>1.000000</td>\n",
       "      <td>2.000000</td>\n",
       "      <td>2.000000</td>\n",
       "      <td>4.000000</td>\n",
       "      <td>2.000000</td>\n",
       "      <td>1171.000000</td>\n",
       "      <td>1171.000000</td>\n",
       "      <td>6037.000000</td>\n",
       "      <td>...</td>\n",
       "      <td>8.754919</td>\n",
       "      <td>198.000000</td>\n",
       "      <td>432.000000</td>\n",
       "      <td>0.000000</td>\n",
       "      <td>0.000000</td>\n",
       "      <td>0.000000</td>\n",
       "      <td>0.198509</td>\n",
       "      <td>8.00000</td>\n",
       "      <td>4.000000</td>\n",
       "      <td>97.000000</td>\n",
       "    </tr>\n",
       "    <tr>\n",
       "      <th>50%</th>\n",
       "      <td>54141.500000</td>\n",
       "      <td>1.258943e+07</td>\n",
       "      <td>5.000000</td>\n",
       "      <td>2.000000</td>\n",
       "      <td>3.000000</td>\n",
       "      <td>5.565407</td>\n",
       "      <td>2.000000</td>\n",
       "      <td>1515.000000</td>\n",
       "      <td>1515.000000</td>\n",
       "      <td>6037.000000</td>\n",
       "      <td>...</td>\n",
       "      <td>9.181586</td>\n",
       "      <td>296.000000</td>\n",
       "      <td>992.000000</td>\n",
       "      <td>0.000000</td>\n",
       "      <td>1.000000</td>\n",
       "      <td>0.000000</td>\n",
       "      <td>0.405284</td>\n",
       "      <td>16.00000</td>\n",
       "      <td>6.000000</td>\n",
       "      <td>167.000000</td>\n",
       "    </tr>\n",
       "    <tr>\n",
       "      <th>75%</th>\n",
       "      <td>72214.250000</td>\n",
       "      <td>1.425394e+07</td>\n",
       "      <td>5.000000</td>\n",
       "      <td>3.000000</td>\n",
       "      <td>4.000000</td>\n",
       "      <td>7.000000</td>\n",
       "      <td>3.000000</td>\n",
       "      <td>2055.000000</td>\n",
       "      <td>2055.000000</td>\n",
       "      <td>6059.000000</td>\n",
       "      <td>...</td>\n",
       "      <td>9.559402</td>\n",
       "      <td>399.000000</td>\n",
       "      <td>2703.000000</td>\n",
       "      <td>1.000000</td>\n",
       "      <td>1.000000</td>\n",
       "      <td>0.000000</td>\n",
       "      <td>0.648437</td>\n",
       "      <td>24.00000</td>\n",
       "      <td>8.000000</td>\n",
       "      <td>232.000000</td>\n",
       "    </tr>\n",
       "    <tr>\n",
       "      <th>max</th>\n",
       "      <td>90272.000000</td>\n",
       "      <td>1.629608e+08</td>\n",
       "      <td>13.000000</td>\n",
       "      <td>20.000000</td>\n",
       "      <td>10.000000</td>\n",
       "      <td>12.000000</td>\n",
       "      <td>20.000000</td>\n",
       "      <td>20013.000000</td>\n",
       "      <td>20013.000000</td>\n",
       "      <td>6111.000000</td>\n",
       "      <td>...</td>\n",
       "      <td>12.951033</td>\n",
       "      <td>902.000000</td>\n",
       "      <td>18697.000000</td>\n",
       "      <td>1.000000</td>\n",
       "      <td>1.000000</td>\n",
       "      <td>2.000000</td>\n",
       "      <td>39.442360</td>\n",
       "      <td>31.00000</td>\n",
       "      <td>12.000000</td>\n",
       "      <td>365.000000</td>\n",
       "    </tr>\n",
       "  </tbody>\n",
       "</table>\n",
       "<p>8 rows × 56 columns</p>\n",
       "</div>"
      ],
      "text/plain": [
       "         Unnamed: 0      parcelid  airconditioningtypeid   bathroomcnt  \\\n",
       "count  68208.000000  6.820800e+04           68208.000000  68208.000000   \n",
       "mean   49638.060931  1.300474e+07               3.945578      2.270320   \n",
       "std    27218.525092  2.371372e+06               2.279430      0.940313   \n",
       "min        0.000000  1.071174e+07               1.000000      0.000000   \n",
       "25%    31590.000000  1.154383e+07               1.000000      2.000000   \n",
       "50%    54141.500000  1.258943e+07               5.000000      2.000000   \n",
       "75%    72214.250000  1.425394e+07               5.000000      3.000000   \n",
       "max    90272.000000  1.629608e+08              13.000000     20.000000   \n",
       "\n",
       "         bedroomcnt  buildingqualitytypeid  calculatedbathnbr  \\\n",
       "count  68208.000000           68208.000000       68208.000000   \n",
       "mean       3.003636               5.521900           2.288236   \n",
       "std        1.009035               1.529856           1.017559   \n",
       "min        0.000000               1.000000           1.000000   \n",
       "25%        2.000000               4.000000           2.000000   \n",
       "50%        3.000000               5.565407           2.000000   \n",
       "75%        4.000000               7.000000           3.000000   \n",
       "max       10.000000              12.000000          20.000000   \n",
       "\n",
       "       calculatedfinishedsquarefeet  finishedsquarefeet12          fips  ...  \\\n",
       "count                  68208.000000          68208.000000  68208.000000  ...   \n",
       "mean                    1743.108272           1743.108272   6049.177223  ...   \n",
       "std                      905.997275            905.997275     20.860330  ...   \n",
       "min                        2.000000              2.000000   6037.000000  ...   \n",
       "25%                     1171.000000           1171.000000   6037.000000  ...   \n",
       "50%                     1515.000000           1515.000000   6037.000000  ...   \n",
       "75%                     2055.000000           2055.000000   6059.000000  ...   \n",
       "max                    20013.000000          20013.000000   6111.000000  ...   \n",
       "\n",
       "       N-LogTaxScore   N-zip_count  N-city_count       N-ACInd     N-HeatInd  \\\n",
       "count   68208.000000  68208.000000  68208.000000  68208.000000  68208.000000   \n",
       "mean        9.147980    324.725560   4834.738476      0.329390      0.654718   \n",
       "std         0.681050    177.343462   7380.803303      0.469995      0.475464   \n",
       "min         4.824880      1.000000      1.000000      0.000000      0.000000   \n",
       "25%         8.754919    198.000000    432.000000      0.000000      0.000000   \n",
       "50%         9.181586    296.000000    992.000000      0.000000      1.000000   \n",
       "75%         9.559402    399.000000   2703.000000      1.000000      1.000000   \n",
       "max        12.951033    902.000000  18697.000000      1.000000      1.000000   \n",
       "\n",
       "         N-PropType  N-Dev-structuretaxvaluedollarcnt           DD  \\\n",
       "count  68208.000000                      68208.000000  68208.00000   \n",
       "mean       0.051050                          0.530811     16.36267   \n",
       "std        0.314264                          0.757977      9.00774   \n",
       "min        0.000000                          0.000000      1.00000   \n",
       "25%        0.000000                          0.198509      8.00000   \n",
       "50%        0.000000                          0.405284     16.00000   \n",
       "75%        0.000000                          0.648437     24.00000   \n",
       "max        2.000000                         39.442360     31.00000   \n",
       "\n",
       "                 MM  N-DaysInCurrentYear  \n",
       "count  68208.000000         68208.000000  \n",
       "mean       5.867875           164.342922  \n",
       "std        2.803042            85.483391  \n",
       "min        1.000000             1.000000  \n",
       "25%        4.000000            97.000000  \n",
       "50%        6.000000           167.000000  \n",
       "75%        8.000000           232.000000  \n",
       "max       12.000000           365.000000  \n",
       "\n",
       "[8 rows x 56 columns]"
      ]
     },
     "execution_count": 33,
     "metadata": {},
     "output_type": "execute_result"
    }
   ],
   "source": [
    "train_datasets[1].describe(include='all')"
   ]
  },
  {
   "cell_type": "markdown",
   "metadata": {},
   "source": [
    "Since we don't have any real use for it, we can drop the parcelid feature."
   ]
  },
  {
   "cell_type": "code",
   "execution_count": 36,
   "metadata": {},
   "outputs": [],
   "source": [
    "for i in train_datasets:\n",
    "    i.drop(['parcelid'], axis=1, inplace=True)\n",
    "\n",
    "for i in test_datasets:\n",
    "    i.drop(['parcelid'], axis=1, inplace=True)"
   ]
  },
  {
   "cell_type": "markdown",
   "metadata": {
    "id": "Ar8xvJ5kbrgl"
   },
   "source": [
    "## Predictions - Attempt 1 - k-NN algorithm"
   ]
  },
  {
   "cell_type": "markdown",
   "metadata": {
    "id": "9TdV2Wm4b8jx"
   },
   "source": [
    "### Why k-NN? - Introduction \n",
    "I chose the k-NN algorithm because, usually, the house construction doesn't happen randomly. It's really unusual that a private party builds his own house, with his own money, and wherever he likes: it's more likely that the municipality's dedicated office decides where and how the houses of a given zone are buildt. \n",
    "\n",
    "Therefore, i think is safe to assume that houses of a given zone will have similar prices. The k-NN hopefully will help achiving this target, especially if we tune the geolocalization features with a greater weight over the other ones. \n",
    "\n",
    "This attempt will use the [ScikitLearn implementation](https://scikit-learn.org/stable/modules/generated/sklearn.neighbors.KNeighborsRegressor.html#sklearn.neighbors.KNeighborsRegressor) of the k-NN algorithm for prediction.\n",
    "\n",
    "The first attempt will be conducted with the parameter \"weights\" set as \"uniform\", the second one will use the value \"distance\".\n",
    "\n",
    "The model will be tested with a number of neighbors beetween 4 and 8, because usually these are the value that yield the best results.\n",
    "\n",
    "The following snippet contains the functions that wraps the described procedure."
   ]
  },
  {
   "cell_type": "code",
   "execution_count": 82,
   "metadata": {
    "id": "7FkaJft9tOR2"
   },
   "outputs": [],
   "source": [
    "n_neighbors = [4,5,6,7,8]\n",
    "    \n",
    "def train_test_kNN(x_train, y_train, x_test, y_test, n_neighbors, w='uniform'):\n",
    "    knn = neighbors.KNeighborsRegressor(n_neighbors, weights=w)\n",
    "    model = knn.fit(x_train, y_train)\n",
    "    prediction = model.predict(x_test)\n",
    "    scores = model.score(x_test, y_test)\n",
    "    data = {'x_train': x_train,\n",
    "            'y_train': y_train,\n",
    "            'x_test': x_test,\n",
    "            'y_test': y_test,\n",
    "            'n_neighbors': n_neighbors, \n",
    "            'weights': w,\n",
    "            'prediction': prediction,\n",
    "            'score' : scores,\n",
    "           }\n",
    "    return data"
   ]
  },
  {
   "cell_type": "code",
   "execution_count": 76,
   "metadata": {},
   "outputs": [],
   "source": [
    "train = train_datasets[1]\n",
    "test = test_datasets[1]\n",
    "to_Y = ['logerror']\n",
    "to_X = list(set(train.columns) - set('logerror'))\n",
    "result = train_test_kNN(train[to_X], train[to_Y], test[to_X], test[to_Y], 5)"
   ]
  },
  {
   "cell_type": "code",
   "execution_count": 83,
   "metadata": {},
   "outputs": [],
   "source": [
    "results = []\n",
    "types = ['distance', 'uniform']\n",
    "to_Y = ['logerror']\n",
    "to_X = list(set(train.columns) - set('logerror'))\n",
    "for train in train_datasets:\n",
    "    for test in test_datasets:\n",
    "        for n in n_neighbors:\n",
    "            for w in types:\n",
    "                results.append(train_test_kNN(train[to_X], train[to_Y], test[to_X], test[to_Y], n, w))       "
   ]
  },
  {
   "cell_type": "markdown",
   "metadata": {
    "id": "CPlmoW8Bd0UP"
   },
   "source": [
    "### How did it go? - Evaluation\n",
    "After obtaining the results, we can proceed with the evaluation of the results.\n",
    "\n",
    "In order to keep this notebook as clean as possible, the evaluation will be done with the built-in evaluator of the KNeighborsRegressor object."
   ]
  },
  {
   "cell_type": "code",
   "execution_count": 90,
   "metadata": {
    "id": "dkMbdppjvYVu"
   },
   "outputs": [],
   "source": [
    "def show_results_kNN(data):\n",
    "    for i in data:\n",
    "        parameters = i\n",
    "        if parameters['weights'] == 'uniform':\n",
    "            col = 'darkorange'\n",
    "        else:\n",
    "            col = 'blue'\n",
    "        plt.scatter(parameters['n_neighbors'], parameters['score'], color=col, label='data')\n",
    "    plt.title(f\"KNeighborsRegressor\")\n",
    "    plt.show()\n",
    "\n",
    "# plt.subplot(5, 2)"
   ]
  },
  {
   "cell_type": "code",
   "execution_count": 91,
   "metadata": {},
   "outputs": [
    {
     "data": {
      "image/png": "[encoded data removed]",
      "text/plain": [
       "<Figure size 432x288 with 1 Axes>"
      ]
     },
     "metadata": {
      "needs_background": "light"
     },
     "output_type": "display_data"
    }
   ],
   "source": [
    "show_results_kNN(results)"
   ]
  },
  {
   "cell_type": "markdown",
   "metadata": {
    "id": "fVUf7WUQcI33"
   },
   "source": [
    "## Predictions - Attempt 2 - Linear Regression"
   ]
  },
  {
   "cell_type": "markdown",
   "metadata": {
    "id": "0jkCHkx0Hdsj"
   },
   "source": [
    "### Why Linear Regression? - Introduction\n",
    "The idea behind the adoption of the LinReg model is correlated to the low integrity of the inititial dataset. \n",
    "\n",
    "In contrast with the previously analyzed model, this is an attempt to see what would happen with an \"assumption-free\" model. It is expected that this type of analysis will underline some unseen correlations, and also will produce some interesting predictions.\n",
    "\n",
    "This test will be conducted with the [ScikitLearn implementation](https://scikit-learn.org/stable/modules/generated/sklearn.linear_model.LinearRegression.html) of the LinearRegression."
   ]
  },
  {
   "cell_type": "code",
   "execution_count": null,
   "metadata": {
    "id": "3N2szLiTv7Oi"
   },
   "outputs": [],
   "source": [
    "def train_test_LinReg(x_train, y_train, x_test, y_test):\n",
    "    model = LinearRegression().fit(x_train, y_train)\n",
    "    predictions = model.predict(x_test)\n",
    "    data = {\n",
    "        'x_train': x_train,\n",
    "        'y_train': y_train,\n",
    "        'x_test': x_test,\n",
    "        'y_test': y_test,\n",
    "        'predictions': predictions,\n",
    "        'R_sq': model.score(y_test, predictions)\n",
    "        'MSE': mean_squared_error(y_test, predictions)\n",
    "    }\n",
    "    return data\n"
   ]
  },
  {
   "cell_type": "code",
   "execution_count": null,
   "metadata": {},
   "outputs": [],
   "source": [
    "res = []\n",
    "for train in train_datasets:\n",
    "    for test in test_datasets:\n",
    "        res.append(train_test_LinReg(train.loc[:, train.columns!='logerror'], train['logerror'], test.loc[:, test.columns!='logerror'], test['logerror']))"
   ]
  },
  {
   "cell_type": "markdown",
   "metadata": {
    "id": "tHbgkxaTJqKL"
   },
   "source": [
    "### How did it go? - Evaluation\n",
    "We can now proceed with the evaluation of the results.\n",
    "\n",
    "The following tests will be used:\n",
    "\n",
    "\n",
    "*  Mean Squared Error\n",
    "*  R-squared index\n",
    "\n",
    "\n",
    "The evaluations will be done by using the [ScikitLearn Metrics](https://scikit-learn.org/stable/modules/classes.html#module-sklearn.metrics) module."
   ]
  },
  {
   "cell_type": "code",
   "execution_count": null,
   "metadata": {},
   "outputs": [],
   "source": [
    "def show_results_LinReg(parameters):\n",
    "    R_sq = model.score(parameters['x_test'],parameters['y_test']) #R-squared index\n",
    "    MSE = mean_squared_error(parameters['y_test'], parameters['predictions']) #Mean Squared Error\n",
    "\n",
    "    plt.scatter(parameters['x_train'], parameters['y_train'], color=\"darkorange\", label=\"data\")\n",
    "    plt.plot(parameters['x_test'], parameters['predictions'], color=\"navy\", label=\"prediction\")\n",
    "    plt.legend()\n",
    "    plt.title(f\"LinearRegressor\")\n",
    "    plt.tight_layout()\n",
    "    plt.show()\n",
    "\n",
    "plt.subplot(1)"
   ]
  },
  {
   "cell_type": "code",
   "execution_count": null,
   "metadata": {},
   "outputs": [],
   "source": [
    "for i in res:\n",
    "    show_results_LinReg(i)"
   ]
  },
  {
   "cell_type": "markdown",
   "metadata": {},
   "source": [
    "### Conclusions"
   ]
  }
 ],
 "metadata": {
  "colab": {
   "collapsed_sections": [],
   "name": "Prediction - Simonato.ipynb",
   "provenance": []
  },
  "kernelspec": {
   "display_name": "Python 3 (ipykernel)",
   "language": "python",
   "name": "python3"
  },
  "language_info": {
   "codemirror_mode": {
    "name": "ipython",
    "version": 3
   },
   "file_extension": ".py",
   "mimetype": "text/x-python",
   "name": "python",
   "nbconvert_exporter": "python",
   "pygments_lexer": "ipython3",
   "version": "3.9.12"
  }
 },
 "nbformat": 4,
 "nbformat_minor": 1
}
