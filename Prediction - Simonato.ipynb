{
 "cells": [
  {
   "cell_type": "markdown",
   "metadata": {
    "id": "ELPU3bTvsRXC"
   },
   "source": [
    "# Predictions \n",
    "## Niccolò Simonato \n",
    "## Data & Web Mining, Academic Year 2021-2022"
   ]
  },
  {
   "cell_type": "markdown",
   "metadata": {},
   "source": [
    "## Importing the dependencies and the cleaned dataset\n",
    "\n",
    "The cleaned dataset is now imported.\n",
    "\n",
    "The first snipped is intended to be used in the Google Drive environment, just set the path variable as needed.\n",
    "\n",
    "The second one is intended to be used in the Jupyter Notebook environment."
   ]
  },
  {
   "cell_type": "code",
   "execution_count": 1,
   "metadata": {},
   "outputs": [],
   "source": [
    "# dependencies\n",
    "import pandas as pd\n",
    "import matplotlib.pyplot as plt\n",
    "from math import floor, log10\n",
    "from sklearn import neighbors\n",
    "from sklearn.linear_model import LinearRegression\n",
    "from sklearn.metrics import accuracy_score, mean_squared_error, r2_score"
   ]
  },
  {
   "cell_type": "code",
   "execution_count": 2,
   "metadata": {
    "id": "_x2HBMo0iWLY"
   },
   "outputs": [],
   "source": [
    "# from google.colab import drive\n",
    "# drive.mount('/gdrive')\n",
    "# path = '/gdrive/MyDrive/Progetto DWM/Data/*.csv'\n",
    "# %cd /gdrive"
   ]
  },
  {
   "cell_type": "code",
   "execution_count": 3,
   "metadata": {
    "id": "OlRC0QJQiT25"
   },
   "outputs": [],
   "source": [
    "path = 'Data/'\n",
    "\n",
    "# cleaned_df = pd.read_csv(path, low_memory = False)\n",
    "train_datasets = []\n",
    "test_datasets = []\n",
    "\n",
    "for i in range(4):\n",
    "    train_datasets.append(pd.read_csv(f\"{path}train_dataset_2016_{i + 1}.csv\", low_memory = True))\n",
    "    test_datasets.append(pd.read_csv(f\"{path}test_dataset_2016_{i + 1}.csv\", low_memory = True))"
   ]
  },
  {
   "cell_type": "markdown",
   "metadata": {},
   "source": [
    "## Data Validation\n",
    "In order to prevent any exception to be raised, we will check the state of each dataset and will ensure that the data can be used."
   ]
  },
  {
   "cell_type": "code",
   "execution_count": 4,
   "metadata": {},
   "outputs": [
    {
     "data": {
      "text/html": [
       "<div>\n",
       "<style scoped>\n",
       "    .dataframe tbody tr th:only-of-type {\n",
       "        vertical-align: middle;\n",
       "    }\n",
       "\n",
       "    .dataframe tbody tr th {\n",
       "        vertical-align: top;\n",
       "    }\n",
       "\n",
       "    .dataframe thead th {\n",
       "        text-align: right;\n",
       "    }\n",
       "</style>\n",
       "<table border=\"1\" class=\"dataframe\">\n",
       "  <thead>\n",
       "    <tr style=\"text-align: right;\">\n",
       "      <th></th>\n",
       "      <th>Unnamed: 0</th>\n",
       "      <th>parcelid</th>\n",
       "      <th>airconditioningtypeid</th>\n",
       "      <th>bathroomcnt</th>\n",
       "      <th>bedroomcnt</th>\n",
       "      <th>buildingqualitytypeid</th>\n",
       "      <th>calculatedbathnbr</th>\n",
       "      <th>calculatedfinishedsquarefeet</th>\n",
       "      <th>finishedsquarefeet12</th>\n",
       "      <th>garagetotalsqft</th>\n",
       "      <th>...</th>\n",
       "      <th>N-life</th>\n",
       "      <th>N-LivingAreaError</th>\n",
       "      <th>N-LivingAreaProp</th>\n",
       "      <th>N-ExtraSpaceRatio</th>\n",
       "      <th>N-TotalRooms</th>\n",
       "      <th>N-ValueRatio</th>\n",
       "      <th>N-LogTaxScore</th>\n",
       "      <th>DD</th>\n",
       "      <th>MM</th>\n",
       "      <th>N-DaysInCurrentYear</th>\n",
       "    </tr>\n",
       "  </thead>\n",
       "  <tbody>\n",
       "    <tr>\n",
       "      <th>count</th>\n",
       "      <td>63945.000000</td>\n",
       "      <td>6.394500e+04</td>\n",
       "      <td>63945.000000</td>\n",
       "      <td>63945.000000</td>\n",
       "      <td>63945.000000</td>\n",
       "      <td>63945.000000</td>\n",
       "      <td>63945.000000</td>\n",
       "      <td>63945.000000</td>\n",
       "      <td>63945.000000</td>\n",
       "      <td>63945.000000</td>\n",
       "      <td>...</td>\n",
       "      <td>63945.000000</td>\n",
       "      <td>63945.0</td>\n",
       "      <td>63945.000000</td>\n",
       "      <td>63945.000000</td>\n",
       "      <td>63945.000000</td>\n",
       "      <td>63945.000000</td>\n",
       "      <td>63945.000000</td>\n",
       "      <td>63945.000000</td>\n",
       "      <td>63945.000000</td>\n",
       "      <td>63945.000000</td>\n",
       "    </tr>\n",
       "    <tr>\n",
       "      <th>mean</th>\n",
       "      <td>48882.100227</td>\n",
       "      <td>1.300342e+07</td>\n",
       "      <td>3.941497</td>\n",
       "      <td>2.272383</td>\n",
       "      <td>3.005145</td>\n",
       "      <td>5.520320</td>\n",
       "      <td>2.289866</td>\n",
       "      <td>1744.500774</td>\n",
       "      <td>1744.500774</td>\n",
       "      <td>120.441583</td>\n",
       "      <td>...</td>\n",
       "      <td>52.354883</td>\n",
       "      <td>1.0</td>\n",
       "      <td>0.251780</td>\n",
       "      <td>20.615233</td>\n",
       "      <td>5.277528</td>\n",
       "      <td>76.103164</td>\n",
       "      <td>9.148952</td>\n",
       "      <td>16.356807</td>\n",
       "      <td>5.866151</td>\n",
       "      <td>164.286027</td>\n",
       "    </tr>\n",
       "    <tr>\n",
       "      <th>std</th>\n",
       "      <td>28905.336939</td>\n",
       "      <td>2.423721e+06</td>\n",
       "      <td>2.286957</td>\n",
       "      <td>0.941331</td>\n",
       "      <td>1.010511</td>\n",
       "      <td>1.531799</td>\n",
       "      <td>1.016676</td>\n",
       "      <td>904.481611</td>\n",
       "      <td>904.481611</td>\n",
       "      <td>226.425010</td>\n",
       "      <td>...</td>\n",
       "      <td>23.011905</td>\n",
       "      <td>0.0</td>\n",
       "      <td>0.208977</td>\n",
       "      <td>90.174812</td>\n",
       "      <td>1.745108</td>\n",
       "      <td>32.475617</td>\n",
       "      <td>0.682353</td>\n",
       "      <td>9.002009</td>\n",
       "      <td>2.811784</td>\n",
       "      <td>85.762695</td>\n",
       "    </tr>\n",
       "    <tr>\n",
       "      <th>min</th>\n",
       "      <td>0.000000</td>\n",
       "      <td>1.071174e+07</td>\n",
       "      <td>1.000000</td>\n",
       "      <td>0.000000</td>\n",
       "      <td>0.000000</td>\n",
       "      <td>1.000000</td>\n",
       "      <td>1.000000</td>\n",
       "      <td>2.000000</td>\n",
       "      <td>2.000000</td>\n",
       "      <td>0.000000</td>\n",
       "      <td>...</td>\n",
       "      <td>7.000000</td>\n",
       "      <td>1.0</td>\n",
       "      <td>0.000179</td>\n",
       "      <td>-0.913021</td>\n",
       "      <td>0.000000</td>\n",
       "      <td>2.548288</td>\n",
       "      <td>4.824880</td>\n",
       "      <td>1.000000</td>\n",
       "      <td>1.000000</td>\n",
       "      <td>1.000000</td>\n",
       "    </tr>\n",
       "    <tr>\n",
       "      <th>25%</th>\n",
       "      <td>16874.000000</td>\n",
       "      <td>1.154290e+07</td>\n",
       "      <td>1.000000</td>\n",
       "      <td>2.000000</td>\n",
       "      <td>2.000000</td>\n",
       "      <td>4.000000</td>\n",
       "      <td>2.000000</td>\n",
       "      <td>1172.000000</td>\n",
       "      <td>1172.000000</td>\n",
       "      <td>0.000000</td>\n",
       "      <td>...</td>\n",
       "      <td>35.000000</td>\n",
       "      <td>1.0</td>\n",
       "      <td>0.142578</td>\n",
       "      <td>2.210273</td>\n",
       "      <td>4.000000</td>\n",
       "      <td>70.579142</td>\n",
       "      <td>8.756067</td>\n",
       "      <td>8.000000</td>\n",
       "      <td>4.000000</td>\n",
       "      <td>97.000000</td>\n",
       "    </tr>\n",
       "    <tr>\n",
       "      <th>50%</th>\n",
       "      <td>56386.000000</td>\n",
       "      <td>1.258800e+07</td>\n",
       "      <td>5.000000</td>\n",
       "      <td>2.000000</td>\n",
       "      <td>3.000000</td>\n",
       "      <td>5.565407</td>\n",
       "      <td>2.000000</td>\n",
       "      <td>1516.000000</td>\n",
       "      <td>1516.000000</td>\n",
       "      <td>0.000000</td>\n",
       "      <td>...</td>\n",
       "      <td>51.000000</td>\n",
       "      <td>1.0</td>\n",
       "      <td>0.214267</td>\n",
       "      <td>3.667084</td>\n",
       "      <td>5.000000</td>\n",
       "      <td>79.546204</td>\n",
       "      <td>9.182151</td>\n",
       "      <td>16.000000</td>\n",
       "      <td>6.000000</td>\n",
       "      <td>167.000000</td>\n",
       "    </tr>\n",
       "    <tr>\n",
       "      <th>75%</th>\n",
       "      <td>73348.000000</td>\n",
       "      <td>1.425320e+07</td>\n",
       "      <td>5.000000</td>\n",
       "      <td>3.000000</td>\n",
       "      <td>4.000000</td>\n",
       "      <td>7.000000</td>\n",
       "      <td>3.000000</td>\n",
       "      <td>2059.000000</td>\n",
       "      <td>2059.000000</td>\n",
       "      <td>0.000000</td>\n",
       "      <td>...</td>\n",
       "      <td>68.000000</td>\n",
       "      <td>1.0</td>\n",
       "      <td>0.311500</td>\n",
       "      <td>6.013694</td>\n",
       "      <td>6.000000</td>\n",
       "      <td>84.462565</td>\n",
       "      <td>9.560981</td>\n",
       "      <td>24.000000</td>\n",
       "      <td>8.000000</td>\n",
       "      <td>232.000000</td>\n",
       "    </tr>\n",
       "    <tr>\n",
       "      <th>max</th>\n",
       "      <td>90272.000000</td>\n",
       "      <td>1.629608e+08</td>\n",
       "      <td>13.000000</td>\n",
       "      <td>20.000000</td>\n",
       "      <td>10.000000</td>\n",
       "      <td>12.000000</td>\n",
       "      <td>20.000000</td>\n",
       "      <td>20013.000000</td>\n",
       "      <td>20013.000000</td>\n",
       "      <td>7339.000000</td>\n",
       "      <td>...</td>\n",
       "      <td>137.000000</td>\n",
       "      <td>1.0</td>\n",
       "      <td>11.497006</td>\n",
       "      <td>5584.745192</td>\n",
       "      <td>23.000000</td>\n",
       "      <td>4997.622067</td>\n",
       "      <td>12.951033</td>\n",
       "      <td>31.000000</td>\n",
       "      <td>12.000000</td>\n",
       "      <td>365.000000</td>\n",
       "    </tr>\n",
       "  </tbody>\n",
       "</table>\n",
       "<p>8 rows × 36 columns</p>\n",
       "</div>"
      ],
      "text/plain": [
       "         Unnamed: 0      parcelid  airconditioningtypeid   bathroomcnt  \\\n",
       "count  63945.000000  6.394500e+04           63945.000000  63945.000000   \n",
       "mean   48882.100227  1.300342e+07               3.941497      2.272383   \n",
       "std    28905.336939  2.423721e+06               2.286957      0.941331   \n",
       "min        0.000000  1.071174e+07               1.000000      0.000000   \n",
       "25%    16874.000000  1.154290e+07               1.000000      2.000000   \n",
       "50%    56386.000000  1.258800e+07               5.000000      2.000000   \n",
       "75%    73348.000000  1.425320e+07               5.000000      3.000000   \n",
       "max    90272.000000  1.629608e+08              13.000000     20.000000   \n",
       "\n",
       "         bedroomcnt  buildingqualitytypeid  calculatedbathnbr  \\\n",
       "count  63945.000000           63945.000000       63945.000000   \n",
       "mean       3.005145               5.520320           2.289866   \n",
       "std        1.010511               1.531799           1.016676   \n",
       "min        0.000000               1.000000           1.000000   \n",
       "25%        2.000000               4.000000           2.000000   \n",
       "50%        3.000000               5.565407           2.000000   \n",
       "75%        4.000000               7.000000           3.000000   \n",
       "max       10.000000              12.000000          20.000000   \n",
       "\n",
       "       calculatedfinishedsquarefeet  finishedsquarefeet12  garagetotalsqft  \\\n",
       "count                  63945.000000          63945.000000     63945.000000   \n",
       "mean                    1744.500774           1744.500774       120.441583   \n",
       "std                      904.481611            904.481611       226.425010   \n",
       "min                        2.000000              2.000000         0.000000   \n",
       "25%                     1172.000000           1172.000000         0.000000   \n",
       "50%                     1516.000000           1516.000000         0.000000   \n",
       "75%                     2059.000000           2059.000000         0.000000   \n",
       "max                    20013.000000          20013.000000      7339.000000   \n",
       "\n",
       "       ...        N-life  N-LivingAreaError  N-LivingAreaProp  \\\n",
       "count  ...  63945.000000            63945.0      63945.000000   \n",
       "mean   ...     52.354883                1.0          0.251780   \n",
       "std    ...     23.011905                0.0          0.208977   \n",
       "min    ...      7.000000                1.0          0.000179   \n",
       "25%    ...     35.000000                1.0          0.142578   \n",
       "50%    ...     51.000000                1.0          0.214267   \n",
       "75%    ...     68.000000                1.0          0.311500   \n",
       "max    ...    137.000000                1.0         11.497006   \n",
       "\n",
       "       N-ExtraSpaceRatio  N-TotalRooms  N-ValueRatio  N-LogTaxScore  \\\n",
       "count       63945.000000  63945.000000  63945.000000   63945.000000   \n",
       "mean           20.615233      5.277528     76.103164       9.148952   \n",
       "std            90.174812      1.745108     32.475617       0.682353   \n",
       "min            -0.913021      0.000000      2.548288       4.824880   \n",
       "25%             2.210273      4.000000     70.579142       8.756067   \n",
       "50%             3.667084      5.000000     79.546204       9.182151   \n",
       "75%             6.013694      6.000000     84.462565       9.560981   \n",
       "max          5584.745192     23.000000   4997.622067      12.951033   \n",
       "\n",
       "                 DD            MM  N-DaysInCurrentYear  \n",
       "count  63945.000000  63945.000000         63945.000000  \n",
       "mean      16.356807      5.866151           164.286027  \n",
       "std        9.002009      2.811784            85.762695  \n",
       "min        1.000000      1.000000             1.000000  \n",
       "25%        8.000000      4.000000            97.000000  \n",
       "50%       16.000000      6.000000           167.000000  \n",
       "75%       24.000000      8.000000           232.000000  \n",
       "max       31.000000     12.000000           365.000000  \n",
       "\n",
       "[8 rows x 36 columns]"
      ]
     },
     "execution_count": 4,
     "metadata": {},
     "output_type": "execute_result"
    }
   ],
   "source": [
    "train_datasets[1].describe(include='all')"
   ]
  },
  {
   "cell_type": "markdown",
   "metadata": {},
   "source": [
    "Since we don't have any real use for it, we can drop the `parcelid` feature."
   ]
  },
  {
   "cell_type": "code",
   "execution_count": 5,
   "metadata": {},
   "outputs": [],
   "source": [
    "for i in train_datasets:\n",
    "    i.drop(['parcelid'], axis=1, inplace=True)\n",
    "\n",
    "for i in test_datasets:\n",
    "    i.drop(['parcelid'], axis=1, inplace=True)"
   ]
  },
  {
   "cell_type": "markdown",
   "metadata": {
    "id": "Ar8xvJ5kbrgl"
   },
   "source": [
    "## Predictions - Attempt 1 - k-NN algorithm"
   ]
  },
  {
   "cell_type": "markdown",
   "metadata": {
    "id": "9TdV2Wm4b8jx"
   },
   "source": [
    "### Why k-NN? - Introduction \n",
    "I chose the k-NN algorithm because, usually, the house construction doesn't happen randomly. It's really unusual that a private party builds his own house, with his own money, and wherever he likes: it's more likely that the municipality's dedicated office decides where and how the houses of a given zone are going to be buildt. \n",
    "\n",
    "Therefore, i think is safe to assume that houses of a given zone will have similar prices. The k-NN hopefully will help achiving this target. \n",
    "\n",
    "This attempt will use the [ScikitLearn implementation](https://scikit-learn.org/stable/modules/generated/sklearn.neighbors.KNeighborsRegressor.html#sklearn.neighbors.KNeighborsRegressor) of the k-NN algorithm for prediction.\n",
    "\n",
    "The first attempt will be conducted with the parameter `weights` set as \"uniform\", the second one will use the value \"distance\".\n",
    "\n",
    "The model will be tested with a number of neighbors beetween 6 and 8, because usually these are the value that yield the best results.\n",
    "\n",
    "The following snippet contains the functions that wraps the described procedure."
   ]
  },
  {
   "cell_type": "code",
   "execution_count": 6,
   "metadata": {
    "id": "7FkaJft9tOR2"
   },
   "outputs": [],
   "source": [
    "n_neighbors = [3,4,5,6]\n",
    "    \n",
    "def train_test_kNN(x_train, y_train, x_test, y_test, n_neighbors, w='distance'):\n",
    "    knn = neighbors.KNeighborsRegressor(n_neighbors, weights=w)\n",
    "    model = knn.fit(x_train, y_train)\n",
    "    prediction = model.predict(x_test)\n",
    "    scores = model.score(x_test, y_test)\n",
    "    data = {'x_train': x_train,\n",
    "            'y_train': y_train,\n",
    "            'x_test': x_test,\n",
    "            'y_test': y_test,\n",
    "            'n_neighbors': n_neighbors, \n",
    "            'weights': w,\n",
    "            'prediction': prediction,\n",
    "            'score' : scores,\n",
    "            'MSE': mean_squared_error(y_test,prediction)\n",
    "           }\n",
    "    return data"
   ]
  },
  {
   "cell_type": "code",
   "execution_count": null,
   "metadata": {},
   "outputs": [],
   "source": [
    "%%time\n",
    "results = []\n",
    "types = ['distance', 'uniform']\n",
    "to_Y = ['logerror']\n",
    "to_X = list(set(train.columns) - set('logerror'))\n",
    "train, test = None, None\n",
    "for i in range(len(train_datasets)):\n",
    "    for j in range(len(test_datasets)):\n",
    "        if i != j:\n",
    "            train = train_datasets[i]\n",
    "            test  = test_datasets[j]\n",
    "            for n in n_neighbors:\n",
    "                for w in types:\n",
    "                    results.append(train_test_kNN(train[to_X], train[to_Y], test[to_X], test[to_Y], n, w))       "
   ]
  },
  {
   "cell_type": "markdown",
   "metadata": {
    "id": "CPlmoW8Bd0UP"
   },
   "source": [
    "### How did it go? - Evaluation\n",
    "After obtaining the results, we can proceed with the evaluation of the results.\n",
    "\n",
    "In order to keep this notebook as clean as possible, the evaluation will be done with the built-in evaluator of the KNeighborsRegressor object. The built-in functions uses the $R^2$ index, the coefficient of determination that is $1 - \\frac{u}{v}$, where $u$ is the residual sum of squares and $v$ is the total sum of squares."
   ]
  },
  {
   "cell_type": "code",
   "execution_count": 8,
   "metadata": {
    "id": "dkMbdppjvYVu"
   },
   "outputs": [],
   "source": [
    "def show_results_kNN(data):\n",
    "    fig = plt.figure()\n",
    "    ax = fig.add_subplot(2, 1, 1)\n",
    "    \n",
    "    for parameters in data:\n",
    "        if parameters['weights'] == \"uniform\":\n",
    "            col = 'darkorange'\n",
    "        else:\n",
    "            col = 'blue'\n",
    "        ax.scatter(parameters['n_neighbors'], parameters['score'], color=col, label='data')\n",
    "        ax.get_yaxis().get_major_formatter().set_useOffset(False)\n",
    "    plt.xticks(ticks=n_neighbors)\n",
    "    plt.xlabel(\"Number of neighbors\")\n",
    "    plt.title(f\"KNeighborsRegressor\")   \n",
    "    plt.show()"
   ]
  },
  {
   "cell_type": "code",
   "execution_count": 9,
   "metadata": {},
   "outputs": [
    {
     "data": {
      "image/png": "[encoded data removed]",
      "text/plain": [
       "<Figure size 432x288 with 1 Axes>"
      ]
     },
     "metadata": {
      "needs_background": "light"
     },
     "output_type": "display_data"
    }
   ],
   "source": [
    "show_results_kNN(results)"
   ]
  },
  {
   "cell_type": "markdown",
   "metadata": {},
   "source": [
    "Basing on these results, it seems like the best results are yielded by using the weights parameter set as ‘distance’ (it weights points by the inverse of their distance, so closer neighbors of a query point will have a greater influence).\n",
    "\n",
    "It is necessary to remind that by default the \"distance\" used in those cases is the Minkowski distance. With other parameters, it may have yielded other results, but for the purpose of this project it is a reasonable choice.\n",
    "\n",
    "Let's focus on the results of those experiments that yielded the best results, in order to obtain more insights.\n",
    "\n",
    "The experiments conducted by using the \"distance\" value as the `weights` parameter may be overfitted, since all their results yielded a 1.0 score value. Let's filter them out and see what happened."
   ]
  },
  {
   "cell_type": "code",
   "execution_count": 10,
   "metadata": {},
   "outputs": [
    {
     "data": {
      "image/png": "[encoded data removed]",
      "text/plain": [
       "<Figure size 432x288 with 1 Axes>"
      ]
     },
     "metadata": {
      "needs_background": "light"
     },
     "output_type": "display_data"
    }
   ],
   "source": [
    "weighted_crit = lambda r: r['weights'] == 'distance'\n",
    "weighted_results = filter(weighted_crit, results)\n",
    "show_results_kNN(weighted_results)"
   ]
  },
  {
   "cell_type": "markdown",
   "metadata": {},
   "source": [
    "As we can see, they are not as bad as it seemed. \n",
    "\n",
    "We can conclude that this value for the `weights` parameter yields good results. We can speculate that the results seems to get better as we reduce the number of neighbors that we explore, but we should make a more thorough analysis.\n",
    "\n",
    "We can proceed by exploring the results for the other value of the `weights` parameter."
   ]
  },
  {
   "cell_type": "code",
   "execution_count": 11,
   "metadata": {},
   "outputs": [
    {
     "data": {
      "image/png": "[encoded data removed]",
      "text/plain": [
       "<Figure size 432x288 with 1 Axes>"
      ]
     },
     "metadata": {
      "needs_background": "light"
     },
     "output_type": "display_data"
    }
   ],
   "source": [
    "uniform_results = filter(lambda r: not weighted_crit(r), results)\n",
    "show_results_kNN(uniform_results)"
   ]
  },
  {
   "cell_type": "markdown",
   "metadata": {},
   "source": [
    "It's clear that these results yielded a much lower score, but it still looks like they get better as the number of neighbors considered decreases."
   ]
  },
  {
   "cell_type": "markdown",
   "metadata": {
    "id": "fVUf7WUQcI33"
   },
   "source": [
    "## Predictions - Attempt 2 - Linear Regression"
   ]
  },
  {
   "cell_type": "markdown",
   "metadata": {
    "id": "0jkCHkx0Hdsj"
   },
   "source": [
    "### Why Linear Regression? - Introduction\n",
    "The idea behind the adoption of the LinReg model is correlated to the low integrity of the inititial dataset. \n",
    "\n",
    "In contrast with the previously analyzed model, this is an attempt to see what would happen with an \"assumption-free\" model. It is expected that this type of analysis will underline some unseen correlations, and also will produce some interesting predictions.\n",
    "\n",
    "This test will be conducted with the [ScikitLearn implementation](https://scikit-learn.org/stable/modules/generated/sklearn.linear_model.LinearRegression.html) of the LinearRegression."
   ]
  },
  {
   "cell_type": "code",
   "execution_count": 12,
   "metadata": {
    "id": "3N2szLiTv7Oi"
   },
   "outputs": [],
   "source": [
    "def train_test_LinReg(x_train, y_train, x_test, y_test):\n",
    "    model = LinearRegression().fit(x_train, y_train)\n",
    "    predictions = model.predict(x_test)\n",
    "    data = {\n",
    "        'x_train': x_train,\n",
    "        'y_train': y_train,\n",
    "        'x_test': x_test,\n",
    "        'y_test': y_test,\n",
    "        'predictions': predictions,\n",
    "        'R_sq': model.score(x_test, predictions),\n",
    "        'MSE': mean_squared_error(y_test, predictions),\n",
    "        'Adj_R_sq': 1 - (1-model.score(x_test, predictions))*(len(predictions)-1)/(len(predictions)-x_test.shape[1]-1)\n",
    "    }\n",
    "    return data\n"
   ]
  },
  {
   "cell_type": "code",
   "execution_count": 13,
   "metadata": {},
   "outputs": [
    {
     "ename": "NameError",
     "evalue": "name 'train' is not defined",
     "output_type": "error",
     "traceback": [
      "\u001b[1;31m---------------------------------------------------------------------------\u001b[0m",
      "\u001b[1;31mNameError\u001b[0m                                 Traceback (most recent call last)",
      "File \u001b[1;32m<timed exec>:3\u001b[0m, in \u001b[0;36m<module>\u001b[1;34m\u001b[0m\n",
      "\u001b[1;31mNameError\u001b[0m: name 'train' is not defined"
     ]
    }
   ],
   "source": [
    "%%time\n",
    "res = []\n",
    "to_Y = ['logerror']\n",
    "to_X = list(set(train.columns) - set('logerror'))\n",
    "for i in range(len(train_datasets)):\n",
    "    for j in range(len(test_datasets)):\n",
    "        if i != j:\n",
    "            train = train_datasets[i]\n",
    "            test  = test_datasets[j]\n",
    "            for n in n_neighbors:\n",
    "                for w in types:\n",
    "                    res.append(train_test_LinReg(train[to_X], train[to_Y], test[to_X], test[to_Y]))"
   ]
  },
  {
   "cell_type": "markdown",
   "metadata": {
    "id": "tHbgkxaTJqKL"
   },
   "source": [
    "### How did it go? - Evaluation\n",
    "We can now proceed with the evaluation of the results.\n",
    "\n",
    "The following tests will be used:\n",
    "\n",
    "\n",
    "*  Mean Squared Error\n",
    "*  R-squared index\n",
    "*  Adjusted R-squared index\n",
    "\n",
    "\n",
    "The evaluations will be done by using the [ScikitLearn Metrics](https://scikit-learn.org/stable/modules/classes.html#module-sklearn.metrics) module."
   ]
  },
  {
   "cell_type": "code",
   "execution_count": 14,
   "metadata": {},
   "outputs": [],
   "source": [
    "def show_results_LinReg(results):\n",
    "    for i in range(len(results)):\n",
    "        parameters = results[i]\n",
    "        print(f\"Experiment number {i}: {' ' * (4 - floor(log10(i + 1)))} R_sq index = {parameters['R_sq']}, \" + \n",
    "              f\"MSE = {parameters['MSE']}, Adj_R_sq index = {parameters['Adj_R_sq']}\")"
   ]
  },
  {
   "cell_type": "code",
   "execution_count": 15,
   "metadata": {},
   "outputs": [],
   "source": [
    "show_results_LinReg(res)"
   ]
  },
  {
   "cell_type": "markdown",
   "metadata": {},
   "source": [
    "By looking at the results it is clear that the results are too good to be true. It is clear that this is a case of overfitting. [This article](https://statisticsbyjim.com/regression/r-squared-too-high/) explains the other possible reasons of these results."
   ]
  },
  {
   "cell_type": "markdown",
   "metadata": {},
   "source": [
    "### Conclusions"
   ]
  },
  {
   "cell_type": "code",
   "execution_count": null,
   "metadata": {},
   "outputs": [],
   "source": []
  },
  {
   "cell_type": "code",
   "execution_count": 16,
   "metadata": {},
   "outputs": [
    {
     "name": "stdout",
     "output_type": "stream",
     "text": [
      "CPU times: total: 58.5 s\n",
      "Wall time: 36.2 s\n"
     ]
    }
   ],
   "source": [
    "%%time\n",
    "train = train_datasets[1]\n",
    "test = test_datasets[1]\n",
    "to_Y = ['logerror']\n",
    "to_X = list(set(train.columns) - set('logerror'))\n",
    "result = train_test_kNN(train[to_X], train[to_Y], test[to_X], test[to_Y], 5)"
   ]
  },
  {
   "cell_type": "code",
   "execution_count": null,
   "metadata": {},
   "outputs": [],
   "source": []
  }
 ],
 "metadata": {
  "colab": {
   "collapsed_sections": [],
   "name": "Prediction - Simonato.ipynb",
   "provenance": []
  },
  "kernelspec": {
   "display_name": "Python 3 (ipykernel)",
   "language": "python",
   "name": "python3"
  },
  "language_info": {
   "codemirror_mode": {
    "name": "ipython",
    "version": 3
   },
   "file_extension": ".py",
   "mimetype": "text/x-python",
   "name": "python",
   "nbconvert_exporter": "python",
   "pygments_lexer": "ipython3",
   "version": "3.9.12"
  }
 },
 "nbformat": 4,
 "nbformat_minor": 1
}
