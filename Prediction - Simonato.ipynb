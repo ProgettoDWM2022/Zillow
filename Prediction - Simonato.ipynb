{
 "cells": [
  {
   "cell_type": "markdown",
   "metadata": {
    "id": "ELPU3bTvsRXC"
   },
   "source": [
    "# Predictions \n",
    "## Niccolò Simonato \n",
    "## Data & Web Mining, Academic Year 2021-2022"
   ]
  },
  {
   "cell_type": "markdown",
   "metadata": {},
   "source": [
    "## Importing the dependencies and the cleaned dataset\n",
    "\n",
    "The cleaned dataset is now imported.\n",
    "\n",
    "The first snipped is intended to be used in the Google Drive environment, just set the path variable as needed.\n",
    "\n",
    "The second one is intended to be used in the Jupyter Notebook environment."
   ]
  },
  {
   "cell_type": "code",
   "execution_count": 1,
   "metadata": {},
   "outputs": [],
   "source": [
    "# dependencies\n",
    "import pandas as pd\n",
    "import matplotlib.pyplot as plt\n",
    "from datetime import datetime\n",
    "from math import floor, log10\n",
    "from sklearn import neighbors\n",
    "from sklearn.linear_model import LinearRegression\n",
    "from sklearn.metrics import accuracy_score, mean_squared_error, r2_score"
   ]
  },
  {
   "cell_type": "code",
   "execution_count": 2,
   "metadata": {
    "id": "_x2HBMo0iWLY"
   },
   "outputs": [],
   "source": [
    "# from google.colab import drive\n",
    "# drive.mount('/gdrive')\n",
    "# path = '/gdrive/MyDrive/Progetto DWM/Data/*.csv'\n",
    "# %cd /gdrive"
   ]
  },
  {
   "cell_type": "code",
   "execution_count": 3,
   "metadata": {
    "id": "OlRC0QJQiT25"
   },
   "outputs": [],
   "source": [
    "path = 'Data/'\n",
    "\n",
    "# cleaned_df = pd.read_csv(path, low_memory = False)\n",
    "train_datasets = []\n",
    "test_datasets = []\n",
    "\n",
    "for i in range(4):\n",
    "    train_datasets.append(pd.read_csv(f\"{path}train_dataset_2016_{i + 1}.csv\", low_memory = True))\n",
    "    test_datasets.append(pd.read_csv(f\"{path}test_dataset_2016_{i + 1}.csv\", low_memory = True))"
   ]
  },
  {
   "cell_type": "markdown",
   "metadata": {},
   "source": [
    "## Data Validation\n",
    "In order to prevent any exception to be raised, we will check the state of each dataset and will ensure that the data can be used."
   ]
  },
  {
   "cell_type": "code",
   "execution_count": 4,
   "metadata": {},
   "outputs": [
    {
     "data": {
      "text/html": [
       "<div>\n",
       "<style scoped>\n",
       "    .dataframe tbody tr th:only-of-type {\n",
       "        vertical-align: middle;\n",
       "    }\n",
       "\n",
       "    .dataframe tbody tr th {\n",
       "        vertical-align: top;\n",
       "    }\n",
       "\n",
       "    .dataframe thead th {\n",
       "        text-align: right;\n",
       "    }\n",
       "</style>\n",
       "<table border=\"1\" class=\"dataframe\">\n",
       "  <thead>\n",
       "    <tr style=\"text-align: right;\">\n",
       "      <th></th>\n",
       "      <th>Unnamed: 0</th>\n",
       "      <th>parcelid</th>\n",
       "      <th>bathroomcnt</th>\n",
       "      <th>bedroomcnt</th>\n",
       "      <th>buildingqualitytypeid</th>\n",
       "      <th>calculatedfinishedsquarefeet</th>\n",
       "      <th>finishedsquarefeet12</th>\n",
       "      <th>latitude</th>\n",
       "      <th>longitude</th>\n",
       "      <th>lotsizesquarefeet</th>\n",
       "      <th>...</th>\n",
       "      <th>assessmentyear</th>\n",
       "      <th>landtaxvaluedollarcnt</th>\n",
       "      <th>taxamount</th>\n",
       "      <th>logerror</th>\n",
       "      <th>N-LivingAreaError</th>\n",
       "      <th>N-LivingAreaProp</th>\n",
       "      <th>N-ValueRatio</th>\n",
       "      <th>N-LogTaxScore</th>\n",
       "      <th>DD</th>\n",
       "      <th>N-DaysInCurrentYear</th>\n",
       "    </tr>\n",
       "  </thead>\n",
       "  <tbody>\n",
       "    <tr>\n",
       "      <th>count</th>\n",
       "      <td>63945.000000</td>\n",
       "      <td>6.394500e+04</td>\n",
       "      <td>63945.000000</td>\n",
       "      <td>63945.000000</td>\n",
       "      <td>63945.000000</td>\n",
       "      <td>63945.000000</td>\n",
       "      <td>63945.000000</td>\n",
       "      <td>63945.000000</td>\n",
       "      <td>63945.000000</td>\n",
       "      <td>63945.000000</td>\n",
       "      <td>...</td>\n",
       "      <td>63945.0</td>\n",
       "      <td>63945.000000</td>\n",
       "      <td>63945.000000</td>\n",
       "      <td>63945.000000</td>\n",
       "      <td>63945.0</td>\n",
       "      <td>63945.000000</td>\n",
       "      <td>63945.000000</td>\n",
       "      <td>63945.000000</td>\n",
       "      <td>63945.000000</td>\n",
       "      <td>63945.000000</td>\n",
       "    </tr>\n",
       "    <tr>\n",
       "      <th>mean</th>\n",
       "      <td>48882.100227</td>\n",
       "      <td>1.300342e+07</td>\n",
       "      <td>2.272383</td>\n",
       "      <td>3.005145</td>\n",
       "      <td>5.520320</td>\n",
       "      <td>1744.500774</td>\n",
       "      <td>1744.500774</td>\n",
       "      <td>45.123354</td>\n",
       "      <td>66.106881</td>\n",
       "      <td>3.976152</td>\n",
       "      <td>...</td>\n",
       "      <td>2015.0</td>\n",
       "      <td>5.208905</td>\n",
       "      <td>5961.794141</td>\n",
       "      <td>0.012324</td>\n",
       "      <td>1.0</td>\n",
       "      <td>0.251780</td>\n",
       "      <td>76.103164</td>\n",
       "      <td>9.148952</td>\n",
       "      <td>16.356807</td>\n",
       "      <td>164.286027</td>\n",
       "    </tr>\n",
       "    <tr>\n",
       "      <th>std</th>\n",
       "      <td>28905.336939</td>\n",
       "      <td>2.423721e+06</td>\n",
       "      <td>0.941331</td>\n",
       "      <td>1.010511</td>\n",
       "      <td>1.531799</td>\n",
       "      <td>904.481611</td>\n",
       "      <td>904.481611</td>\n",
       "      <td>18.146744</td>\n",
       "      <td>19.240454</td>\n",
       "      <td>0.471434</td>\n",
       "      <td>...</td>\n",
       "      <td>0.0</td>\n",
       "      <td>0.478561</td>\n",
       "      <td>6908.052778</td>\n",
       "      <td>0.155913</td>\n",
       "      <td>0.0</td>\n",
       "      <td>0.208977</td>\n",
       "      <td>32.475617</td>\n",
       "      <td>0.682353</td>\n",
       "      <td>9.002009</td>\n",
       "      <td>85.762695</td>\n",
       "    </tr>\n",
       "    <tr>\n",
       "      <th>min</th>\n",
       "      <td>0.000000</td>\n",
       "      <td>1.071174e+07</td>\n",
       "      <td>0.000000</td>\n",
       "      <td>0.000000</td>\n",
       "      <td>1.000000</td>\n",
       "      <td>2.000000</td>\n",
       "      <td>2.000000</td>\n",
       "      <td>0.000000</td>\n",
       "      <td>0.000000</td>\n",
       "      <td>2.222716</td>\n",
       "      <td>...</td>\n",
       "      <td>2015.0</td>\n",
       "      <td>2.973128</td>\n",
       "      <td>64.000000</td>\n",
       "      <td>-3.194000</td>\n",
       "      <td>1.0</td>\n",
       "      <td>0.000179</td>\n",
       "      <td>2.548288</td>\n",
       "      <td>4.824880</td>\n",
       "      <td>1.000000</td>\n",
       "      <td>1.000000</td>\n",
       "    </tr>\n",
       "    <tr>\n",
       "      <th>25%</th>\n",
       "      <td>16874.000000</td>\n",
       "      <td>1.154290e+07</td>\n",
       "      <td>2.000000</td>\n",
       "      <td>2.000000</td>\n",
       "      <td>4.000000</td>\n",
       "      <td>1172.000000</td>\n",
       "      <td>1172.000000</td>\n",
       "      <td>31.704379</td>\n",
       "      <td>54.464561</td>\n",
       "      <td>3.740521</td>\n",
       "      <td>...</td>\n",
       "      <td>2015.0</td>\n",
       "      <td>4.912222</td>\n",
       "      <td>2868.820000</td>\n",
       "      <td>-0.024300</td>\n",
       "      <td>1.0</td>\n",
       "      <td>0.142578</td>\n",
       "      <td>70.579142</td>\n",
       "      <td>8.756067</td>\n",
       "      <td>8.000000</td>\n",
       "      <td>97.000000</td>\n",
       "    </tr>\n",
       "    <tr>\n",
       "      <th>50%</th>\n",
       "      <td>56386.000000</td>\n",
       "      <td>1.258800e+07</td>\n",
       "      <td>2.000000</td>\n",
       "      <td>3.000000</td>\n",
       "      <td>5.565407</td>\n",
       "      <td>1516.000000</td>\n",
       "      <td>1516.000000</td>\n",
       "      <td>46.238134</td>\n",
       "      <td>67.877974</td>\n",
       "      <td>3.850340</td>\n",
       "      <td>...</td>\n",
       "      <td>2015.0</td>\n",
       "      <td>5.285692</td>\n",
       "      <td>4534.620000</td>\n",
       "      <td>0.006000</td>\n",
       "      <td>1.0</td>\n",
       "      <td>0.214267</td>\n",
       "      <td>79.546204</td>\n",
       "      <td>9.182151</td>\n",
       "      <td>16.000000</td>\n",
       "      <td>167.000000</td>\n",
       "    </tr>\n",
       "    <tr>\n",
       "      <th>75%</th>\n",
       "      <td>73348.000000</td>\n",
       "      <td>1.425320e+07</td>\n",
       "      <td>3.000000</td>\n",
       "      <td>4.000000</td>\n",
       "      <td>7.000000</td>\n",
       "      <td>2059.000000</td>\n",
       "      <td>2059.000000</td>\n",
       "      <td>56.600059</td>\n",
       "      <td>80.998193</td>\n",
       "      <td>4.056600</td>\n",
       "      <td>...</td>\n",
       "      <td>2015.0</td>\n",
       "      <td>5.538953</td>\n",
       "      <td>6865.160000</td>\n",
       "      <td>0.038300</td>\n",
       "      <td>1.0</td>\n",
       "      <td>0.311500</td>\n",
       "      <td>84.462565</td>\n",
       "      <td>9.560981</td>\n",
       "      <td>24.000000</td>\n",
       "      <td>232.000000</td>\n",
       "    </tr>\n",
       "    <tr>\n",
       "      <th>max</th>\n",
       "      <td>90272.000000</td>\n",
       "      <td>1.629608e+08</td>\n",
       "      <td>20.000000</td>\n",
       "      <td>10.000000</td>\n",
       "      <td>12.000000</td>\n",
       "      <td>20013.000000</td>\n",
       "      <td>20013.000000</td>\n",
       "      <td>100.000000</td>\n",
       "      <td>100.000000</td>\n",
       "      <td>6.843296</td>\n",
       "      <td>...</td>\n",
       "      <td>2015.0</td>\n",
       "      <td>7.389166</td>\n",
       "      <td>321936.090000</td>\n",
       "      <td>4.737000</td>\n",
       "      <td>1.0</td>\n",
       "      <td>11.497006</td>\n",
       "      <td>4997.622067</td>\n",
       "      <td>12.951033</td>\n",
       "      <td>31.000000</td>\n",
       "      <td>365.000000</td>\n",
       "    </tr>\n",
       "  </tbody>\n",
       "</table>\n",
       "<p>8 rows × 27 columns</p>\n",
       "</div>"
      ],
      "text/plain": [
       "         Unnamed: 0      parcelid   bathroomcnt    bedroomcnt  \\\n",
       "count  63945.000000  6.394500e+04  63945.000000  63945.000000   \n",
       "mean   48882.100227  1.300342e+07      2.272383      3.005145   \n",
       "std    28905.336939  2.423721e+06      0.941331      1.010511   \n",
       "min        0.000000  1.071174e+07      0.000000      0.000000   \n",
       "25%    16874.000000  1.154290e+07      2.000000      2.000000   \n",
       "50%    56386.000000  1.258800e+07      2.000000      3.000000   \n",
       "75%    73348.000000  1.425320e+07      3.000000      4.000000   \n",
       "max    90272.000000  1.629608e+08     20.000000     10.000000   \n",
       "\n",
       "       buildingqualitytypeid  calculatedfinishedsquarefeet  \\\n",
       "count           63945.000000                  63945.000000   \n",
       "mean                5.520320                   1744.500774   \n",
       "std                 1.531799                    904.481611   \n",
       "min                 1.000000                      2.000000   \n",
       "25%                 4.000000                   1172.000000   \n",
       "50%                 5.565407                   1516.000000   \n",
       "75%                 7.000000                   2059.000000   \n",
       "max                12.000000                  20013.000000   \n",
       "\n",
       "       finishedsquarefeet12      latitude     longitude  lotsizesquarefeet  \\\n",
       "count          63945.000000  63945.000000  63945.000000       63945.000000   \n",
       "mean            1744.500774     45.123354     66.106881           3.976152   \n",
       "std              904.481611     18.146744     19.240454           0.471434   \n",
       "min                2.000000      0.000000      0.000000           2.222716   \n",
       "25%             1172.000000     31.704379     54.464561           3.740521   \n",
       "50%             1516.000000     46.238134     67.877974           3.850340   \n",
       "75%             2059.000000     56.600059     80.998193           4.056600   \n",
       "max            20013.000000    100.000000    100.000000           6.843296   \n",
       "\n",
       "       ...  assessmentyear  landtaxvaluedollarcnt      taxamount  \\\n",
       "count  ...         63945.0           63945.000000   63945.000000   \n",
       "mean   ...          2015.0               5.208905    5961.794141   \n",
       "std    ...             0.0               0.478561    6908.052778   \n",
       "min    ...          2015.0               2.973128      64.000000   \n",
       "25%    ...          2015.0               4.912222    2868.820000   \n",
       "50%    ...          2015.0               5.285692    4534.620000   \n",
       "75%    ...          2015.0               5.538953    6865.160000   \n",
       "max    ...          2015.0               7.389166  321936.090000   \n",
       "\n",
       "           logerror  N-LivingAreaError  N-LivingAreaProp  N-ValueRatio  \\\n",
       "count  63945.000000            63945.0      63945.000000  63945.000000   \n",
       "mean       0.012324                1.0          0.251780     76.103164   \n",
       "std        0.155913                0.0          0.208977     32.475617   \n",
       "min       -3.194000                1.0          0.000179      2.548288   \n",
       "25%       -0.024300                1.0          0.142578     70.579142   \n",
       "50%        0.006000                1.0          0.214267     79.546204   \n",
       "75%        0.038300                1.0          0.311500     84.462565   \n",
       "max        4.737000                1.0         11.497006   4997.622067   \n",
       "\n",
       "       N-LogTaxScore            DD  N-DaysInCurrentYear  \n",
       "count   63945.000000  63945.000000         63945.000000  \n",
       "mean        9.148952     16.356807           164.286027  \n",
       "std         0.682353      9.002009            85.762695  \n",
       "min         4.824880      1.000000             1.000000  \n",
       "25%         8.756067      8.000000            97.000000  \n",
       "50%         9.182151     16.000000           167.000000  \n",
       "75%         9.560981     24.000000           232.000000  \n",
       "max        12.951033     31.000000           365.000000  \n",
       "\n",
       "[8 rows x 27 columns]"
      ]
     },
     "execution_count": 4,
     "metadata": {},
     "output_type": "execute_result"
    }
   ],
   "source": [
    "train_datasets[1].describe(include='all')"
   ]
  },
  {
   "cell_type": "markdown",
   "metadata": {},
   "source": [
    "Since we don't have any real use for it, we can drop the `parcelid` feature."
   ]
  },
  {
   "cell_type": "code",
   "execution_count": 5,
   "metadata": {},
   "outputs": [],
   "source": [
    "for i in train_datasets:\n",
    "    i.drop(['parcelid'], axis=1, inplace=True)\n",
    "\n",
    "for i in test_datasets:\n",
    "    i.drop(['parcelid'], axis=1, inplace=True)"
   ]
  },
  {
   "cell_type": "markdown",
   "metadata": {
    "id": "Ar8xvJ5kbrgl"
   },
   "source": [
    "## Predictions - Attempt 1 - k-NN algorithm"
   ]
  },
  {
   "cell_type": "markdown",
   "metadata": {
    "id": "9TdV2Wm4b8jx"
   },
   "source": [
    "### Why k-NN? - Introduction \n",
    "I chose the k-NN algorithm because, usually, the house construction doesn't happen randomly. It's really unusual that a private party builds his own house, with his own money, and wherever he likes: it's more likely that the municipality's dedicated office decides where and how the houses of a given zone are going to be buildt. \n",
    "\n",
    "Therefore, i think is safe to assume that houses of a given zone will have similar prices. The k-NN hopefully will help achiving this target. \n",
    "\n",
    "This attempt will use the [ScikitLearn implementation](https://scikit-learn.org/stable/modules/generated/sklearn.neighbors.KNeighborsRegressor.html#sklearn.neighbors.KNeighborsRegressor) of the k-NN algorithm for prediction.\n",
    "\n",
    "The first attempt will be conducted with the parameter `weights` set as \"uniform\", the second one will use the value \"distance\".\n",
    "\n",
    "The model will be tested with a number of neighbors beetween 6 and 8, because usually these are the value that yield the best results.\n",
    "\n",
    "The following snippet contains the functions that wraps the described procedure."
   ]
  },
  {
   "cell_type": "code",
   "execution_count": 6,
   "metadata": {
    "id": "7FkaJft9tOR2"
   },
   "outputs": [],
   "source": [
    "n_neighbors = [3,4,5,6,7,8]\n",
    "    \n",
    "def train_test_kNN(x_train, y_train, x_test, y_test, n_neighbors, w='distance'):\n",
    "    knn = neighbors.KNeighborsRegressor(n_neighbors, weights=w)\n",
    "    model = knn.fit(x_train, y_train)\n",
    "    prediction = model.predict(x_test)\n",
    "    scores = model.score(x_test, y_test)\n",
    "    data = {'n_neighbors': n_neighbors, \n",
    "            'weights': w,\n",
    "            'prediction': prediction,\n",
    "            'score' : scores,\n",
    "            'MSE': mean_squared_error(y_test,prediction)\n",
    "           }\n",
    "    return data"
   ]
  },
  {
   "cell_type": "code",
   "execution_count": null,
   "metadata": {},
   "outputs": [
    {
     "name": "stdout",
     "output_type": "stream",
     "text": [
      "Using dataset 0 at 2022-06-10 17:43:09.199022: n_neighbor = 3, weight = distance\n",
      "Experiment number 0 ended succesfully at 2022-06-10 17:43:37.014510. ETA: 72 minutes\n",
      "Using dataset 0 at 2022-06-10 17:43:37.014510: n_neighbor = 3, weight = uniform\n",
      "Experiment number 0 ended succesfully at 2022-06-10 17:44:08.533146. ETA: 72 minutes\n",
      "Using dataset 0 at 2022-06-10 17:44:08.533146: n_neighbor = 4, weight = distance\n",
      "Experiment number 0 ended succesfully at 2022-06-10 17:44:45.115288. ETA: 72 minutes\n",
      "Using dataset 0 at 2022-06-10 17:44:45.116009: n_neighbor = 4, weight = uniform\n",
      "Experiment number 0 ended succesfully at 2022-06-10 17:45:21.444762. ETA: 72 minutes\n",
      "Using dataset 0 at 2022-06-10 17:45:21.444762: n_neighbor = 5, weight = distance\n",
      "Experiment number 0 ended succesfully at 2022-06-10 17:45:59.426635. ETA: 72 minutes\n",
      "Using dataset 0 at 2022-06-10 17:45:59.426635: n_neighbor = 5, weight = uniform\n",
      "Experiment number 0 ended succesfully at 2022-06-10 17:46:34.589134. ETA: 72 minutes\n",
      "Using dataset 0 at 2022-06-10 17:46:34.589134: n_neighbor = 6, weight = distance\n",
      "Experiment number 0 ended succesfully at 2022-06-10 17:47:09.957454. ETA: 72 minutes\n",
      "Using dataset 0 at 2022-06-10 17:47:09.957454: n_neighbor = 6, weight = uniform\n",
      "Experiment number 0 ended succesfully at 2022-06-10 17:47:46.379120. ETA: 72 minutes\n",
      "Using dataset 0 at 2022-06-10 17:47:46.379120: n_neighbor = 7, weight = distance\n",
      "Experiment number 0 ended succesfully at 2022-06-10 17:48:21.952676. ETA: 72 minutes\n",
      "Using dataset 0 at 2022-06-10 17:48:21.952676: n_neighbor = 7, weight = uniform\n",
      "Experiment number 0 ended succesfully at 2022-06-10 17:48:58.296921. ETA: 72 minutes\n",
      "Using dataset 0 at 2022-06-10 17:48:58.296921: n_neighbor = 8, weight = distance\n",
      "Experiment number 0 ended succesfully at 2022-06-10 17:49:35.632476. ETA: 72 minutes\n",
      "Using dataset 0 at 2022-06-10 17:49:35.632476: n_neighbor = 8, weight = uniform\n",
      "Experiment number 0 ended succesfully at 2022-06-10 17:50:11.400030. ETA: 72 minutes\n",
      "Using dataset 0 at 2022-06-10 17:50:11.400030: n_neighbor = 9, weight = distance\n",
      "Experiment number 0 ended succesfully at 2022-06-10 17:50:48.304822. ETA: 72 minutes\n",
      "Using dataset 0 at 2022-06-10 17:50:48.304822: n_neighbor = 9, weight = uniform\n",
      "Experiment number 0 ended succesfully at 2022-06-10 17:51:25.087128. ETA: 72 minutes\n",
      "Using dataset 0 at 2022-06-10 17:51:25.087128: n_neighbor = 10, weight = distance\n",
      "Experiment number 0 ended succesfully at 2022-06-10 17:52:02.079141. ETA: 72 minutes\n",
      "Using dataset 0 at 2022-06-10 17:52:02.080137: n_neighbor = 10, weight = uniform\n",
      "Experiment number 0 ended succesfully at 2022-06-10 17:52:39.803010. ETA: 72 minutes\n",
      "Using dataset 0 at 2022-06-10 17:52:39.803010: n_neighbor = 11, weight = distance\n"
     ]
    }
   ],
   "source": [
    "%%time\n",
    "results = []\n",
    "types = ['distance', 'uniform']\n",
    "to_Y = ['logerror']\n",
    "to_X = list(set(train.columns) - set('logerror'))\n",
    "train, test = None, None\n",
    "for i in range(len(train_datasets)):\n",
    "    train = train_datasets[i]\n",
    "    test  = test_datasets[i]\n",
    "    for n in n_neighbors:\n",
    "        for w in types:\n",
    "            print(f\"Using dataset {i + 1} at {datetime.now()}: n_neighbor = {n}, weight = {w}\")\n",
    "            results.append(train_test_kNN(train[to_X], train[to_Y], test[to_X], test[to_Y], n, w))      \n",
    "            print(f\"Experiment ended succesfully at {datetime.now()}. \" + \n",
    "                  f\"ETA: {(len(train_datasets) - i)*(len(n_neighbors) - (n - 2))} minutes\")"
   ]
  },
  {
   "cell_type": "markdown",
   "metadata": {
    "id": "CPlmoW8Bd0UP"
   },
   "source": [
    "### How did it go? - Evaluation\n",
    "After obtaining the results, we can proceed with the evaluation of the results.\n",
    "\n",
    "In order to keep this notebook as clean as possible, the evaluation will be done with the built-in evaluator of the KNeighborsRegressor object. The built-in functions uses the $R^2$ index, the coefficient of determination that is $1 - \\frac{u}{v}$, where $u$ is the residual sum of squares and $v$ is the total sum of squares."
   ]
  },
  {
   "cell_type": "code",
   "execution_count": 8,
   "metadata": {
    "id": "dkMbdppjvYVu"
   },
   "outputs": [],
   "source": [
    "def show_results_kNN(data):\n",
    "    fig, (ax1, ax2) = plt.subplots(1, 2)\n",
    "    for parameters in data:\n",
    "        if parameters['weights'] == \"uniform\":\n",
    "            ax1.scatter(parameters['n_neighbors'], parameters['score'], color='darkorange', label='data')\n",
    "            ax1.get_yaxis().get_major_formatter().set_useOffset(False)\n",
    "        else:\n",
    "            ax2.scatter(parameters['n_neighbors'], parameters['score'], color='blue', label='data')\n",
    "            ax2.get_yaxis().get_major_formatter().set_useOffset(False)\n",
    "    plt.xticks(ticks=n_neighbors)\n",
    "    plt.xlabel(\"Number of neighbors\")\n",
    "    plt.title(f\"KNeighborsRegressor\")   \n",
    "    plt.show()"
   ]
  },
  {
   "cell_type": "code",
   "execution_count": 9,
   "metadata": {},
   "outputs": [
    {
     "data": {
      "image/png": "[encoded data removed]",
      "text/plain": [
       "<Figure size 432x288 with 2 Axes>"
      ]
     },
     "metadata": {
      "needs_background": "light"
     },
     "output_type": "display_data"
    }
   ],
   "source": [
    "show_results_kNN(results)"
   ]
  },
  {
   "cell_type": "markdown",
   "metadata": {},
   "source": [
    "Basing on these results, it seems like the best results are yielded by using the weights parameter set as ‘distance’ (it weights points by the inverse of their distance, so closer neighbors of a query point will have a greater influence).\n",
    "\n",
    "It is necessary to remind that by default the \"distance\" used in those cases is the Minkowski distance. With other parameters, it may have yielded other results, but for the purpose of this project it is a reasonable choice.\n",
    "\n",
    "These results yielded a comparable score, but it still looks like they get better as the number of neighbors considered increases.\n",
    "\n",
    "Let's retry the experiments with higher numbers of `n_neighbors`. This time, we will use the 'distance' value for the `weights` parameter, since it's clear that there are no significant differences between the different test."
   ]
  },
  {
   "cell_type": "code",
   "execution_count": 10,
   "metadata": {},
   "outputs": [
    {
     "ename": "NameError",
     "evalue": "name 'w' is not defined",
     "output_type": "error",
     "traceback": [
      "\u001b[1;31m---------------------------------------------------------------------------\u001b[0m",
      "\u001b[1;31mNameError\u001b[0m                                 Traceback (most recent call last)",
      "File \u001b[1;32m<timed exec>:6\u001b[0m, in \u001b[0;36m<module>\u001b[1;34m\u001b[0m\n",
      "\u001b[1;31mNameError\u001b[0m: name 'w' is not defined"
     ]
    }
   ],
   "source": [
    "%%time\n",
    "n_neighbors += [9,10,11]\n",
    "for i in range(len(train_datasets)):\n",
    "    train = train_datasets[i]\n",
    "    test  = test_datasets[i]\n",
    "    for n in [9,10,11]:\n",
    "        print(f\"Using dataset {i} at {datetime.now()}: n_neighbor = {n}, weight = {w}\")\n",
    "        results.append(train_test_kNN(train[to_X], train[to_Y], test[to_X], test[to_Y], n))      \n",
    "        print(f\"Experiment number {i} ended succesfully at {datetime.now()}. \" + \n",
    "              f\"ETA: {(len(train_datasets) - i)*(len(n_neighbors) - (n - 8))} minutes\")"
   ]
  },
  {
   "cell_type": "markdown",
   "metadata": {},
   "source": [
    "Let's plot the results"
   ]
  },
  {
   "cell_type": "code",
   "execution_count": 11,
   "metadata": {},
   "outputs": [
    {
     "data": {
      "image/png": "[encoded data removed]",
      "text/plain": [
       "<Figure size 432x288 with 2 Axes>"
      ]
     },
     "metadata": {
      "needs_background": "light"
     },
     "output_type": "display_data"
    }
   ],
   "source": [
    "show_results_kNN(results)"
   ]
  },
  {
   "cell_type": "markdown",
   "metadata": {},
   "source": [
    "Even though it looks like it slowly gets better as $k$ increases, the results still are very low."
   ]
  },
  {
   "cell_type": "markdown",
   "metadata": {
    "id": "fVUf7WUQcI33"
   },
   "source": [
    "## Predictions - Attempt 2 - Linear Regression"
   ]
  },
  {
   "cell_type": "markdown",
   "metadata": {
    "id": "0jkCHkx0Hdsj"
   },
   "source": [
    "### Why Linear Regression? - Introduction\n",
    "The idea behind the adoption of the LinReg model is correlated to the low integrity of the inititial dataset. \n",
    "\n",
    "In contrast with the previously analyzed model, this is an attempt to see what would happen with an \"assumption-free\" model. It is expected that this type of analysis will underline some unseen correlations, and also will produce some interesting predictions.\n",
    "\n",
    "This test will be conducted with the [ScikitLearn implementation](https://scikit-learn.org/stable/modules/generated/sklearn.linear_model.LinearRegression.html) of the LinearRegression."
   ]
  },
  {
   "cell_type": "code",
   "execution_count": 12,
   "metadata": {
    "id": "3N2szLiTv7Oi"
   },
   "outputs": [],
   "source": [
    "def train_test_LinReg(x_train, y_train, x_test, y_test):\n",
    "    model = LinearRegression().fit(x_train, y_train)\n",
    "    predictions = model.predict(x_test)\n",
    "    data = {\n",
    "        'predictions': predictions,\n",
    "        'R_sq': model.score(x_test, predictions),\n",
    "        'MSE': mean_squared_error(y_test, predictions),\n",
    "        'Adj_R_sq': 1 - (1-model.score(x_test, predictions))*(len(predictions)-1)/(len(predictions)-x_test.shape[1]-1)\n",
    "    }\n",
    "    return data"
   ]
  },
  {
   "cell_type": "code",
   "execution_count": 13,
   "metadata": {},
   "outputs": [
    {
     "name": "stdout",
     "output_type": "stream",
     "text": [
      "CPU times: total: 13.9 s\n",
      "Wall time: 3.63 s\n"
     ]
    }
   ],
   "source": [
    "%%time\n",
    "res = []\n",
    "to_Y = ['logerror']\n",
    "to_X = list(set(train.columns) - set('logerror'))\n",
    "for i in range(len(train_datasets)):\n",
    "    train = train_datasets[i]\n",
    "    test  = test_datasets[i]\n",
    "    for n in n_neighbors:\n",
    "        for w in types:\n",
    "            res.append(train_test_LinReg(train[to_X], train[to_Y], test[to_X], test[to_Y]))"
   ]
  },
  {
   "cell_type": "markdown",
   "metadata": {
    "id": "tHbgkxaTJqKL"
   },
   "source": [
    "### How did it go? - Evaluation\n",
    "We can now proceed with the evaluation of the results.\n",
    "\n",
    "The following tests will be used:\n",
    "\n",
    "\n",
    "*  Mean Squared Error\n",
    "*  R-squared index\n",
    "*  Adjusted R-squared index\n",
    "\n",
    "\n",
    "The evaluations will be done by using the [ScikitLearn Metrics](https://scikit-learn.org/stable/modules/classes.html#module-sklearn.metrics) module."
   ]
  },
  {
   "cell_type": "code",
   "execution_count": 14,
   "metadata": {},
   "outputs": [],
   "source": [
    "def show_results_LinReg(results):\n",
    "    for i in range(len(results)):\n",
    "        parameters = results[i]\n",
    "        print(f\"Experiment number {i}: {' ' * (4 - floor(log10(i + 1)))} R_sq index = {parameters['R_sq']}, \" + \n",
    "              f\"MSE = {parameters['MSE']}, Adj_R_sq index = {parameters['Adj_R_sq']}\")"
   ]
  },
  {
   "cell_type": "code",
   "execution_count": 15,
   "metadata": {},
   "outputs": [
    {
     "name": "stdout",
     "output_type": "stream",
     "text": [
      "Experiment number 0:      R_sq index = 1.0, MSE = 8.56091832944962e-32, Adj_R_sq index = 1.0\n",
      "Experiment number 1:      R_sq index = 1.0, MSE = 8.56091832944962e-32, Adj_R_sq index = 1.0\n",
      "Experiment number 2:      R_sq index = 1.0, MSE = 8.56091832944962e-32, Adj_R_sq index = 1.0\n",
      "Experiment number 3:      R_sq index = 1.0, MSE = 8.56091832944962e-32, Adj_R_sq index = 1.0\n",
      "Experiment number 4:      R_sq index = 1.0, MSE = 8.56091832944962e-32, Adj_R_sq index = 1.0\n",
      "Experiment number 5:      R_sq index = 1.0, MSE = 8.56091832944962e-32, Adj_R_sq index = 1.0\n",
      "Experiment number 6:      R_sq index = 1.0, MSE = 8.56091832944962e-32, Adj_R_sq index = 1.0\n",
      "Experiment number 7:      R_sq index = 1.0, MSE = 8.56091832944962e-32, Adj_R_sq index = 1.0\n",
      "Experiment number 8:      R_sq index = 1.0, MSE = 8.56091832944962e-32, Adj_R_sq index = 1.0\n",
      "Experiment number 9:     R_sq index = 1.0, MSE = 8.56091832944962e-32, Adj_R_sq index = 1.0\n",
      "Experiment number 10:     R_sq index = 1.0, MSE = 8.56091832944962e-32, Adj_R_sq index = 1.0\n",
      "Experiment number 11:     R_sq index = 1.0, MSE = 8.56091832944962e-32, Adj_R_sq index = 1.0\n",
      "Experiment number 12:     R_sq index = 1.0, MSE = 8.56091832944962e-32, Adj_R_sq index = 1.0\n",
      "Experiment number 13:     R_sq index = 1.0, MSE = 8.56091832944962e-32, Adj_R_sq index = 1.0\n",
      "Experiment number 14:     R_sq index = 1.0, MSE = 8.56091832944962e-32, Adj_R_sq index = 1.0\n",
      "Experiment number 15:     R_sq index = 1.0, MSE = 8.56091832944962e-32, Adj_R_sq index = 1.0\n",
      "Experiment number 16:     R_sq index = 1.0, MSE = 8.56091832944962e-32, Adj_R_sq index = 1.0\n",
      "Experiment number 17:     R_sq index = 1.0, MSE = 8.56091832944962e-32, Adj_R_sq index = 1.0\n",
      "Experiment number 18:     R_sq index = 1.0, MSE = 9.056467867475281e-32, Adj_R_sq index = 1.0\n",
      "Experiment number 19:     R_sq index = 1.0, MSE = 9.056467867475281e-32, Adj_R_sq index = 1.0\n",
      "Experiment number 20:     R_sq index = 1.0, MSE = 9.056467867475281e-32, Adj_R_sq index = 1.0\n",
      "Experiment number 21:     R_sq index = 1.0, MSE = 9.056467867475281e-32, Adj_R_sq index = 1.0\n",
      "Experiment number 22:     R_sq index = 1.0, MSE = 9.056467867475281e-32, Adj_R_sq index = 1.0\n",
      "Experiment number 23:     R_sq index = 1.0, MSE = 9.056467867475281e-32, Adj_R_sq index = 1.0\n",
      "Experiment number 24:     R_sq index = 1.0, MSE = 9.056467867475281e-32, Adj_R_sq index = 1.0\n",
      "Experiment number 25:     R_sq index = 1.0, MSE = 9.056467867475281e-32, Adj_R_sq index = 1.0\n",
      "Experiment number 26:     R_sq index = 1.0, MSE = 9.056467867475281e-32, Adj_R_sq index = 1.0\n",
      "Experiment number 27:     R_sq index = 1.0, MSE = 9.056467867475281e-32, Adj_R_sq index = 1.0\n",
      "Experiment number 28:     R_sq index = 1.0, MSE = 9.056467867475281e-32, Adj_R_sq index = 1.0\n",
      "Experiment number 29:     R_sq index = 1.0, MSE = 9.056467867475281e-32, Adj_R_sq index = 1.0\n",
      "Experiment number 30:     R_sq index = 1.0, MSE = 9.056467867475281e-32, Adj_R_sq index = 1.0\n",
      "Experiment number 31:     R_sq index = 1.0, MSE = 9.056467867475281e-32, Adj_R_sq index = 1.0\n",
      "Experiment number 32:     R_sq index = 1.0, MSE = 9.056467867475281e-32, Adj_R_sq index = 1.0\n",
      "Experiment number 33:     R_sq index = 1.0, MSE = 9.056467867475281e-32, Adj_R_sq index = 1.0\n",
      "Experiment number 34:     R_sq index = 1.0, MSE = 9.056467867475281e-32, Adj_R_sq index = 1.0\n",
      "Experiment number 35:     R_sq index = 1.0, MSE = 9.056467867475281e-32, Adj_R_sq index = 1.0\n",
      "Experiment number 36:     R_sq index = 1.0, MSE = 9.229879966533565e-32, Adj_R_sq index = 1.0\n",
      "Experiment number 37:     R_sq index = 1.0, MSE = 9.229879966533565e-32, Adj_R_sq index = 1.0\n",
      "Experiment number 38:     R_sq index = 1.0, MSE = 9.229879966533565e-32, Adj_R_sq index = 1.0\n",
      "Experiment number 39:     R_sq index = 1.0, MSE = 9.229879966533565e-32, Adj_R_sq index = 1.0\n",
      "Experiment number 40:     R_sq index = 1.0, MSE = 9.229879966533565e-32, Adj_R_sq index = 1.0\n",
      "Experiment number 41:     R_sq index = 1.0, MSE = 9.229879966533565e-32, Adj_R_sq index = 1.0\n",
      "Experiment number 42:     R_sq index = 1.0, MSE = 9.229879966533565e-32, Adj_R_sq index = 1.0\n",
      "Experiment number 43:     R_sq index = 1.0, MSE = 9.229879966533565e-32, Adj_R_sq index = 1.0\n",
      "Experiment number 44:     R_sq index = 1.0, MSE = 9.229879966533565e-32, Adj_R_sq index = 1.0\n",
      "Experiment number 45:     R_sq index = 1.0, MSE = 9.229879966533565e-32, Adj_R_sq index = 1.0\n",
      "Experiment number 46:     R_sq index = 1.0, MSE = 9.229879966533565e-32, Adj_R_sq index = 1.0\n",
      "Experiment number 47:     R_sq index = 1.0, MSE = 9.229879966533565e-32, Adj_R_sq index = 1.0\n",
      "Experiment number 48:     R_sq index = 1.0, MSE = 9.229879966533565e-32, Adj_R_sq index = 1.0\n",
      "Experiment number 49:     R_sq index = 1.0, MSE = 9.229879966533565e-32, Adj_R_sq index = 1.0\n",
      "Experiment number 50:     R_sq index = 1.0, MSE = 9.229879966533565e-32, Adj_R_sq index = 1.0\n",
      "Experiment number 51:     R_sq index = 1.0, MSE = 9.229879966533565e-32, Adj_R_sq index = 1.0\n",
      "Experiment number 52:     R_sq index = 1.0, MSE = 9.229879966533565e-32, Adj_R_sq index = 1.0\n",
      "Experiment number 53:     R_sq index = 1.0, MSE = 9.229879966533565e-32, Adj_R_sq index = 1.0\n",
      "Experiment number 54:     R_sq index = 1.0, MSE = 1.3001279210990119e-31, Adj_R_sq index = 1.0\n",
      "Experiment number 55:     R_sq index = 1.0, MSE = 1.3001279210990119e-31, Adj_R_sq index = 1.0\n",
      "Experiment number 56:     R_sq index = 1.0, MSE = 1.3001279210990119e-31, Adj_R_sq index = 1.0\n",
      "Experiment number 57:     R_sq index = 1.0, MSE = 1.3001279210990119e-31, Adj_R_sq index = 1.0\n",
      "Experiment number 58:     R_sq index = 1.0, MSE = 1.3001279210990119e-31, Adj_R_sq index = 1.0\n",
      "Experiment number 59:     R_sq index = 1.0, MSE = 1.3001279210990119e-31, Adj_R_sq index = 1.0\n",
      "Experiment number 60:     R_sq index = 1.0, MSE = 1.3001279210990119e-31, Adj_R_sq index = 1.0\n",
      "Experiment number 61:     R_sq index = 1.0, MSE = 1.3001279210990119e-31, Adj_R_sq index = 1.0\n",
      "Experiment number 62:     R_sq index = 1.0, MSE = 1.3001279210990119e-31, Adj_R_sq index = 1.0\n",
      "Experiment number 63:     R_sq index = 1.0, MSE = 1.3001279210990119e-31, Adj_R_sq index = 1.0\n",
      "Experiment number 64:     R_sq index = 1.0, MSE = 1.3001279210990119e-31, Adj_R_sq index = 1.0\n",
      "Experiment number 65:     R_sq index = 1.0, MSE = 1.3001279210990119e-31, Adj_R_sq index = 1.0\n",
      "Experiment number 66:     R_sq index = 1.0, MSE = 1.3001279210990119e-31, Adj_R_sq index = 1.0\n",
      "Experiment number 67:     R_sq index = 1.0, MSE = 1.3001279210990119e-31, Adj_R_sq index = 1.0\n",
      "Experiment number 68:     R_sq index = 1.0, MSE = 1.3001279210990119e-31, Adj_R_sq index = 1.0\n",
      "Experiment number 69:     R_sq index = 1.0, MSE = 1.3001279210990119e-31, Adj_R_sq index = 1.0\n",
      "Experiment number 70:     R_sq index = 1.0, MSE = 1.3001279210990119e-31, Adj_R_sq index = 1.0\n",
      "Experiment number 71:     R_sq index = 1.0, MSE = 1.3001279210990119e-31, Adj_R_sq index = 1.0\n"
     ]
    }
   ],
   "source": [
    "show_results_LinReg(res)"
   ]
  },
  {
   "cell_type": "markdown",
   "metadata": {},
   "source": [
    "By looking at the results it is clear that the results are too good to be true. It is clear that this is a case of overfitting. [This article](https://statisticsbyjim.com/regression/r-squared-too-high/) explains the other possible reasons of these results.\n",
    "\n",
    "There are two main reasons for this kind of result:\n",
    "\n",
    "- `Wrong algorithm/approach`: the first and most probable cause, is the inner workings of the Linear Regression: it may just be the wrong model to obtain any useful information from.\n",
    "\n",
    "- `Biased evaluation indexes`: the second possibile cause is a bias contained in the testing measures. The analysis of other indexes may yield some more interesting results, but for now is impossible to declare the precise reason for the over-fitting to happen."
   ]
  },
  {
   "cell_type": "markdown",
   "metadata": {},
   "source": [
    "### Conclusions"
   ]
  },
  {
   "cell_type": "markdown",
   "metadata": {},
   "source": [
    "It is clear that the first regression algorithm is a more reasonable choice to do then the second one. \n",
    "\n",
    "The latter suffers from a clear case of over-fitting, so the results are totally biased.\n",
    "\n",
    "The k-NN algorithm didn't get the expected results, all the evaluation measures turned out to be very low.\n",
    "The causes may be found in the inadequacy of this algorithm to the context. It is advisable to use different algorithms and a more complete dataset to retrieve better results."
   ]
  }
 ],
 "metadata": {
  "colab": {
   "collapsed_sections": [],
   "name": "Prediction - Simonato.ipynb",
   "provenance": []
  },
  "kernelspec": {
   "display_name": "Python 3 (ipykernel)",
   "language": "python",
   "name": "python3"
  },
  "language_info": {
   "codemirror_mode": {
    "name": "ipython",
    "version": 3
   },
   "file_extension": ".py",
   "mimetype": "text/x-python",
   "name": "python",
   "nbconvert_exporter": "python",
   "pygments_lexer": "ipython3",
   "version": "3.9.12"
  }
 },
 "nbformat": 4,
 "nbformat_minor": 1
}
