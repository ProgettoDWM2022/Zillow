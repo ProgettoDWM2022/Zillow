{
 "cells": [
  {
   "cell_type": "markdown",
   "metadata": {
    "id": "brs_FcddrRXa"
   },
   "source": [
    "# Explorative Data Analysis - Simonato\n",
    "In this notebook we will import the dataset from [Kaggle - Zillow Prize](https://www.kaggle.com/c/zillow-prize-1/data) and prepare it for prediction!"
   ]
  },
  {
   "cell_type": "markdown",
   "metadata": {
    "id": "oEWIlH_L_RpC"
   },
   "source": [
    "## Problem definition\n",
    "\n",
    "How can we assess the value of a house, or better, the **sale price**? \n",
    "\n",
    "In this case we don't have the sale price (for privacy reasons we suppose), but we have the logerror:\n",
    "\n",
    "$logerror = \\log(Zestimate)-\\log(SalePrice)$\n",
    "\n",
    "This is a measure that we can use for our purpose.\n",
    "\n",
    "Now, it is easier to understand what our real goal is: **predicting a number through regression**. \n",
    "\n",
    "### Understand the context: housing-market in the west coast of the U.S.A.\n",
    "Other than finding links between features, we need to point out some factors we cannot easily include when making our predictions.\n",
    "\n",
    "We are given a \"full list of real estate properties in three counties (Los Angeles, Orange and Ventura, California) data in 2016 and 2017\", so what problems are we facing now?\n",
    "\n",
    "1. We are focusing on a particular geographical area, which we are not familiar with;\n",
    "2. We are focusing on a market we have no prior domain-knowledge of.\n",
    "\n",
    "Therefore, we have not a clue of how the market is going for houses there, nor we know what gets a house a particular sale price (the weight of each feature). While the first can be hardly tracked,\n",
    "we can find out about the rest through data exploration and domain research.\n",
    "\n",
    "As we already know, datasets rarely are perfect, so we must perform some adjustments to make it usable for our\n",
    "regression algorithms and find out useful information!\n",
    "\n",
    "\n",
    "### The need for a clean & clear dataset\n",
    "\n",
    "The following approach allows us to use a vast variety of cleaning and feature engineering strategies to converge to a usable training dataset.\n",
    "\n",
    "1. Basic Exploration\n",
    "2. Data Cleaning & Feature Engineering\n",
    "3. Modeling\n",
    "4. Export\n",
    "\n",
    "However, we will not follow a linear approach. We will improve the quality of the dataset as soon as we have the chance and we will try to keep up with all the dependencies between the steps of the process."
   ]
  },
  {
   "cell_type": "markdown",
   "metadata": {
    "id": "60PauvZq8QpC"
   },
   "source": [
    "## Step 1: Basic Exploration\n",
    "First of all, we need to import our data and to set up our environment.\n",
    "\n",
    "In this step, we define the sources of data try to understand the main features of the data.\n",
    "\n",
    "The golden rule here is not to touch the dataset!"
   ]
  },
  {
   "cell_type": "markdown",
   "metadata": {},
   "source": [
    "### Importing all the dependencies (just in case)"
   ]
  },
  {
   "cell_type": "code",
   "execution_count": 1,
   "metadata": {
    "scrolled": true
   },
   "outputs": [
    {
     "name": "stdout",
     "output_type": "stream",
     "text": [
      "Requirement already satisfied: pandas in c:\\users\\nsimo\\anaconda3\\lib\\site-packages (1.4.2)\n",
      "Requirement already satisfied: numpy>=1.18.5 in c:\\users\\nsimo\\anaconda3\\lib\\site-packages (from pandas) (1.21.5)\n",
      "Requirement already satisfied: pytz>=2020.1 in c:\\users\\nsimo\\anaconda3\\lib\\site-packages (from pandas) (2021.3)\n",
      "Requirement already satisfied: python-dateutil>=2.8.1 in c:\\users\\nsimo\\anaconda3\\lib\\site-packages (from pandas) (2.8.2)\n",
      "Requirement already satisfied: six>=1.5 in c:\\users\\nsimo\\anaconda3\\lib\\site-packages (from python-dateutil>=2.8.1->pandas) (1.16.0)\n",
      "Requirement already satisfied: numpy in c:\\users\\nsimo\\anaconda3\\lib\\site-packages (1.21.5)\n",
      "Requirement already satisfied: missingno in c:\\users\\nsimo\\anaconda3\\lib\\site-packages (0.5.1)\n",
      "Requirement already satisfied: scipy in c:\\users\\nsimo\\anaconda3\\lib\\site-packages (from missingno) (1.7.3)\n",
      "Requirement already satisfied: matplotlib in c:\\users\\nsimo\\anaconda3\\lib\\site-packages (from missingno) (3.5.1)\n",
      "Requirement already satisfied: numpy in c:\\users\\nsimo\\anaconda3\\lib\\site-packages (from missingno) (1.21.5)\n",
      "Requirement already satisfied: seaborn in c:\\users\\nsimo\\anaconda3\\lib\\site-packages (from missingno) (0.11.2)\n",
      "Requirement already satisfied: cycler>=0.10 in c:\\users\\nsimo\\anaconda3\\lib\\site-packages (from matplotlib->missingno) (0.11.0)\n",
      "Requirement already satisfied: kiwisolver>=1.0.1 in c:\\users\\nsimo\\anaconda3\\lib\\site-packages (from matplotlib->missingno) (1.3.2)\n",
      "Requirement already satisfied: pillow>=6.2.0 in c:\\users\\nsimo\\anaconda3\\lib\\site-packages (from matplotlib->missingno) (9.0.1)\n",
      "Requirement already satisfied: packaging>=20.0 in c:\\users\\nsimo\\anaconda3\\lib\\site-packages (from matplotlib->missingno) (21.3)\n",
      "Requirement already satisfied: pyparsing>=2.2.1 in c:\\users\\nsimo\\anaconda3\\lib\\site-packages (from matplotlib->missingno) (3.0.4)\n",
      "Requirement already satisfied: fonttools>=4.22.0 in c:\\users\\nsimo\\anaconda3\\lib\\site-packages (from matplotlib->missingno) (4.25.0)\n",
      "Requirement already satisfied: python-dateutil>=2.7 in c:\\users\\nsimo\\anaconda3\\lib\\site-packages (from matplotlib->missingno) (2.8.2)\n",
      "Requirement already satisfied: six>=1.5 in c:\\users\\nsimo\\anaconda3\\lib\\site-packages (from python-dateutil>=2.7->matplotlib->missingno) (1.16.0)\n",
      "Requirement already satisfied: pandas>=0.23 in c:\\users\\nsimo\\anaconda3\\lib\\site-packages (from seaborn->missingno) (1.4.2)\n",
      "Requirement already satisfied: pytz>=2020.1 in c:\\users\\nsimo\\anaconda3\\lib\\site-packages (from pandas>=0.23->seaborn->missingno) (2021.3)\n",
      "Requirement already satisfied: seaborn in c:\\users\\nsimo\\anaconda3\\lib\\site-packages (0.11.2)\n",
      "Requirement already satisfied: scipy>=1.0 in c:\\users\\nsimo\\anaconda3\\lib\\site-packages (from seaborn) (1.7.3)\n",
      "Requirement already satisfied: pandas>=0.23 in c:\\users\\nsimo\\anaconda3\\lib\\site-packages (from seaborn) (1.4.2)\n",
      "Requirement already satisfied: matplotlib>=2.2 in c:\\users\\nsimo\\anaconda3\\lib\\site-packages (from seaborn) (3.5.1)\n",
      "Requirement already satisfied: numpy>=1.15 in c:\\users\\nsimo\\anaconda3\\lib\\site-packages (from seaborn) (1.21.5)\n",
      "Requirement already satisfied: python-dateutil>=2.7 in c:\\users\\nsimo\\anaconda3\\lib\\site-packages (from matplotlib>=2.2->seaborn) (2.8.2)\n",
      "Requirement already satisfied: fonttools>=4.22.0 in c:\\users\\nsimo\\anaconda3\\lib\\site-packages (from matplotlib>=2.2->seaborn) (4.25.0)\n",
      "Requirement already satisfied: pillow>=6.2.0 in c:\\users\\nsimo\\anaconda3\\lib\\site-packages (from matplotlib>=2.2->seaborn) (9.0.1)\n",
      "Requirement already satisfied: kiwisolver>=1.0.1 in c:\\users\\nsimo\\anaconda3\\lib\\site-packages (from matplotlib>=2.2->seaborn) (1.3.2)\n",
      "Requirement already satisfied: cycler>=0.10 in c:\\users\\nsimo\\anaconda3\\lib\\site-packages (from matplotlib>=2.2->seaborn) (0.11.0)\n",
      "Requirement already satisfied: packaging>=20.0 in c:\\users\\nsimo\\anaconda3\\lib\\site-packages (from matplotlib>=2.2->seaborn) (21.3)\n",
      "Requirement already satisfied: pyparsing>=2.2.1 in c:\\users\\nsimo\\anaconda3\\lib\\site-packages (from matplotlib>=2.2->seaborn) (3.0.4)\n",
      "Requirement already satisfied: pytz>=2020.1 in c:\\users\\nsimo\\anaconda3\\lib\\site-packages (from pandas>=0.23->seaborn) (2021.3)\n",
      "Requirement already satisfied: six>=1.5 in c:\\users\\nsimo\\anaconda3\\lib\\site-packages (from python-dateutil>=2.7->matplotlib>=2.2->seaborn) (1.16.0)\n",
      "Requirement already satisfied: folium in c:\\users\\nsimo\\anaconda3\\lib\\site-packages (0.12.1.post1)\n",
      "Requirement already satisfied: requests in c:\\users\\nsimo\\anaconda3\\lib\\site-packages (from folium) (2.27.1)\n",
      "Requirement already satisfied: numpy in c:\\users\\nsimo\\anaconda3\\lib\\site-packages (from folium) (1.21.5)\n",
      "Requirement already satisfied: jinja2>=2.9 in c:\\users\\nsimo\\anaconda3\\lib\\site-packages (from folium) (2.11.3)\n",
      "Requirement already satisfied: branca>=0.3.0 in c:\\users\\nsimo\\anaconda3\\lib\\site-packages (from folium) (0.5.0)\n",
      "Requirement already satisfied: MarkupSafe>=0.23 in c:\\users\\nsimo\\anaconda3\\lib\\site-packages (from jinja2>=2.9->folium) (2.0.1)\n",
      "Requirement already satisfied: certifi>=2017.4.17 in c:\\users\\nsimo\\anaconda3\\lib\\site-packages (from requests->folium) (2021.10.8)\n",
      "Requirement already satisfied: charset-normalizer~=2.0.0 in c:\\users\\nsimo\\anaconda3\\lib\\site-packages (from requests->folium) (2.0.4)\n",
      "Requirement already satisfied: idna<4,>=2.5 in c:\\users\\nsimo\\anaconda3\\lib\\site-packages (from requests->folium) (3.3)\n",
      "Requirement already satisfied: urllib3<1.27,>=1.21.1 in c:\\users\\nsimo\\anaconda3\\lib\\site-packages (from requests->folium) (1.26.9)\n",
      "Requirement already satisfied: sklearn in c:\\users\\nsimo\\anaconda3\\lib\\site-packages (0.0)\n",
      "Requirement already satisfied: scikit-learn in c:\\users\\nsimo\\anaconda3\\lib\\site-packages (from sklearn) (1.0.2)\n",
      "Requirement already satisfied: joblib>=0.11 in c:\\users\\nsimo\\anaconda3\\lib\\site-packages (from scikit-learn->sklearn) (1.1.0)\n",
      "Requirement already satisfied: scipy>=1.1.0 in c:\\users\\nsimo\\anaconda3\\lib\\site-packages (from scikit-learn->sklearn) (1.7.3)\n",
      "Requirement already satisfied: threadpoolctl>=2.0.0 in c:\\users\\nsimo\\anaconda3\\lib\\site-packages (from scikit-learn->sklearn) (2.2.0)\n",
      "Requirement already satisfied: numpy>=1.14.6 in c:\\users\\nsimo\\anaconda3\\lib\\site-packages (from scikit-learn->sklearn) (1.21.5)\n",
      "Requirement already satisfied: matplotlib in c:\\users\\nsimo\\anaconda3\\lib\\site-packages (3.5.1)\n",
      "Requirement already satisfied: kiwisolver>=1.0.1 in c:\\users\\nsimo\\anaconda3\\lib\\site-packages (from matplotlib) (1.3.2)\n",
      "Requirement already satisfied: numpy>=1.17 in c:\\users\\nsimo\\anaconda3\\lib\\site-packages (from matplotlib) (1.21.5)\n",
      "Requirement already satisfied: packaging>=20.0 in c:\\users\\nsimo\\anaconda3\\lib\\site-packages (from matplotlib) (21.3)\n",
      "Requirement already satisfied: pillow>=6.2.0 in c:\\users\\nsimo\\anaconda3\\lib\\site-packages (from matplotlib) (9.0.1)\n",
      "Requirement already satisfied: pyparsing>=2.2.1 in c:\\users\\nsimo\\anaconda3\\lib\\site-packages (from matplotlib) (3.0.4)\n",
      "Requirement already satisfied: fonttools>=4.22.0 in c:\\users\\nsimo\\anaconda3\\lib\\site-packages (from matplotlib) (4.25.0)\n",
      "Requirement already satisfied: cycler>=0.10 in c:\\users\\nsimo\\anaconda3\\lib\\site-packages (from matplotlib) (0.11.0)\n",
      "Requirement already satisfied: python-dateutil>=2.7 in c:\\users\\nsimo\\anaconda3\\lib\\site-packages (from matplotlib) (2.8.2)\n",
      "Requirement already satisfied: six>=1.5 in c:\\users\\nsimo\\anaconda3\\lib\\site-packages (from python-dateutil>=2.7->matplotlib) (1.16.0)\n",
      "Requirement already satisfied: datetime in c:\\users\\nsimo\\anaconda3\\lib\\site-packages (4.4)\n",
      "Requirement already satisfied: zope.interface in c:\\users\\nsimo\\anaconda3\\lib\\site-packages (from datetime) (5.4.0)\n",
      "Requirement already satisfied: pytz in c:\\users\\nsimo\\anaconda3\\lib\\site-packages (from datetime) (2021.3)\n",
      "Requirement already satisfied: setuptools in c:\\users\\nsimo\\anaconda3\\lib\\site-packages (from zope.interface->datetime) (61.2.0)\n",
      "Requirement already satisfied: xgboost in c:\\users\\nsimo\\anaconda3\\lib\\site-packages (1.6.1)\n",
      "Requirement already satisfied: scipy in c:\\users\\nsimo\\anaconda3\\lib\\site-packages (from xgboost) (1.7.3)\n",
      "Requirement already satisfied: numpy in c:\\users\\nsimo\\anaconda3\\lib\\site-packages (from xgboost) (1.21.5)\n",
      "Requirement already satisfied: lightgbm in c:\\users\\nsimo\\anaconda3\\lib\\site-packages (3.3.2)\n",
      "Requirement already satisfied: scipy in c:\\users\\nsimo\\anaconda3\\lib\\site-packages (from lightgbm) (1.7.3)\n",
      "Requirement already satisfied: numpy in c:\\users\\nsimo\\anaconda3\\lib\\site-packages (from lightgbm) (1.21.5)\n",
      "Requirement already satisfied: wheel in c:\\users\\nsimo\\anaconda3\\lib\\site-packages (from lightgbm) (0.37.1)\n",
      "Requirement already satisfied: scikit-learn!=0.22.0 in c:\\users\\nsimo\\anaconda3\\lib\\site-packages (from lightgbm) (1.0.2)\n",
      "Requirement already satisfied: joblib>=0.11 in c:\\users\\nsimo\\anaconda3\\lib\\site-packages (from scikit-learn!=0.22.0->lightgbm) (1.1.0)\n",
      "Requirement already satisfied: threadpoolctl>=2.0.0 in c:\\users\\nsimo\\anaconda3\\lib\\site-packages (from scikit-learn!=0.22.0->lightgbm) (2.2.0)\n"
     ]
    }
   ],
   "source": [
    "dependencies = ['pandas', 'numpy', 'missingno', 'seaborn', 'folium', 'sklearn', 'matplotlib', 'datetime','xgboost', 'lightgbm']\n",
    "for i in dependencies:\n",
    "    !pip install {i}"
   ]
  },
  {
   "cell_type": "markdown",
   "metadata": {
    "id": "4lzccW46E27Y"
   },
   "source": [
    "### Environment & Global Imports"
   ]
  },
  {
   "cell_type": "code",
   "execution_count": 1,
   "metadata": {
    "executionInfo": {
     "elapsed": 1672,
     "status": "ok",
     "timestamp": 1652631927675,
     "user": {
      "displayName": "Niccolò Simonato",
      "userId": "07293489282093960075"
     },
     "user_tz": -120
    },
    "id": "5CXTJrhxrVHe"
   },
   "outputs": [],
   "source": [
    "import pandas as pd\n",
    "import numpy as np\n",
    "import missingno as msno\n",
    "import seaborn as sns\n",
    "import folium\n",
    "import sklearn\n",
    "from sklearn.preprocessing import LabelEncoder\n",
    "from sklearn.impute import KNNImputer\n",
    "from sklearn.preprocessing import StandardScaler\n",
    "from sklearn.preprocessing import MinMaxScaler\n",
    "import matplotlib\n",
    "from matplotlib import pyplot as plt\n",
    "from datetime import datetime\n",
    "import xgboost as xgb\n",
    "import lightgbm as lgb\n",
    "from math import floor, ceil, log10\n",
    "\n",
    "color = sns.color_palette()\n",
    "pd.options.mode.chained_assignment = None\n",
    "pd.options.display.max_columns = 999\n",
    "matplotlib.style.use('ggplot')\n",
    "%matplotlib inline\n",
    "# It's important to set it up before anything"
   ]
  },
  {
   "cell_type": "markdown",
   "metadata": {
    "id": "1hyLUY9OLxlF"
   },
   "source": [
    "### Data Loading\n",
    "Loading the data and joining the \"properties\" dataset with the \"train\" dataset."
   ]
  },
  {
   "cell_type": "code",
   "execution_count": 3,
   "metadata": {
    "id": "Q2t2yuErGFwh"
   },
   "outputs": [
    {
     "name": "stderr",
     "output_type": "stream",
     "text": [
      "C:\\Users\\nsimo\\AppData\\Local\\Temp\\ipykernel_6204\\3820226437.py:4: DtypeWarning: Columns (22,32,34,49,55) have mixed types. Specify dtype option on import or set low_memory=False.\n",
      "  properties = pd.read_csv(dataset1, low_memory = True)\n"
     ]
    }
   ],
   "source": [
    "# DataFrame downloaded and splitted into properties and train for 2016 and 2017 \n",
    "\n",
    "def load_merge_proptrain(dataset1, dataset2, predicate):\n",
    "    properties = pd.read_csv(dataset1, low_memory = True)\n",
    "    train = pd.read_csv(dataset2, low_memory = True)\n",
    "    # Let's merge the respective years \n",
    "    merged = pd.merge(properties, train, how = 'inner', on = predicate)\n",
    "    return merged\n",
    "\n",
    "\n",
    "data2016 = load_merge_proptrain(\"Data/properties_2016.csv\", \"Data/train_2016_v2.csv\", 'parcelid')"
   ]
  },
  {
   "cell_type": "markdown",
   "metadata": {
    "id": "pNliLSaXvFRF"
   },
   "source": [
    "Now, since we have two dataset (one for the year 2016 and the other for the year 2017, we have two choices:\n",
    "* Merge them together.\n",
    "    * It may complicate the learning process.\n",
    "* Use the 2017 data to test our predictions.\n",
    "    * We will still perform the same computations on both datasets, but it would take more time.\n",
    "    \n",
    "We'll keep them separated for now."
   ]
  },
  {
   "cell_type": "code",
   "execution_count": 4,
   "metadata": {
    "id": "o0eLqXhNvFRF",
    "outputId": "ebf5c148-34dc-43c9-c6dd-431b0f682782"
   },
   "outputs": [
    {
     "name": "stdout",
     "output_type": "stream",
     "text": [
      "Shape of data2016 is:\t (90275, 60)\n"
     ]
    }
   ],
   "source": [
    "# Shape\n",
    "print(f'Shape of data2016 is:\\t {data2016.shape}')"
   ]
  },
  {
   "cell_type": "markdown",
   "metadata": {
    "id": "0CYo88kgvFRG"
   },
   "source": [
    "### Step 1.1 Basic Info\n",
    "\n",
    "Let's find out some basic information about out dataset, such as:\n",
    "* Memory usage;\n",
    "* Total count of entries (rows);\n",
    "* What features are present (columns)."
   ]
  },
  {
   "cell_type": "code",
   "execution_count": 5,
   "metadata": {
    "id": "x3BD-5SxId8F",
    "outputId": "a68cdcad-68a0-455f-9ee8-3224b22ccc66"
   },
   "outputs": [
    {
     "name": "stdout",
     "output_type": "stream",
     "text": [
      "2016 House Dataset\n",
      "============================================================\n",
      "<class 'pandas.core.frame.DataFrame'>\n",
      "Int64Index: 90275 entries, 0 to 90274\n",
      "Columns: 60 entries, parcelid to transactiondate\n",
      "dtypes: float64(53), int64(1), object(6)\n",
      "memory usage: 42.0+ MB\n",
      "\n",
      "\n",
      "2016 House Dataset Shape\n",
      "============================================================\n",
      "(90275, 60)\n"
     ]
    }
   ],
   "source": [
    "#Print avoiding Notebook Flood\n",
    "print('2016 House Dataset')\n",
    "print('============================================================')\n",
    "data2016.info(verbose=False)\n",
    "\n",
    "\n",
    "print('\\n\\n2016 House Dataset Shape')\n",
    "print('============================================================')\n",
    "print(data2016.shape)\n"
   ]
  },
  {
   "cell_type": "code",
   "execution_count": 6,
   "metadata": {
    "id": "tnshKli4G9mp",
    "outputId": "1268996e-b895-4660-e139-fd94827824f2"
   },
   "outputs": [
    {
     "data": {
      "text/html": [
       "<div>\n",
       "<style scoped>\n",
       "    .dataframe tbody tr th:only-of-type {\n",
       "        vertical-align: middle;\n",
       "    }\n",
       "\n",
       "    .dataframe tbody tr th {\n",
       "        vertical-align: top;\n",
       "    }\n",
       "\n",
       "    .dataframe thead th {\n",
       "        text-align: right;\n",
       "    }\n",
       "</style>\n",
       "<table border=\"1\" class=\"dataframe\">\n",
       "  <thead>\n",
       "    <tr style=\"text-align: right;\">\n",
       "      <th></th>\n",
       "      <th>parcelid</th>\n",
       "      <th>airconditioningtypeid</th>\n",
       "      <th>architecturalstyletypeid</th>\n",
       "      <th>basementsqft</th>\n",
       "      <th>bathroomcnt</th>\n",
       "      <th>bedroomcnt</th>\n",
       "      <th>buildingclasstypeid</th>\n",
       "      <th>buildingqualitytypeid</th>\n",
       "      <th>calculatedbathnbr</th>\n",
       "      <th>decktypeid</th>\n",
       "      <th>finishedfloor1squarefeet</th>\n",
       "      <th>calculatedfinishedsquarefeet</th>\n",
       "      <th>finishedsquarefeet12</th>\n",
       "      <th>finishedsquarefeet13</th>\n",
       "      <th>finishedsquarefeet15</th>\n",
       "      <th>finishedsquarefeet50</th>\n",
       "      <th>finishedsquarefeet6</th>\n",
       "      <th>fips</th>\n",
       "      <th>fireplacecnt</th>\n",
       "      <th>fullbathcnt</th>\n",
       "      <th>garagecarcnt</th>\n",
       "      <th>garagetotalsqft</th>\n",
       "      <th>heatingorsystemtypeid</th>\n",
       "      <th>latitude</th>\n",
       "      <th>longitude</th>\n",
       "      <th>lotsizesquarefeet</th>\n",
       "      <th>poolcnt</th>\n",
       "      <th>poolsizesum</th>\n",
       "      <th>pooltypeid10</th>\n",
       "      <th>pooltypeid2</th>\n",
       "      <th>pooltypeid7</th>\n",
       "      <th>propertylandusetypeid</th>\n",
       "      <th>rawcensustractandblock</th>\n",
       "      <th>regionidcity</th>\n",
       "      <th>regionidcounty</th>\n",
       "      <th>regionidneighborhood</th>\n",
       "      <th>regionidzip</th>\n",
       "      <th>roomcnt</th>\n",
       "      <th>storytypeid</th>\n",
       "      <th>threequarterbathnbr</th>\n",
       "      <th>typeconstructiontypeid</th>\n",
       "      <th>unitcnt</th>\n",
       "      <th>yardbuildingsqft17</th>\n",
       "      <th>yardbuildingsqft26</th>\n",
       "      <th>yearbuilt</th>\n",
       "      <th>numberofstories</th>\n",
       "      <th>structuretaxvaluedollarcnt</th>\n",
       "      <th>taxvaluedollarcnt</th>\n",
       "      <th>assessmentyear</th>\n",
       "      <th>landtaxvaluedollarcnt</th>\n",
       "      <th>taxamount</th>\n",
       "      <th>taxdelinquencyyear</th>\n",
       "      <th>censustractandblock</th>\n",
       "      <th>logerror</th>\n",
       "    </tr>\n",
       "  </thead>\n",
       "  <tbody>\n",
       "    <tr>\n",
       "      <th>count</th>\n",
       "      <td>9.027500e+04</td>\n",
       "      <td>28781.000000</td>\n",
       "      <td>261.000000</td>\n",
       "      <td>43.000000</td>\n",
       "      <td>90275.000000</td>\n",
       "      <td>90275.000000</td>\n",
       "      <td>16.0</td>\n",
       "      <td>57364.000000</td>\n",
       "      <td>89093.000000</td>\n",
       "      <td>658.0</td>\n",
       "      <td>6856.000000</td>\n",
       "      <td>89614.000000</td>\n",
       "      <td>85596.000000</td>\n",
       "      <td>33.000000</td>\n",
       "      <td>3564.000000</td>\n",
       "      <td>6856.000000</td>\n",
       "      <td>421.000000</td>\n",
       "      <td>90275.000000</td>\n",
       "      <td>9607.000000</td>\n",
       "      <td>89093.000000</td>\n",
       "      <td>29937.000000</td>\n",
       "      <td>29937.000000</td>\n",
       "      <td>56080.000000</td>\n",
       "      <td>9.027500e+04</td>\n",
       "      <td>9.027500e+04</td>\n",
       "      <td>8.012500e+04</td>\n",
       "      <td>17901.0</td>\n",
       "      <td>969.000000</td>\n",
       "      <td>1161.0</td>\n",
       "      <td>1204.0</td>\n",
       "      <td>16697.0</td>\n",
       "      <td>90275.000000</td>\n",
       "      <td>9.027500e+04</td>\n",
       "      <td>88472.000000</td>\n",
       "      <td>90275.000000</td>\n",
       "      <td>36012.000000</td>\n",
       "      <td>90240.000000</td>\n",
       "      <td>90275.000000</td>\n",
       "      <td>43.0</td>\n",
       "      <td>12009.000000</td>\n",
       "      <td>299.000000</td>\n",
       "      <td>58353.000000</td>\n",
       "      <td>2646.000000</td>\n",
       "      <td>95.000000</td>\n",
       "      <td>89519.000000</td>\n",
       "      <td>20570.000000</td>\n",
       "      <td>8.989500e+04</td>\n",
       "      <td>9.027400e+04</td>\n",
       "      <td>90275.0</td>\n",
       "      <td>9.027400e+04</td>\n",
       "      <td>90269.000000</td>\n",
       "      <td>1783.000000</td>\n",
       "      <td>8.967000e+04</td>\n",
       "      <td>90275.000000</td>\n",
       "    </tr>\n",
       "    <tr>\n",
       "      <th>mean</th>\n",
       "      <td>1.298466e+07</td>\n",
       "      <td>1.816372</td>\n",
       "      <td>7.229885</td>\n",
       "      <td>713.581395</td>\n",
       "      <td>2.279474</td>\n",
       "      <td>3.031869</td>\n",
       "      <td>4.0</td>\n",
       "      <td>5.565407</td>\n",
       "      <td>2.309216</td>\n",
       "      <td>66.0</td>\n",
       "      <td>1347.974037</td>\n",
       "      <td>1773.185987</td>\n",
       "      <td>1745.454531</td>\n",
       "      <td>1404.545455</td>\n",
       "      <td>2380.090067</td>\n",
       "      <td>1355.546674</td>\n",
       "      <td>2302.546318</td>\n",
       "      <td>6048.870551</td>\n",
       "      <td>1.187884</td>\n",
       "      <td>2.241231</td>\n",
       "      <td>1.812005</td>\n",
       "      <td>345.521228</td>\n",
       "      <td>3.926979</td>\n",
       "      <td>3.400541e+07</td>\n",
       "      <td>-1.181989e+08</td>\n",
       "      <td>2.911016e+04</td>\n",
       "      <td>1.0</td>\n",
       "      <td>519.827657</td>\n",
       "      <td>1.0</td>\n",
       "      <td>1.0</td>\n",
       "      <td>1.0</td>\n",
       "      <td>261.832179</td>\n",
       "      <td>6.049179e+07</td>\n",
       "      <td>33761.332851</td>\n",
       "      <td>2525.420770</td>\n",
       "      <td>190646.540237</td>\n",
       "      <td>96586.131184</td>\n",
       "      <td>1.478516</td>\n",
       "      <td>7.0</td>\n",
       "      <td>1.008743</td>\n",
       "      <td>6.010033</td>\n",
       "      <td>1.110414</td>\n",
       "      <td>310.142101</td>\n",
       "      <td>311.694737</td>\n",
       "      <td>1968.532870</td>\n",
       "      <td>1.440739</td>\n",
       "      <td>1.800934e+05</td>\n",
       "      <td>4.576726e+05</td>\n",
       "      <td>2015.0</td>\n",
       "      <td>2.783353e+05</td>\n",
       "      <td>5983.975927</td>\n",
       "      <td>13.402692</td>\n",
       "      <td>6.049151e+13</td>\n",
       "      <td>0.011457</td>\n",
       "    </tr>\n",
       "    <tr>\n",
       "      <th>std</th>\n",
       "      <td>2.504510e+06</td>\n",
       "      <td>2.974168</td>\n",
       "      <td>2.716196</td>\n",
       "      <td>437.434198</td>\n",
       "      <td>1.004271</td>\n",
       "      <td>1.156436</td>\n",
       "      <td>0.0</td>\n",
       "      <td>1.900602</td>\n",
       "      <td>0.976172</td>\n",
       "      <td>0.0</td>\n",
       "      <td>652.399026</td>\n",
       "      <td>928.162393</td>\n",
       "      <td>909.941166</td>\n",
       "      <td>110.108211</td>\n",
       "      <td>1068.207182</td>\n",
       "      <td>673.703488</td>\n",
       "      <td>1346.255242</td>\n",
       "      <td>20.663461</td>\n",
       "      <td>0.484173</td>\n",
       "      <td>0.963142</td>\n",
       "      <td>0.608761</td>\n",
       "      <td>267.015918</td>\n",
       "      <td>3.684382</td>\n",
       "      <td>2.649654e+05</td>\n",
       "      <td>3.606032e+05</td>\n",
       "      <td>1.217213e+05</td>\n",
       "      <td>0.0</td>\n",
       "      <td>155.054210</td>\n",
       "      <td>0.0</td>\n",
       "      <td>0.0</td>\n",
       "      <td>0.0</td>\n",
       "      <td>5.182901</td>\n",
       "      <td>2.050549e+05</td>\n",
       "      <td>46672.393863</td>\n",
       "      <td>805.694842</td>\n",
       "      <td>166228.910572</td>\n",
       "      <td>3661.339094</td>\n",
       "      <td>2.819627</td>\n",
       "      <td>0.0</td>\n",
       "      <td>0.100830</td>\n",
       "      <td>0.437235</td>\n",
       "      <td>0.797235</td>\n",
       "      <td>216.721869</td>\n",
       "      <td>346.354850</td>\n",
       "      <td>23.763475</td>\n",
       "      <td>0.544498</td>\n",
       "      <td>2.091299e+05</td>\n",
       "      <td>5.548844e+05</td>\n",
       "      <td>0.0</td>\n",
       "      <td>4.004955e+05</td>\n",
       "      <td>6838.876956</td>\n",
       "      <td>2.715966</td>\n",
       "      <td>2.046605e+11</td>\n",
       "      <td>0.161079</td>\n",
       "    </tr>\n",
       "    <tr>\n",
       "      <th>min</th>\n",
       "      <td>1.071174e+07</td>\n",
       "      <td>1.000000</td>\n",
       "      <td>2.000000</td>\n",
       "      <td>100.000000</td>\n",
       "      <td>0.000000</td>\n",
       "      <td>0.000000</td>\n",
       "      <td>4.0</td>\n",
       "      <td>1.000000</td>\n",
       "      <td>1.000000</td>\n",
       "      <td>66.0</td>\n",
       "      <td>44.000000</td>\n",
       "      <td>2.000000</td>\n",
       "      <td>2.000000</td>\n",
       "      <td>1056.000000</td>\n",
       "      <td>560.000000</td>\n",
       "      <td>44.000000</td>\n",
       "      <td>257.000000</td>\n",
       "      <td>6037.000000</td>\n",
       "      <td>1.000000</td>\n",
       "      <td>1.000000</td>\n",
       "      <td>0.000000</td>\n",
       "      <td>0.000000</td>\n",
       "      <td>1.000000</td>\n",
       "      <td>3.333930e+07</td>\n",
       "      <td>-1.194479e+08</td>\n",
       "      <td>1.670000e+02</td>\n",
       "      <td>1.0</td>\n",
       "      <td>28.000000</td>\n",
       "      <td>1.0</td>\n",
       "      <td>1.0</td>\n",
       "      <td>1.0</td>\n",
       "      <td>31.000000</td>\n",
       "      <td>6.037101e+07</td>\n",
       "      <td>3491.000000</td>\n",
       "      <td>1286.000000</td>\n",
       "      <td>6952.000000</td>\n",
       "      <td>95982.000000</td>\n",
       "      <td>0.000000</td>\n",
       "      <td>7.0</td>\n",
       "      <td>1.000000</td>\n",
       "      <td>4.000000</td>\n",
       "      <td>1.000000</td>\n",
       "      <td>25.000000</td>\n",
       "      <td>18.000000</td>\n",
       "      <td>1885.000000</td>\n",
       "      <td>1.000000</td>\n",
       "      <td>1.000000e+02</td>\n",
       "      <td>2.200000e+01</td>\n",
       "      <td>2015.0</td>\n",
       "      <td>2.200000e+01</td>\n",
       "      <td>49.080000</td>\n",
       "      <td>6.000000</td>\n",
       "      <td>6.037101e+13</td>\n",
       "      <td>-4.605000</td>\n",
       "    </tr>\n",
       "    <tr>\n",
       "      <th>25%</th>\n",
       "      <td>1.155950e+07</td>\n",
       "      <td>1.000000</td>\n",
       "      <td>7.000000</td>\n",
       "      <td>407.500000</td>\n",
       "      <td>2.000000</td>\n",
       "      <td>2.000000</td>\n",
       "      <td>4.0</td>\n",
       "      <td>4.000000</td>\n",
       "      <td>2.000000</td>\n",
       "      <td>66.0</td>\n",
       "      <td>938.000000</td>\n",
       "      <td>1184.000000</td>\n",
       "      <td>1172.000000</td>\n",
       "      <td>1392.000000</td>\n",
       "      <td>1648.000000</td>\n",
       "      <td>938.000000</td>\n",
       "      <td>1112.000000</td>\n",
       "      <td>6037.000000</td>\n",
       "      <td>1.000000</td>\n",
       "      <td>2.000000</td>\n",
       "      <td>2.000000</td>\n",
       "      <td>0.000000</td>\n",
       "      <td>2.000000</td>\n",
       "      <td>3.381154e+07</td>\n",
       "      <td>-1.184117e+08</td>\n",
       "      <td>5.703000e+03</td>\n",
       "      <td>1.0</td>\n",
       "      <td>420.000000</td>\n",
       "      <td>1.0</td>\n",
       "      <td>1.0</td>\n",
       "      <td>1.0</td>\n",
       "      <td>261.000000</td>\n",
       "      <td>6.037320e+07</td>\n",
       "      <td>12447.000000</td>\n",
       "      <td>1286.000000</td>\n",
       "      <td>46736.000000</td>\n",
       "      <td>96193.000000</td>\n",
       "      <td>0.000000</td>\n",
       "      <td>7.0</td>\n",
       "      <td>1.000000</td>\n",
       "      <td>6.000000</td>\n",
       "      <td>1.000000</td>\n",
       "      <td>180.000000</td>\n",
       "      <td>100.000000</td>\n",
       "      <td>1953.000000</td>\n",
       "      <td>1.000000</td>\n",
       "      <td>8.124500e+04</td>\n",
       "      <td>1.990232e+05</td>\n",
       "      <td>2015.0</td>\n",
       "      <td>8.222800e+04</td>\n",
       "      <td>2872.830000</td>\n",
       "      <td>13.000000</td>\n",
       "      <td>6.037320e+13</td>\n",
       "      <td>-0.025300</td>\n",
       "    </tr>\n",
       "    <tr>\n",
       "      <th>50%</th>\n",
       "      <td>1.254734e+07</td>\n",
       "      <td>1.000000</td>\n",
       "      <td>7.000000</td>\n",
       "      <td>616.000000</td>\n",
       "      <td>2.000000</td>\n",
       "      <td>3.000000</td>\n",
       "      <td>4.0</td>\n",
       "      <td>7.000000</td>\n",
       "      <td>2.000000</td>\n",
       "      <td>66.0</td>\n",
       "      <td>1244.000000</td>\n",
       "      <td>1540.000000</td>\n",
       "      <td>1518.000000</td>\n",
       "      <td>1440.000000</td>\n",
       "      <td>2104.500000</td>\n",
       "      <td>1248.000000</td>\n",
       "      <td>2028.000000</td>\n",
       "      <td>6037.000000</td>\n",
       "      <td>1.000000</td>\n",
       "      <td>2.000000</td>\n",
       "      <td>2.000000</td>\n",
       "      <td>433.000000</td>\n",
       "      <td>2.000000</td>\n",
       "      <td>3.402150e+07</td>\n",
       "      <td>-1.181734e+08</td>\n",
       "      <td>7.200000e+03</td>\n",
       "      <td>1.0</td>\n",
       "      <td>500.000000</td>\n",
       "      <td>1.0</td>\n",
       "      <td>1.0</td>\n",
       "      <td>1.0</td>\n",
       "      <td>261.000000</td>\n",
       "      <td>6.037620e+07</td>\n",
       "      <td>25218.000000</td>\n",
       "      <td>3101.000000</td>\n",
       "      <td>118887.000000</td>\n",
       "      <td>96393.000000</td>\n",
       "      <td>0.000000</td>\n",
       "      <td>7.0</td>\n",
       "      <td>1.000000</td>\n",
       "      <td>6.000000</td>\n",
       "      <td>1.000000</td>\n",
       "      <td>259.500000</td>\n",
       "      <td>159.000000</td>\n",
       "      <td>1970.000000</td>\n",
       "      <td>1.000000</td>\n",
       "      <td>1.320000e+05</td>\n",
       "      <td>3.428720e+05</td>\n",
       "      <td>2015.0</td>\n",
       "      <td>1.929700e+05</td>\n",
       "      <td>4542.750000</td>\n",
       "      <td>14.000000</td>\n",
       "      <td>6.037615e+13</td>\n",
       "      <td>0.006000</td>\n",
       "    </tr>\n",
       "    <tr>\n",
       "      <th>75%</th>\n",
       "      <td>1.422755e+07</td>\n",
       "      <td>1.000000</td>\n",
       "      <td>7.000000</td>\n",
       "      <td>872.000000</td>\n",
       "      <td>3.000000</td>\n",
       "      <td>4.000000</td>\n",
       "      <td>4.0</td>\n",
       "      <td>7.000000</td>\n",
       "      <td>3.000000</td>\n",
       "      <td>66.0</td>\n",
       "      <td>1614.000000</td>\n",
       "      <td>2095.000000</td>\n",
       "      <td>2056.000000</td>\n",
       "      <td>1440.000000</td>\n",
       "      <td>2862.000000</td>\n",
       "      <td>1619.000000</td>\n",
       "      <td>3431.000000</td>\n",
       "      <td>6059.000000</td>\n",
       "      <td>1.000000</td>\n",
       "      <td>3.000000</td>\n",
       "      <td>2.000000</td>\n",
       "      <td>484.000000</td>\n",
       "      <td>7.000000</td>\n",
       "      <td>3.417274e+07</td>\n",
       "      <td>-1.179216e+08</td>\n",
       "      <td>1.168600e+04</td>\n",
       "      <td>1.0</td>\n",
       "      <td>600.000000</td>\n",
       "      <td>1.0</td>\n",
       "      <td>1.0</td>\n",
       "      <td>1.0</td>\n",
       "      <td>266.000000</td>\n",
       "      <td>6.059042e+07</td>\n",
       "      <td>45457.000000</td>\n",
       "      <td>3101.000000</td>\n",
       "      <td>274800.000000</td>\n",
       "      <td>96987.000000</td>\n",
       "      <td>0.000000</td>\n",
       "      <td>7.0</td>\n",
       "      <td>1.000000</td>\n",
       "      <td>6.000000</td>\n",
       "      <td>1.000000</td>\n",
       "      <td>384.000000</td>\n",
       "      <td>361.000000</td>\n",
       "      <td>1987.000000</td>\n",
       "      <td>2.000000</td>\n",
       "      <td>2.105345e+05</td>\n",
       "      <td>5.405890e+05</td>\n",
       "      <td>2015.0</td>\n",
       "      <td>3.454195e+05</td>\n",
       "      <td>6901.090000</td>\n",
       "      <td>15.000000</td>\n",
       "      <td>6.059042e+13</td>\n",
       "      <td>0.039200</td>\n",
       "    </tr>\n",
       "    <tr>\n",
       "      <th>max</th>\n",
       "      <td>1.629608e+08</td>\n",
       "      <td>13.000000</td>\n",
       "      <td>21.000000</td>\n",
       "      <td>1555.000000</td>\n",
       "      <td>20.000000</td>\n",
       "      <td>16.000000</td>\n",
       "      <td>4.0</td>\n",
       "      <td>12.000000</td>\n",
       "      <td>20.000000</td>\n",
       "      <td>66.0</td>\n",
       "      <td>7625.000000</td>\n",
       "      <td>22741.000000</td>\n",
       "      <td>20013.000000</td>\n",
       "      <td>1584.000000</td>\n",
       "      <td>22741.000000</td>\n",
       "      <td>8352.000000</td>\n",
       "      <td>7224.000000</td>\n",
       "      <td>6111.000000</td>\n",
       "      <td>5.000000</td>\n",
       "      <td>20.000000</td>\n",
       "      <td>24.000000</td>\n",
       "      <td>7339.000000</td>\n",
       "      <td>24.000000</td>\n",
       "      <td>3.481601e+07</td>\n",
       "      <td>-1.175549e+08</td>\n",
       "      <td>6.971010e+06</td>\n",
       "      <td>1.0</td>\n",
       "      <td>1750.000000</td>\n",
       "      <td>1.0</td>\n",
       "      <td>1.0</td>\n",
       "      <td>1.0</td>\n",
       "      <td>275.000000</td>\n",
       "      <td>6.111009e+07</td>\n",
       "      <td>396556.000000</td>\n",
       "      <td>3101.000000</td>\n",
       "      <td>764167.000000</td>\n",
       "      <td>399675.000000</td>\n",
       "      <td>18.000000</td>\n",
       "      <td>7.0</td>\n",
       "      <td>4.000000</td>\n",
       "      <td>13.000000</td>\n",
       "      <td>143.000000</td>\n",
       "      <td>2678.000000</td>\n",
       "      <td>1366.000000</td>\n",
       "      <td>2015.000000</td>\n",
       "      <td>4.000000</td>\n",
       "      <td>9.948100e+06</td>\n",
       "      <td>2.775000e+07</td>\n",
       "      <td>2015.0</td>\n",
       "      <td>2.450000e+07</td>\n",
       "      <td>321936.090000</td>\n",
       "      <td>99.000000</td>\n",
       "      <td>6.111009e+13</td>\n",
       "      <td>4.737000</td>\n",
       "    </tr>\n",
       "  </tbody>\n",
       "</table>\n",
       "</div>"
      ],
      "text/plain": [
       "           parcelid  airconditioningtypeid  architecturalstyletypeid  \\\n",
       "count  9.027500e+04           28781.000000                261.000000   \n",
       "mean   1.298466e+07               1.816372                  7.229885   \n",
       "std    2.504510e+06               2.974168                  2.716196   \n",
       "min    1.071174e+07               1.000000                  2.000000   \n",
       "25%    1.155950e+07               1.000000                  7.000000   \n",
       "50%    1.254734e+07               1.000000                  7.000000   \n",
       "75%    1.422755e+07               1.000000                  7.000000   \n",
       "max    1.629608e+08              13.000000                 21.000000   \n",
       "\n",
       "       basementsqft   bathroomcnt    bedroomcnt  buildingclasstypeid  \\\n",
       "count     43.000000  90275.000000  90275.000000                 16.0   \n",
       "mean     713.581395      2.279474      3.031869                  4.0   \n",
       "std      437.434198      1.004271      1.156436                  0.0   \n",
       "min      100.000000      0.000000      0.000000                  4.0   \n",
       "25%      407.500000      2.000000      2.000000                  4.0   \n",
       "50%      616.000000      2.000000      3.000000                  4.0   \n",
       "75%      872.000000      3.000000      4.000000                  4.0   \n",
       "max     1555.000000     20.000000     16.000000                  4.0   \n",
       "\n",
       "       buildingqualitytypeid  calculatedbathnbr  decktypeid  \\\n",
       "count           57364.000000       89093.000000       658.0   \n",
       "mean                5.565407           2.309216        66.0   \n",
       "std                 1.900602           0.976172         0.0   \n",
       "min                 1.000000           1.000000        66.0   \n",
       "25%                 4.000000           2.000000        66.0   \n",
       "50%                 7.000000           2.000000        66.0   \n",
       "75%                 7.000000           3.000000        66.0   \n",
       "max                12.000000          20.000000        66.0   \n",
       "\n",
       "       finishedfloor1squarefeet  calculatedfinishedsquarefeet  \\\n",
       "count               6856.000000                  89614.000000   \n",
       "mean                1347.974037                   1773.185987   \n",
       "std                  652.399026                    928.162393   \n",
       "min                   44.000000                      2.000000   \n",
       "25%                  938.000000                   1184.000000   \n",
       "50%                 1244.000000                   1540.000000   \n",
       "75%                 1614.000000                   2095.000000   \n",
       "max                 7625.000000                  22741.000000   \n",
       "\n",
       "       finishedsquarefeet12  finishedsquarefeet13  finishedsquarefeet15  \\\n",
       "count          85596.000000             33.000000           3564.000000   \n",
       "mean            1745.454531           1404.545455           2380.090067   \n",
       "std              909.941166            110.108211           1068.207182   \n",
       "min                2.000000           1056.000000            560.000000   \n",
       "25%             1172.000000           1392.000000           1648.000000   \n",
       "50%             1518.000000           1440.000000           2104.500000   \n",
       "75%             2056.000000           1440.000000           2862.000000   \n",
       "max            20013.000000           1584.000000          22741.000000   \n",
       "\n",
       "       finishedsquarefeet50  finishedsquarefeet6          fips  fireplacecnt  \\\n",
       "count           6856.000000           421.000000  90275.000000   9607.000000   \n",
       "mean            1355.546674          2302.546318   6048.870551      1.187884   \n",
       "std              673.703488          1346.255242     20.663461      0.484173   \n",
       "min               44.000000           257.000000   6037.000000      1.000000   \n",
       "25%              938.000000          1112.000000   6037.000000      1.000000   \n",
       "50%             1248.000000          2028.000000   6037.000000      1.000000   \n",
       "75%             1619.000000          3431.000000   6059.000000      1.000000   \n",
       "max             8352.000000          7224.000000   6111.000000      5.000000   \n",
       "\n",
       "        fullbathcnt  garagecarcnt  garagetotalsqft  heatingorsystemtypeid  \\\n",
       "count  89093.000000  29937.000000     29937.000000           56080.000000   \n",
       "mean       2.241231      1.812005       345.521228               3.926979   \n",
       "std        0.963142      0.608761       267.015918               3.684382   \n",
       "min        1.000000      0.000000         0.000000               1.000000   \n",
       "25%        2.000000      2.000000         0.000000               2.000000   \n",
       "50%        2.000000      2.000000       433.000000               2.000000   \n",
       "75%        3.000000      2.000000       484.000000               7.000000   \n",
       "max       20.000000     24.000000      7339.000000              24.000000   \n",
       "\n",
       "           latitude     longitude  lotsizesquarefeet  poolcnt  poolsizesum  \\\n",
       "count  9.027500e+04  9.027500e+04       8.012500e+04  17901.0   969.000000   \n",
       "mean   3.400541e+07 -1.181989e+08       2.911016e+04      1.0   519.827657   \n",
       "std    2.649654e+05  3.606032e+05       1.217213e+05      0.0   155.054210   \n",
       "min    3.333930e+07 -1.194479e+08       1.670000e+02      1.0    28.000000   \n",
       "25%    3.381154e+07 -1.184117e+08       5.703000e+03      1.0   420.000000   \n",
       "50%    3.402150e+07 -1.181734e+08       7.200000e+03      1.0   500.000000   \n",
       "75%    3.417274e+07 -1.179216e+08       1.168600e+04      1.0   600.000000   \n",
       "max    3.481601e+07 -1.175549e+08       6.971010e+06      1.0  1750.000000   \n",
       "\n",
       "       pooltypeid10  pooltypeid2  pooltypeid7  propertylandusetypeid  \\\n",
       "count        1161.0       1204.0      16697.0           90275.000000   \n",
       "mean            1.0          1.0          1.0             261.832179   \n",
       "std             0.0          0.0          0.0               5.182901   \n",
       "min             1.0          1.0          1.0              31.000000   \n",
       "25%             1.0          1.0          1.0             261.000000   \n",
       "50%             1.0          1.0          1.0             261.000000   \n",
       "75%             1.0          1.0          1.0             266.000000   \n",
       "max             1.0          1.0          1.0             275.000000   \n",
       "\n",
       "       rawcensustractandblock   regionidcity  regionidcounty  \\\n",
       "count            9.027500e+04   88472.000000    90275.000000   \n",
       "mean             6.049179e+07   33761.332851     2525.420770   \n",
       "std              2.050549e+05   46672.393863      805.694842   \n",
       "min              6.037101e+07    3491.000000     1286.000000   \n",
       "25%              6.037320e+07   12447.000000     1286.000000   \n",
       "50%              6.037620e+07   25218.000000     3101.000000   \n",
       "75%              6.059042e+07   45457.000000     3101.000000   \n",
       "max              6.111009e+07  396556.000000     3101.000000   \n",
       "\n",
       "       regionidneighborhood    regionidzip       roomcnt  storytypeid  \\\n",
       "count          36012.000000   90240.000000  90275.000000         43.0   \n",
       "mean          190646.540237   96586.131184      1.478516          7.0   \n",
       "std           166228.910572    3661.339094      2.819627          0.0   \n",
       "min             6952.000000   95982.000000      0.000000          7.0   \n",
       "25%            46736.000000   96193.000000      0.000000          7.0   \n",
       "50%           118887.000000   96393.000000      0.000000          7.0   \n",
       "75%           274800.000000   96987.000000      0.000000          7.0   \n",
       "max           764167.000000  399675.000000     18.000000          7.0   \n",
       "\n",
       "       threequarterbathnbr  typeconstructiontypeid       unitcnt  \\\n",
       "count         12009.000000              299.000000  58353.000000   \n",
       "mean              1.008743                6.010033      1.110414   \n",
       "std               0.100830                0.437235      0.797235   \n",
       "min               1.000000                4.000000      1.000000   \n",
       "25%               1.000000                6.000000      1.000000   \n",
       "50%               1.000000                6.000000      1.000000   \n",
       "75%               1.000000                6.000000      1.000000   \n",
       "max               4.000000               13.000000    143.000000   \n",
       "\n",
       "       yardbuildingsqft17  yardbuildingsqft26     yearbuilt  numberofstories  \\\n",
       "count         2646.000000           95.000000  89519.000000     20570.000000   \n",
       "mean           310.142101          311.694737   1968.532870         1.440739   \n",
       "std            216.721869          346.354850     23.763475         0.544498   \n",
       "min             25.000000           18.000000   1885.000000         1.000000   \n",
       "25%            180.000000          100.000000   1953.000000         1.000000   \n",
       "50%            259.500000          159.000000   1970.000000         1.000000   \n",
       "75%            384.000000          361.000000   1987.000000         2.000000   \n",
       "max           2678.000000         1366.000000   2015.000000         4.000000   \n",
       "\n",
       "       structuretaxvaluedollarcnt  taxvaluedollarcnt  assessmentyear  \\\n",
       "count                8.989500e+04       9.027400e+04         90275.0   \n",
       "mean                 1.800934e+05       4.576726e+05          2015.0   \n",
       "std                  2.091299e+05       5.548844e+05             0.0   \n",
       "min                  1.000000e+02       2.200000e+01          2015.0   \n",
       "25%                  8.124500e+04       1.990232e+05          2015.0   \n",
       "50%                  1.320000e+05       3.428720e+05          2015.0   \n",
       "75%                  2.105345e+05       5.405890e+05          2015.0   \n",
       "max                  9.948100e+06       2.775000e+07          2015.0   \n",
       "\n",
       "       landtaxvaluedollarcnt      taxamount  taxdelinquencyyear  \\\n",
       "count           9.027400e+04   90269.000000         1783.000000   \n",
       "mean            2.783353e+05    5983.975927           13.402692   \n",
       "std             4.004955e+05    6838.876956            2.715966   \n",
       "min             2.200000e+01      49.080000            6.000000   \n",
       "25%             8.222800e+04    2872.830000           13.000000   \n",
       "50%             1.929700e+05    4542.750000           14.000000   \n",
       "75%             3.454195e+05    6901.090000           15.000000   \n",
       "max             2.450000e+07  321936.090000           99.000000   \n",
       "\n",
       "       censustractandblock      logerror  \n",
       "count         8.967000e+04  90275.000000  \n",
       "mean          6.049151e+13      0.011457  \n",
       "std           2.046605e+11      0.161079  \n",
       "min           6.037101e+13     -4.605000  \n",
       "25%           6.037320e+13     -0.025300  \n",
       "50%           6.037615e+13      0.006000  \n",
       "75%           6.059042e+13      0.039200  \n",
       "max           6.111009e+13      4.737000  "
      ]
     },
     "execution_count": 6,
     "metadata": {},
     "output_type": "execute_result"
    }
   ],
   "source": [
    "data2016.describe()"
   ]
  },
  {
   "cell_type": "markdown",
   "metadata": {
    "id": "ydWwMreHvFRH"
   },
   "source": [
    "### Step 1.2 Check data types & Study Categorical Features"
   ]
  },
  {
   "cell_type": "markdown",
   "metadata": {
    "id": "Kc4pV79svFRH"
   },
   "source": [
    "The output says *float64(53), int64(1), object(6)*, so we can say that most of the feature are floats and ints, but we have six feature that are objects.\n",
    "\n",
    "Let's analyze the 6 objects first."
   ]
  },
  {
   "cell_type": "code",
   "execution_count": 7,
   "metadata": {
    "id": "xtGVVAQGvFRI",
    "outputId": "ebf405a7-76ec-4801-b35e-15dcd7f22955"
   },
   "outputs": [
    {
     "data": {
      "text/plain": [
       "Index(['hashottuborspa', 'propertycountylandusecode', 'propertyzoningdesc',\n",
       "       'fireplaceflag', 'taxdelinquencyflag', 'transactiondate'],\n",
       "      dtype='object')"
      ]
     },
     "execution_count": 7,
     "metadata": {},
     "output_type": "execute_result"
    }
   ],
   "source": [
    "data2016.select_dtypes(include = 'object').columns"
   ]
  },
  {
   "cell_type": "markdown",
   "metadata": {
    "id": "Oztj3XwGvFRI"
   },
   "source": [
    "##### Step 1.2.1 Categorical  features\n",
    "\n",
    "Quick fixes that we can make are:\n",
    "* Convert `transactiondate` into a format that is better fit.\n",
    "* Encode `hashottuborspa`, `fireplaceflag`.\n",
    "    * Add new feature `hashottub`, a number either 0 or 1.\n",
    "    * Add new feature `hasspa`, a number either 0 or 1.\n",
    "    * Add new feature `hasfireplace`, a number either 0 or 1.\n",
    "    * remove `hashottuborspa`.\n",
    "* Consider using the different labels of `propertyzoningdesc` for prediction.\n",
    "    * Might fill the missing values with KNN.\n",
    "* `taxdelinquencyflag`, `propertycountylandusecode`, `propertyzoningdesc` could be helpful but we still need to see their missing values rates.\n",
    "\n",
    "We will make these adjustments later."
   ]
  },
  {
   "cell_type": "markdown",
   "metadata": {
    "id": "EFp3Bwp-vFRI"
   },
   "source": [
    "##### Step 1.2.2 Numerical features\n",
    "\n",
    "For the numerical features, we can consider these options:\n",
    "* Convert all the float64 to float32, for faster computation.\n",
    "    * To avoid losing information we can rescale the data and then convert it all, so the change will be uniform.\n",
    "* Convert int64 to float32, if it makes sense.\n",
    "    * Remember we cannot say there is 1.5 pools in a house!"
   ]
  },
  {
   "cell_type": "markdown",
   "metadata": {
    "id": "hxc_A9qmvFRJ"
   },
   "source": [
    "### Step 1.3 Correlation"
   ]
  },
  {
   "cell_type": "markdown",
   "metadata": {
    "id": "PGsHzF7IvFRJ"
   },
   "source": [
    "Before taking any decision we have to study the correlations and the missing values rate."
   ]
  },
  {
   "cell_type": "code",
   "execution_count": 8,
   "metadata": {
    "id": "iDlOo4cmvFRJ",
    "outputId": "bcd19b02-14f4-4a9c-b72d-6e8b2212b94d"
   },
   "outputs": [
    {
     "data": {
      "image/png": "[encoded data removed]",
      "text/plain": [
       "<Figure size 864x576 with 2 Axes>"
      ]
     },
     "metadata": {
      "needs_background": "light"
     },
     "output_type": "display_data"
    },
    {
     "data": {
      "text/plain": [
       "<Figure size 432x288 with 0 Axes>"
      ]
     },
     "metadata": {},
     "output_type": "display_data"
    }
   ],
   "source": [
    "def numeric_heatmap(df, col_type):\n",
    "    plt.figure(figsize = (12,8))\n",
    "    sns.heatmap(data=df.select_dtypes(include=col_type).corr())\n",
    "    plt.show()\n",
    "    plt.gcf().clear()\n",
    "    pass\n",
    "\n",
    "cols = ['float64','int64'] #choose the type you want to see\n",
    "numeric_heatmap(data2016, cols)"
   ]
  },
  {
   "cell_type": "markdown",
   "metadata": {},
   "source": [
    "It doesn't look like there are some significant patterns, so we can skip this step."
   ]
  },
  {
   "cell_type": "markdown",
   "metadata": {
    "id": "iNfMOZr1vFRK"
   },
   "source": [
    "### Step 1.4:  Identify Missing Values"
   ]
  },
  {
   "cell_type": "markdown",
   "metadata": {
    "id": "cF1qoNK4vFRK"
   },
   "source": [
    "Here, we will proceed with identifying the features with missing values, that need to be handled.\n",
    "* If they are categorical, we need to carefully study them.\n",
    "* If they are numerical, it feels more reasonable to drop them.\n",
    "\n",
    "Let's start by visualizing those features and then drop some of them."
   ]
  },
  {
   "cell_type": "code",
   "execution_count": 9,
   "metadata": {
    "id": "O0PCMYqwvFRK",
    "outputId": "e2413a6b-a4ab-4293-a954-87ad9440c1a9"
   },
   "outputs": [
    {
     "data": {
      "image/png": "[encoded data removed]",
      "text/plain": [
       "<Figure size 864x1296 with 1 Axes>"
      ]
     },
     "metadata": {
      "needs_background": "light"
     },
     "output_type": "display_data"
    }
   ],
   "source": [
    "def missing_values_barplot(dataset, percentage=False):\n",
    "    missing_df = dataset.isnull().sum(axis=0).reset_index()\n",
    "    missing_df.columns = ['column_name', 'missing_count']\n",
    "    if(percentage):\n",
    "        # missing_df = missing_df.loc[missing_df['missing_count']>0] * 100 / missing_df\n",
    "        missing_df = missing_df.div(missing_df.sum(axis=1), axis=0).multiply(100)\n",
    "    else:\n",
    "        missing_df = missing_df.loc[missing_df['missing_count']>0]\n",
    "    \n",
    "    missing_df = missing_df.sort_values(by='missing_count')\n",
    "\n",
    "    ind = np.arange(missing_df.shape[0])\n",
    "    width = 0.9\n",
    "    fig, ax = plt.subplots(figsize=(12,18))\n",
    "    rects = ax.barh(ind, missing_df.missing_count.values, color='green')\n",
    "    ax.set_yticks(ind)\n",
    "    ax.set_yticklabels(missing_df.column_name.values, rotation='horizontal')\n",
    "    ax.set_xlabel(\"Count of missing values\")\n",
    "    ax.set_title(\"Number of missing values in each column\")\n",
    "    plt.show()\n",
    "    pass\n",
    "\n",
    "missing_values_barplot(data2016)"
   ]
  },
  {
   "cell_type": "code",
   "execution_count": 10,
   "metadata": {
    "id": "tei2enoLvFRK",
    "outputId": "d7c35b99-5529-496c-91dd-dba255c5e76e"
   },
   "outputs": [
    {
     "data": {
      "text/plain": [
       "buildingclasstypeid             0.999823\n",
       "finishedsquarefeet13            0.999634\n",
       "basementsqft                    0.999524\n",
       "storytypeid                     0.999524\n",
       "yardbuildingsqft26              0.998948\n",
       "fireplaceflag                   0.997541\n",
       "architecturalstyletypeid        0.997109\n",
       "typeconstructiontypeid          0.996688\n",
       "finishedsquarefeet6             0.995336\n",
       "decktypeid                      0.992711\n",
       "poolsizesum                     0.989266\n",
       "pooltypeid10                    0.987139\n",
       "pooltypeid2                     0.986663\n",
       "taxdelinquencyyear              0.980249\n",
       "taxdelinquencyflag              0.980249\n",
       "hashottuborspa                  0.973802\n",
       "yardbuildingsqft17              0.970690\n",
       "finishedsquarefeet15            0.960521\n",
       "finishedsquarefeet50            0.924054\n",
       "finishedfloor1squarefeet        0.924054\n",
       "fireplacecnt                    0.893581\n",
       "threequarterbathnbr             0.866973\n",
       "pooltypeid7                     0.815043\n",
       "poolcnt                         0.801706\n",
       "numberofstories                 0.772141\n",
       "airconditioningtypeid           0.681185\n",
       "garagetotalsqft                 0.668380\n",
       "garagecarcnt                    0.668380\n",
       "regionidneighborhood            0.601086\n",
       "heatingorsystemtypeid           0.378787\n",
       "buildingqualitytypeid           0.364564\n",
       "propertyzoningdesc              0.354052\n",
       "unitcnt                         0.353608\n",
       "lotsizesquarefeet               0.112434\n",
       "finishedsquarefeet12            0.051831\n",
       "regionidcity                    0.019972\n",
       "calculatedbathnbr               0.013093\n",
       "fullbathcnt                     0.013093\n",
       "yearbuilt                       0.008374\n",
       "calculatedfinishedsquarefeet    0.007322\n",
       "censustractandblock             0.006702\n",
       "structuretaxvaluedollarcnt      0.004209\n",
       "regionidzip                     0.000388\n",
       "taxamount                       0.000066\n",
       "taxvaluedollarcnt               0.000011\n",
       "landtaxvaluedollarcnt           0.000011\n",
       "propertycountylandusecode       0.000011\n",
       "assessmentyear                  0.000000\n",
       "logerror                        0.000000\n",
       "parcelid                        0.000000\n",
       "roomcnt                         0.000000\n",
       "regionidcounty                  0.000000\n",
       "rawcensustractandblock          0.000000\n",
       "propertylandusetypeid           0.000000\n",
       "longitude                       0.000000\n",
       "latitude                        0.000000\n",
       "fips                            0.000000\n",
       "bedroomcnt                      0.000000\n",
       "bathroomcnt                     0.000000\n",
       "transactiondate                 0.000000\n",
       "dtype: float64"
      ]
     },
     "execution_count": 10,
     "metadata": {},
     "output_type": "execute_result"
    }
   ],
   "source": [
    "missing_ratio = data2016.isna().sum().sort_values(ascending = False)/len(data2016)\n",
    "missing_ratio"
   ]
  },
  {
   "cell_type": "markdown",
   "metadata": {
    "id": "XRr1Yo1SvFRL"
   },
   "source": [
    "We can now divide the features in three groups, basing on their missing values ratio:\n",
    "* More than 89%\n",
    "    * Probably best to drop, unless they are categorical.\n",
    "* More than 60%\n",
    "    * Could be time for some feature engineering.\n",
    "    * Can be filled artificially.\n",
    "* 10% or less\n",
    "    * Can be filled artificially.\n",
    "\n",
    "The first thing to do is to drop some data, which might be in our way to predict the logerror. The presence of too many feature may become difficult to handle.\n",
    "\n",
    "##### Step 1.4.1 Removing features that miss 89% of data or more"
   ]
  },
  {
   "cell_type": "code",
   "execution_count": 11,
   "metadata": {
    "id": "3EsJkxDKvFRL",
    "outputId": "519788ae-4199-4aed-f6e1-5346d16e22a1"
   },
   "outputs": [
    {
     "data": {
      "text/plain": [
       "buildingclasstypeid         float64\n",
       "finishedsquarefeet13        float64\n",
       "basementsqft                float64\n",
       "storytypeid                 float64\n",
       "yardbuildingsqft26          float64\n",
       "fireplaceflag                object\n",
       "architecturalstyletypeid    float64\n",
       "typeconstructiontypeid      float64\n",
       "finishedsquarefeet6         float64\n",
       "decktypeid                  float64\n",
       "poolsizesum                 float64\n",
       "pooltypeid10                float64\n",
       "pooltypeid2                 float64\n",
       "taxdelinquencyyear          float64\n",
       "taxdelinquencyflag           object\n",
       "hashottuborspa               object\n",
       "yardbuildingsqft17          float64\n",
       "finishedsquarefeet15        float64\n",
       "finishedsquarefeet50        float64\n",
       "finishedfloor1squarefeet    float64\n",
       "fireplacecnt                float64\n",
       "dtype: object"
      ]
     },
     "execution_count": 11,
     "metadata": {},
     "output_type": "execute_result"
    }
   ],
   "source": [
    "to_drop = missing_ratio[missing_ratio>=0.89].index.tolist()\n",
    "data2016[to_drop].dtypes"
   ]
  },
  {
   "cell_type": "markdown",
   "metadata": {
    "id": "o_ghWj-GvFRL"
   },
   "source": [
    "In the following phase, we will describe the strategies adopted to handle the missing data. "
   ]
  },
  {
   "cell_type": "markdown",
   "metadata": {
    "id": "07YhtFchJFNF"
   },
   "source": [
    "### Step 1.5: LogError Outliers\n",
    "This step's goal is to identify the presence of eventual outliers and to evaluate the appropriate way to handle them.\n",
    "\n",
    "The first thing we are going to do is to plot the LogError distribution over the recorded values.\n",
    "\n",
    "The second thing we are going to do is to plot the frequency of the LogError's values over the recorder values."
   ]
  },
  {
   "cell_type": "code",
   "execution_count": 13,
   "metadata": {
    "id": "jc_L-7K5vFRM",
    "outputId": "c34f0408-f472-4a46-e860-9b8f4b2a5108"
   },
   "outputs": [
    {
     "data": {
      "image/png": "[encoded data removed]",
      "text/plain": [
       "<Figure size 576x432 with 1 Axes>"
      ]
     },
     "metadata": {
      "needs_background": "light"
     },
     "output_type": "display_data"
    }
   ],
   "source": [
    "plt.figure(figsize=(8,6))\n",
    "plt.scatter(range(data2016.shape[0]), np.sort(data2016.logerror.values))\n",
    "plt.xlabel('index', fontsize=12)\n",
    "plt.ylabel('logerror', fontsize=12)\n",
    "plt.show()"
   ]
  },
  {
   "cell_type": "markdown",
   "metadata": {},
   "source": [
    "We can say that most of the values of the LogError belong to the interval $[-2,2]$. \n",
    "\n",
    "This could be an hint on where to draw the line between normal values and outliers.\n",
    "\n",
    "Let's visualize the frequency distribution."
   ]
  },
  {
   "cell_type": "code",
   "execution_count": 14,
   "metadata": {
    "id": "SKX_OCJKvFRM",
    "outputId": "c2ba976f-9568-452b-e795-1368ffa390a9"
   },
   "outputs": [
    {
     "data": {
      "image/png": "[encoded data removed]",
      "text/plain": [
       "<Figure size 864x576 with 1 Axes>"
      ]
     },
     "metadata": {
      "needs_background": "light"
     },
     "output_type": "display_data"
    }
   ],
   "source": [
    "plt.figure(figsize=(12,8))\n",
    "sns.histplot(data2016.logerror.values, bins=100, kde=False)\n",
    "plt.xlabel('logerror', fontsize=12)\n",
    "# plt.xlim((-4,4))\n",
    "plt.show()"
   ]
  },
  {
   "cell_type": "markdown",
   "metadata": {},
   "source": [
    "It is obvious that most of the values belongs to the interval $[-1,1]$.\n",
    "\n",
    "But, even if it's hard to see it, there are some values that lie in the intervals $[-4,-1]$ and $[1,4]$.\n",
    "\n",
    "Let's evaluate the entity of the presence of the outliers that belongs in these two intervals. The value will be computed from different increasing spans."
   ]
  },
  {
   "cell_type": "code",
   "execution_count": 15,
   "metadata": {},
   "outputs": [
    {
     "name": "stdout",
     "output_type": "stream",
     "text": [
      "Percentage of outliers, assuming as the regular values interval [-0.5,0.5] : 1.3890888950429243 %\n",
      "Percentage of outliers, assuming as the regular values interval [-1.0,1.0] : 0.3788424259207976 %\n",
      "Percentage of outliers, assuming as the regular values interval [-1.5,1.5] : 0.1772362226530047 %\n",
      "Percentage of outliers, assuming as the regular values interval [-2.0,2.0] : 0.12517308224868456 %\n",
      "Percentage of outliers, assuming as the regular values interval [-2.5,2.5] : 0.03544724453060094 %\n",
      "Percentage of outliers, assuming as the regular values interval [-3.0,3.0] : 0.01993907504846303 %\n",
      "Percentage of outliers, assuming as the regular values interval [-3.5,3.5] : 0.007754084741068956 %\n"
     ]
    }
   ],
   "source": [
    "for i in [0.5,1.0,1.5,2.0,2.5,3.0,3.5]:\n",
    "    print(f\"Percentage of outliers, assuming as the regular values interval [-{i},{i}] : {100*(data2016[data2016['logerror'] > i].size + data2016[data2016['logerror'] < -i].size) / data2016.size} %\")"
   ]
  },
  {
   "cell_type": "markdown",
   "metadata": {},
   "source": [
    "It's clear that the more we widen the interval of regular values, the less they are relevant.\n",
    "\n",
    "We also need to consider that the LogError measure involves the use of the logarithm, so the presence of these values is not necessarily correlated to a problem of any kind. Even if we consider the presence of this values, the distribution curve appears to be nicely normal. Therefore, for the moment, no action will be taken."
   ]
  },
  {
   "cell_type": "markdown",
   "metadata": {
    "id": "ufErcTn5vFRN"
   },
   "source": [
    "## Step 2: Cleaning and Feature Engineering\n",
    "\n",
    "We have to face some difficult decisions now, which will mainly concern:\n",
    "* Deleting columns/rows\n",
    "* Artificial Filling (if over 60%)\n",
    "* Type Conversion\n",
    "* Rescaling"
   ]
  },
  {
   "cell_type": "code",
   "execution_count": 16,
   "metadata": {
    "id": "YDjx7bcYvFRN"
   },
   "outputs": [],
   "source": [
    "#Binding the dataset to a new name\n",
    "df_train = data2016"
   ]
  },
  {
   "cell_type": "markdown",
   "metadata": {
    "id": "9m4rXX8wJai4"
   },
   "source": [
    "### Step 2.1: Data Cleaning\n",
    "We need to identify:\n",
    "- Missing data\n",
    "- Unhelpful features\n",
    "- Non-numeric data\n",
    "- Data that needs to be rescaled \n",
    "\n",
    "---\n",
    "\n",
    "In section 1.4 we identified the columns that were missing more than 89% of data. We can start by dropping them.\n",
    "`propertyzoningdesc` is a feature whose type is string, so in order to keep our models simple we are just going to drop it."
   ]
  },
  {
   "cell_type": "code",
   "execution_count": 17,
   "metadata": {},
   "outputs": [],
   "source": [
    "to_drop = to_drop + ['propertyzoningdesc']\n",
    "df_train = df_train.drop(columns=to_drop, axis = 1)\n",
    "df_train = df_train.replace([np.inf, -np.inf], np.nan) #inf values are as unhelpful as missing data, so we are going to substitute them as such."
   ]
  },
  {
   "cell_type": "markdown",
   "metadata": {},
   "source": [
    "Now that we have removed the less significant part of the dataset, we can now proceed to fill the columns' cells whose missing data ratio is over 60%."
   ]
  },
  {
   "cell_type": "markdown",
   "metadata": {},
   "source": [
    "#### Step 2.1.1 Features with missing data percentage above 60% "
   ]
  },
  {
   "cell_type": "code",
   "execution_count": 18,
   "metadata": {},
   "outputs": [
    {
     "name": "stdout",
     "output_type": "stream",
     "text": [
      "[regionidneighborhood]  -> 0.6010855718637497\n",
      "[garagetotalsqft]       -> 0.6683799501523123\n",
      "[poolcnt]               -> 0.8017058986430352\n",
      "[airconditioningtypeid] -> 0.681185267238992\n",
      "[numberofstories]       -> 0.7721406812517309\n",
      "[garagecarcnt]          -> 0.6683799501523123\n",
      "[pooltypeid7]           -> 0.8150429243976738\n",
      "[threequarterbathnbr]   -> 0.8669731376350042\n"
     ]
    }
   ],
   "source": [
    "to_fill = missing_ratio[missing_ratio>=0.6].index.tolist() # list of columns to fill\n",
    "to_fill = list(set(to_fill) - set(to_drop)) # we don't need to consider the dropped columns\n",
    "\n",
    "for col in to_fill:\n",
    "    print(f\"[{col}] {' ' * (23 - len(col) - 2)}-> {missing_ratio[col]}\")"
   ]
  },
  {
   "cell_type": "markdown",
   "metadata": {},
   "source": [
    "These features need to be filled in some way. Let's start with some quick fixes:\n",
    "- `poolcnt` is the number of pools located in the considered house. It`s pretty safe to assume that if the data is missing, probably there are none, so we could just fill these cells with a 0.\n",
    "\n",
    "- `pooltypeid7`, similarly as the previous feature, we can assume that the missing value means that there's no pool. In fact, the missing value percentage is similar to the previous one. In this case, this feature signals if the pool has an hot tub or not. We will fill the cells with the value -1, that means \"no hot tub\". We will think about the meaning of the value later.\n",
    "\n",
    "- `garagecarcnt` is the number of garages that are present on the lot. As we previously did, we are going to assume that a missing value means that there are none. The empty cells are going to be filled with 0.\n",
    "\n",
    "- `threequarterbathnbr` is the number of \"three-quarter bathrooms\" that are present on the lot. We are going to assume once again that a missing value means that there are none. The empty cells are going to be filled with 0.\n",
    "\n",
    "- `garagetotalsqft` represents the surface occupied by the garages. The missing values percentage is the same as `garagecarcnt`, so we are going to fill the empty cells with 0, because we are assuming that that's the meaning of a missing value.\n",
    "\n",
    "- `airconditioningtypeid` presents the same situation we have discussed for the previous features. In this case, we are going to fill the empty cells with the value 5, that represents the absence of an air-conditioning system. "
   ]
  },
  {
   "cell_type": "code",
   "execution_count": 19,
   "metadata": {},
   "outputs": [],
   "source": [
    "df_train['poolcnt'] = df_train['poolcnt'].fillna(0) #filling the empty cells of 'poolcnt'\n",
    "df_train['pooltypeid7'] = df_train['pooltypeid7'].fillna(-1) #filling the empty cells of 'pooltypeid7'\n",
    "df_train['garagecarcnt'] = df_train['garagecarcnt'].fillna(0) #filling the empty cells of 'garagecarcnt'\n",
    "df_train['threequarterbathnbr'] = df_train['threequarterbathnbr'].fillna(0) #filling the empty cells of 'threequarterbathnbr'\n",
    "df_train['garagetotalsqft'] = df_train['garagetotalsqft'].fillna(0) #filling the empty cells of 'garagetotalsqft'\n",
    "df_train['airconditioningtypeid'] = df_train['airconditioningtypeid'].fillna(5) #filling the empty cells of 'airconditioningtypeid'"
   ]
  },
  {
   "cell_type": "markdown",
   "metadata": {},
   "source": [
    "The remaining features need some considerations before doing any operation on them.\n",
    "- `regionidneighborhood` does not represent a property of the house itself, but an id assigned by the local administration. It will be reasonable to fill these missing values with the mean of the values of the literal neighbors. An implementation of the k-NN algorithm may come at hand. The k parameter can be set as 10.\n",
    "\n",
    "- `numberofstories` reprents the number of stories of the house. Usually, the houses of a neighborhood do not differ significantly from each others. As we saw for the previuous feature, it may be useful to use the k-NN algorithm to fill the empty cells of this column, basing on the geografic location and the architechtural style of the house. \n",
    "\n"
   ]
  },
  {
   "cell_type": "code",
   "execution_count": 20,
   "metadata": {},
   "outputs": [],
   "source": [
    "def k_NN_filling(to_predict, to_train, k):\n",
    "    #selecting the training features that we need\n",
    "    train_x = df_train[to_train]\n",
    "    train_y = df_train[to_predict]\n",
    "    to_transform = to_train + to_predict\n",
    "    # define imputer\n",
    "    imputer = KNNImputer()\n",
    "    # fit on the dataset\n",
    "    imputer.fit(df_train[to_transform])\n",
    "    # transform the dataset\n",
    "    df_train[to_transform] = imputer.transform(df_train[to_transform])"
   ]
  },
  {
   "cell_type": "code",
   "execution_count": 21,
   "metadata": {},
   "outputs": [
    {
     "name": "stdout",
     "output_type": "stream",
     "text": [
      "CPU times: total: 5min 6s\n",
      "Wall time: 3min 20s\n"
     ]
    }
   ],
   "source": [
    "%%time\n",
    "#Filling for 'regionidneighborhood'\n",
    "regionidneighborhood_to_predict = ['regionidneighborhood']\n",
    "regionidneighborhood_to_train   = ['latitude','longitude']\n",
    "k_NN_filling(to_predict=regionidneighborhood_to_predict, to_train=regionidneighborhood_to_train, k=10)"
   ]
  },
  {
   "cell_type": "code",
   "execution_count": 22,
   "metadata": {},
   "outputs": [
    {
     "name": "stdout",
     "output_type": "stream",
     "text": [
      "CPU times: total: 6min 8s\n",
      "Wall time: 3min 51s\n"
     ]
    }
   ],
   "source": [
    "%%time\n",
    "#Filling for 'numberofstories'\n",
    "numberofstories_to_predict = ['numberofstories']\n",
    "numberofstories_to_train   = ['latitude','longitude']\n",
    "k_NN_filling(to_predict=numberofstories_to_predict, to_train=numberofstories_to_train, k=10)"
   ]
  },
  {
   "cell_type": "markdown",
   "metadata": {},
   "source": [
    "#### Step 2.1.2 Features with missing data percentage below 60% \n",
    "We will now proceed with the managing the other features. We will now consider the ones whose missing data percentage is below 60%. Due to time-economy reasons, we will for now consider just the ones whose percentage is above 1%."
   ]
  },
  {
   "cell_type": "code",
   "execution_count": 23,
   "metadata": {},
   "outputs": [
    {
     "name": "stdout",
     "output_type": "stream",
     "text": [
      "[finishedsquarefeet12]         -> 0.05183051786208807\n",
      "[lotsizesquarefeet]            -> 0.11243422874549987\n",
      "[fullbathcnt]                  -> 0.013093325948490723\n",
      "[regionidcity]                 -> 0.01997230684021047\n",
      "[buildingqualitytypeid]        -> 0.3645638327333149\n",
      "[unitcnt]                      -> 0.353608418720576\n",
      "[heatingorsystemtypeid]        -> 0.3787870396012185\n",
      "[calculatedbathnbr]            -> 0.013093325948490723\n"
     ]
    }
   ],
   "source": [
    "to_fill_5p = missing_ratio[missing_ratio>=0.01].index.tolist() # list of columns to fill, above 1%\n",
    "to_fill_5p = list(set(to_fill_5p) - set(to_drop) - set(to_fill)) # we don't need to consider the other columns\n",
    "\n",
    "for col in to_fill_5p:\n",
    "    print(f\"[{col}] {' ' * (30 - len(col) - 2)}-> {missing_ratio[col]}\")"
   ]
  },
  {
   "cell_type": "markdown",
   "metadata": {},
   "source": [
    "Let's see what can be done with these features:\n",
    "\n",
    "- `heatingorsystemtypeid` represents an id for the type of heating system present in the house. Like we did before with `garagecarcnt`, it's safe to assume that it is not present if the value is missing. Therefore, any missing value will be filled with 13, that is the id for \"None\".\n",
    "\n",
    "- `unitcnt` is the number of unit that belong to the lot. It will be filled with the median value for this column.\n",
    "\n",
    "- `lotsizesquarefeet` is the total area of the lot in square feet. Like we did for the previous features, we will fill the missing values with the k-NN algorithm, basing our predictions on te geographic location of the lot. The k parameter will be mantained as 10.\n",
    "\n",
    "- `regionidcity` is a code for the city in which the property is located, if any. It's reasonable to assume that for the missing ones there is no code, so it's going to be set as zero.\n",
    "\n",
    "- `buildingqualitytypeid` is an index that represents an assessment of condition of the building. We are going to assume that the missing values' lots will be the mean value condition.\n",
    "\n",
    "- `fullbathcnt`, `calculatedbathnbr` are respectivly the count of full bathroom and the total number of bathrooms in the home (including fractional bathroom). The missing values are going to be set as zero.\n",
    "\n",
    "- `finishedsquarefeet12` is the total surface of the living area of the lot. It's hard to assume anything on this feature. Since the percentage of missing values is low, we can just drop the rows that present missing values.\n",
    "\n"
   ]
  },
  {
   "cell_type": "code",
   "execution_count": 24,
   "metadata": {},
   "outputs": [],
   "source": [
    "df_train['heatingorsystemtypeid'] = df_train['heatingorsystemtypeid'].fillna(13)\n",
    "df_train['unitcnt'] = df_train['unitcnt'].fillna(df_train['unitcnt'].median())\n",
    "df_train['regionidcity'] = df_train['regionidcity'].fillna(0)\n",
    "df_train['buildingqualitytypeid'] = df_train['buildingqualitytypeid'].fillna(df_train['buildingqualitytypeid'].mean())\n",
    "df_train['fullbathcnt'] = df_train['fullbathcnt'].fillna(0)\n",
    "df_train['calculatedbathnbr'] = df_train['calculatedbathnbr'].fillna(13)\n",
    "df_train = df_train.dropna(axis=0, subset=['finishedsquarefeet12'])"
   ]
  },
  {
   "cell_type": "code",
   "execution_count": 25,
   "metadata": {},
   "outputs": [
    {
     "name": "stdout",
     "output_type": "stream",
     "text": [
      "CPU times: total: 1min\n",
      "Wall time: 41.1 s\n"
     ]
    }
   ],
   "source": [
    "%%time\n",
    "#Filling for 'lotsizesquarefeet'\n",
    "lotsizesquarefeet_to_predict = ['lotsizesquarefeet']\n",
    "lotsizesquarefeet_to_train   = ['latitude','longitude']\n",
    "k_NN_filling(to_predict=lotsizesquarefeet_to_predict, to_train=lotsizesquarefeet_to_train, k=10)"
   ]
  },
  {
   "cell_type": "markdown",
   "metadata": {},
   "source": [
    "Let's see how we are doing:"
   ]
  },
  {
   "cell_type": "code",
   "execution_count": 26,
   "metadata": {
    "scrolled": true
   },
   "outputs": [
    {
     "data": {
      "image/png": "[encoded data removed]",
      "text/plain": [
       "<Figure size 864x1296 with 1 Axes>"
      ]
     },
     "metadata": {
      "needs_background": "light"
     },
     "output_type": "display_data"
    }
   ],
   "source": [
    "missing_values_barplot(df_train)"
   ]
  },
  {
   "cell_type": "markdown",
   "metadata": {},
   "source": [
    "The result that we have obtained are satisfying. In order to save some time, we are just going to drop the rows that contain the rest of missing values, since they are in percentages below 1%."
   ]
  },
  {
   "cell_type": "code",
   "execution_count": 27,
   "metadata": {},
   "outputs": [],
   "source": [
    "df_train = df_train.dropna(axis=0, how='any')"
   ]
  },
  {
   "cell_type": "markdown",
   "metadata": {},
   "source": [
    "Let's check one last time the status of our missing data:"
   ]
  },
  {
   "cell_type": "code",
   "execution_count": 28,
   "metadata": {
    "scrolled": true
   },
   "outputs": [
    {
     "data": {
      "image/png": "[encoded data removed]",
      "text/plain": [
       "<Figure size 864x1296 with 1 Axes>"
      ]
     },
     "metadata": {
      "needs_background": "light"
     },
     "output_type": "display_data"
    }
   ],
   "source": [
    "missing_values_barplot(df_train)"
   ]
  },
  {
   "cell_type": "markdown",
   "metadata": {},
   "source": [
    "Perfect! We can proceed with the next step."
   ]
  },
  {
   "cell_type": "markdown",
   "metadata": {
    "id": "8yqr5euFvFRN"
   },
   "source": [
    "### Step 2.2:  Additional features related to the property"
   ]
  },
  {
   "cell_type": "code",
   "execution_count": 29,
   "metadata": {
    "id": "hKk0MHGwvFRN"
   },
   "outputs": [],
   "source": [
    "#life of property\n",
    "df_train['N-life'] = 2022 - df_train['yearbuilt']\n",
    "\n",
    "#error in calculation of the finished living area of home\n",
    "df_train['N-LivingAreaError'] = df_train['calculatedfinishedsquarefeet']/df_train['finishedsquarefeet12']\n",
    "\n",
    "#proportion of living area\n",
    "df_train['N-LivingAreaProp'] = df_train['calculatedfinishedsquarefeet']/df_train['lotsizesquarefeet']\n",
    "\n",
    "#Amout of extra space\n",
    "df_train['N-ExtraSpaceRatio'] = (df_train['lotsizesquarefeet'] - df_train['calculatedfinishedsquarefeet'])/ df_train['calculatedfinishedsquarefeet']\n",
    "\n",
    "#Total number of rooms\n",
    "df_train['N-TotalRooms'] = df_train['bathroomcnt'] + df_train['bedroomcnt']\n",
    "\n",
    "# Number of Extra rooms\n",
    "df_train['N-ExtraRooms'] = df_train['roomcnt'] - df_train['N-TotalRooms'] "
   ]
  },
  {
   "cell_type": "markdown",
   "metadata": {
    "id": "s7Pyb1cOvFRN"
   },
   "source": [
    "#### Step 2.2.2:  Additional features based off the tax related variables"
   ]
  },
  {
   "cell_type": "code",
   "execution_count": 30,
   "metadata": {
    "id": "Ia0AMWX3vFRN"
   },
   "outputs": [],
   "source": [
    "#Ratio of tax of property over parcel\n",
    "df_train['N-ValueRatio'] = df_train['taxvaluedollarcnt']/df_train['taxamount']\n",
    "\n",
    "#TotalTaxScore\n",
    "df_train['N-LogTaxScore'] = df_train['taxvaluedollarcnt'] * df_train['taxamount']\n",
    "df_train['N-LogTaxScore'] = df_train['N-LogTaxScore'].map(lambda b: log10(b))"
   ]
  },
  {
   "cell_type": "markdown",
   "metadata": {
    "id": "rIwlsnwgvFRO"
   },
   "source": [
    "#### Step 2.2.3: Additional variables which are simplification of some of the other variables"
   ]
  },
  {
   "cell_type": "code",
   "execution_count": 31,
   "metadata": {
    "id": "HCll38ZHvFRO"
   },
   "outputs": [],
   "source": [
    "#Indicator whether it has AC or not\n",
    "df_train['N-ACInd'] = (df_train['airconditioningtypeid']!=5)*1\n",
    "\n",
    "#Indicator whether it has Heating or not \n",
    "df_train['N-HeatInd'] = (df_train['heatingorsystemtypeid']!=13)*1"
   ]
  },
  {
   "cell_type": "markdown",
   "metadata": {
    "id": "JlbnQCbHvFRP"
   },
   "source": [
    "### Step 2.3 DataType conversions\n",
    "It's important to convert the data in a format that allows us to achieve a consisistent state of the dataset. What follows is a list of all the data types present in the dataset. \n",
    "\n",
    "We are going to collect the `object` features for later use."
   ]
  },
  {
   "cell_type": "markdown",
   "metadata": {
    "id": "tQpIXqF6vFRP"
   },
   "source": [
    "#### Step 2.3.1 DataType "
   ]
  },
  {
   "cell_type": "code",
   "execution_count": 32,
   "metadata": {},
   "outputs": [
    {
     "name": "stdout",
     "output_type": "stream",
     "text": [
      "[parcelid]:                           int64\n",
      "[airconditioningtypeid]:              float64\n",
      "[bathroomcnt]:                        float64\n",
      "[bedroomcnt]:                         float64\n",
      "[buildingqualitytypeid]:              float64\n",
      "[calculatedbathnbr]:                  float64\n",
      "[calculatedfinishedsquarefeet]:       float64\n",
      "[finishedsquarefeet12]:               float64\n",
      "[fips]:                               float64\n",
      "[fullbathcnt]:                        float64\n",
      "[garagecarcnt]:                       float64\n",
      "[garagetotalsqft]:                    float64\n",
      "[heatingorsystemtypeid]:              float64\n",
      "[latitude]:                           float64\n",
      "[longitude]:                          float64\n",
      "[lotsizesquarefeet]:                  float64\n",
      "[poolcnt]:                            float64\n",
      "[pooltypeid7]:                        float64\n",
      "[propertycountylandusecode]:          object\n",
      "[propertylandusetypeid]:              float64\n",
      "[rawcensustractandblock]:             float64\n",
      "[regionidcity]:                       float64\n",
      "[regionidcounty]:                     float64\n",
      "[regionidneighborhood]:               float64\n",
      "[regionidzip]:                        float64\n",
      "[roomcnt]:                            float64\n",
      "[threequarterbathnbr]:                float64\n",
      "[unitcnt]:                            float64\n",
      "[yearbuilt]:                          float64\n",
      "[numberofstories]:                    float64\n",
      "[structuretaxvaluedollarcnt]:         float64\n",
      "[taxvaluedollarcnt]:                  float64\n",
      "[assessmentyear]:                     float64\n",
      "[landtaxvaluedollarcnt]:              float64\n",
      "[taxamount]:                          float64\n",
      "[censustractandblock]:                float64\n",
      "[logerror]:                           float64\n",
      "[transactiondate]:                    object\n",
      "[N-life]:                             float64\n",
      "[N-LivingAreaError]:                  float64\n",
      "[N-LivingAreaProp]:                   float64\n",
      "[N-ExtraSpaceRatio]:                  float64\n",
      "[N-TotalRooms]:                       float64\n",
      "[N-ExtraRooms]:                       float64\n",
      "[N-ValueRatio]:                       float64\n",
      "[N-LogTaxScore]:                      float64\n",
      "[N-ACInd]:                            int32\n",
      "[N-HeatInd]:                          int32\n"
     ]
    }
   ],
   "source": [
    "type_list = df_train.dtypes.to_list()\n",
    "objects = []\n",
    "for i in range(len(list(df_train.columns))):\n",
    "    print(f\"[{df_train.columns[i]}]: {' ' * (35 - len(df_train.columns[i]) - 2)} {type_list[i]}\")\n",
    "    if type_list[i] == object:\n",
    "        objects.append(df_train.columns[i])"
   ]
  },
  {
   "cell_type": "markdown",
   "metadata": {},
   "source": [
    "After the discovery of the type of the remaining features, we are going to convert the ones that have `object` as type.\n",
    "First of all, let's see who they are:"
   ]
  },
  {
   "cell_type": "code",
   "execution_count": 33,
   "metadata": {},
   "outputs": [
    {
     "data": {
      "text/plain": [
       "['propertycountylandusecode', 'transactiondate']"
      ]
     },
     "execution_count": 33,
     "metadata": {},
     "output_type": "execute_result"
    }
   ],
   "source": [
    "objects"
   ]
  },
  {
   "cell_type": "markdown",
   "metadata": {},
   "source": [
    "It is important that `transactiondate` is handled by itself, so we are going to remove it from the list.\n",
    "Now, we can convert these features' types to more appropriate ones, by using the [LabelEncoder](https://scikit-learn.org/stable/modules/generated/sklearn.preprocessing.LabelEncoder.html) object, provided by sklearn."
   ]
  },
  {
   "cell_type": "code",
   "execution_count": 34,
   "metadata": {},
   "outputs": [],
   "source": [
    "def object_encoding(feature):\n",
    "    lbl = LabelEncoder()\n",
    "    lbl.fit(list(feature.values))\n",
    "    return lbl.transform(list(feature.values))\n",
    "\n",
    "objects = list(set(objects) - set(['transactiondate']))\n",
    "\n",
    "for col in objects:\n",
    "    df_train[col] = object_encoding(df_train[col])"
   ]
  },
  {
   "cell_type": "markdown",
   "metadata": {
    "id": "zlgJJOJ9vFRP"
   },
   "source": [
    "#### Step 2.3.2 Transaction Date type conversion\n",
    "The Date Type cannot be usually read by the classifiers and the predictors. After we have handled this feature, we are going to drop it. We can do it here, since it has no missing values, so it does not need further cleaning.\n",
    "\n",
    "Since it`s hard to predict which is the best way to manipulate this information, we are going to add some new features that will allow us to have more than one option when it comes to assessing the importance of the features.\n",
    "\n",
    "What follows is a list of new features that we can derive from the transaction date. Then, we will proceed to implement them.\n",
    "\n",
    "- `NDaysInCurrentYear`, the number of days from January 1st.\n",
    "\n",
    "- `DD`, the day of the month.\n",
    "\n",
    "- `MM`, the month of the year.\n",
    "\n",
    "The year of the transaction date is not considered because we are using only the 2016 dataset.\n",
    "\n",
    "By looking at [this article](https://machinelearningmastery.com/machine-learning-data-transforms-for-time-series-forecasting/), it looks like there are a lot more of options available. But, since we are trying to keep this model as simple as possible, we will ignore them."
   ]
  },
  {
   "cell_type": "code",
   "execution_count": 35,
   "metadata": {},
   "outputs": [],
   "source": [
    "df_train['DD'] = df_train['transactiondate'].str.replace(\"-\",\"\").astype(int)\n",
    "df_train['DD'] = df_train['DD'].apply(lambda r: r % 100)\n",
    "df_train['MM'] = df_train['transactiondate'].str.replace(\"-\",\"\").astype(int)\n",
    "df_train['MM'] = df_train['MM'].apply(lambda r: int(((r - (r % 100)) / 100) % 100))\n",
    "df_train['N-DaysInCurrentYear'] = df_train['transactiondate'].apply(lambda r: pd.Period(r).day_of_year)\n",
    "df_train = df_train.drop(['transactiondate'], axis=1)"
   ]
  },
  {
   "cell_type": "markdown",
   "metadata": {},
   "source": [
    "### Step 2.4 - Data rescaling\n",
    "We need to consider that some implementations of predicting models may not handle big numeric data types very well. Our dataset presents some features whose values interval may be too large to handle.\n"
   ]
  },
  {
   "cell_type": "code",
   "execution_count": 36,
   "metadata": {},
   "outputs": [
    {
     "data": {
      "text/html": [
       "<div>\n",
       "<style scoped>\n",
       "    .dataframe tbody tr th:only-of-type {\n",
       "        vertical-align: middle;\n",
       "    }\n",
       "\n",
       "    .dataframe tbody tr th {\n",
       "        vertical-align: top;\n",
       "    }\n",
       "\n",
       "    .dataframe thead th {\n",
       "        text-align: right;\n",
       "    }\n",
       "</style>\n",
       "<table border=\"1\" class=\"dataframe\">\n",
       "  <thead>\n",
       "    <tr style=\"text-align: right;\">\n",
       "      <th></th>\n",
       "      <th>parcelid</th>\n",
       "      <th>airconditioningtypeid</th>\n",
       "      <th>bathroomcnt</th>\n",
       "      <th>bedroomcnt</th>\n",
       "      <th>buildingqualitytypeid</th>\n",
       "      <th>calculatedbathnbr</th>\n",
       "      <th>calculatedfinishedsquarefeet</th>\n",
       "      <th>finishedsquarefeet12</th>\n",
       "      <th>fips</th>\n",
       "      <th>fullbathcnt</th>\n",
       "      <th>garagecarcnt</th>\n",
       "      <th>garagetotalsqft</th>\n",
       "      <th>heatingorsystemtypeid</th>\n",
       "      <th>latitude</th>\n",
       "      <th>longitude</th>\n",
       "      <th>lotsizesquarefeet</th>\n",
       "      <th>poolcnt</th>\n",
       "      <th>pooltypeid7</th>\n",
       "      <th>propertycountylandusecode</th>\n",
       "      <th>propertylandusetypeid</th>\n",
       "      <th>rawcensustractandblock</th>\n",
       "      <th>regionidcity</th>\n",
       "      <th>regionidcounty</th>\n",
       "      <th>regionidneighborhood</th>\n",
       "      <th>regionidzip</th>\n",
       "      <th>roomcnt</th>\n",
       "      <th>threequarterbathnbr</th>\n",
       "      <th>unitcnt</th>\n",
       "      <th>yearbuilt</th>\n",
       "      <th>numberofstories</th>\n",
       "      <th>structuretaxvaluedollarcnt</th>\n",
       "      <th>taxvaluedollarcnt</th>\n",
       "      <th>assessmentyear</th>\n",
       "      <th>landtaxvaluedollarcnt</th>\n",
       "      <th>taxamount</th>\n",
       "      <th>censustractandblock</th>\n",
       "      <th>logerror</th>\n",
       "      <th>N-life</th>\n",
       "      <th>N-LivingAreaError</th>\n",
       "      <th>N-LivingAreaProp</th>\n",
       "      <th>N-ExtraSpaceRatio</th>\n",
       "      <th>N-TotalRooms</th>\n",
       "      <th>N-ExtraRooms</th>\n",
       "      <th>N-ValueRatio</th>\n",
       "      <th>N-LogTaxScore</th>\n",
       "      <th>N-ACInd</th>\n",
       "      <th>N-HeatInd</th>\n",
       "      <th>DD</th>\n",
       "      <th>MM</th>\n",
       "      <th>N-DaysInCurrentYear</th>\n",
       "    </tr>\n",
       "  </thead>\n",
       "  <tbody>\n",
       "    <tr>\n",
       "      <th>count</th>\n",
       "      <td>8.526000e+04</td>\n",
       "      <td>85260.000000</td>\n",
       "      <td>85260.000000</td>\n",
       "      <td>85260.000000</td>\n",
       "      <td>85260.000000</td>\n",
       "      <td>85260.000000</td>\n",
       "      <td>85260.000000</td>\n",
       "      <td>85260.000000</td>\n",
       "      <td>85260.000000</td>\n",
       "      <td>85260.000000</td>\n",
       "      <td>85260.000000</td>\n",
       "      <td>85260.000000</td>\n",
       "      <td>85260.000000</td>\n",
       "      <td>8.526000e+04</td>\n",
       "      <td>8.526000e+04</td>\n",
       "      <td>8.526000e+04</td>\n",
       "      <td>85260.000000</td>\n",
       "      <td>85260.000000</td>\n",
       "      <td>85260.000000</td>\n",
       "      <td>85260.000000</td>\n",
       "      <td>8.526000e+04</td>\n",
       "      <td>85260.000000</td>\n",
       "      <td>85260.000000</td>\n",
       "      <td>85260.000000</td>\n",
       "      <td>85260.000000</td>\n",
       "      <td>85260.000000</td>\n",
       "      <td>85260.000000</td>\n",
       "      <td>85260.000000</td>\n",
       "      <td>85260.000000</td>\n",
       "      <td>85260.000000</td>\n",
       "      <td>8.526000e+04</td>\n",
       "      <td>8.526000e+04</td>\n",
       "      <td>85260.0</td>\n",
       "      <td>8.526000e+04</td>\n",
       "      <td>85260.000000</td>\n",
       "      <td>8.526000e+04</td>\n",
       "      <td>85260.000000</td>\n",
       "      <td>85260.000000</td>\n",
       "      <td>85260.0</td>\n",
       "      <td>85260.000000</td>\n",
       "      <td>85260.000000</td>\n",
       "      <td>85260.000000</td>\n",
       "      <td>85260.000000</td>\n",
       "      <td>85260.000000</td>\n",
       "      <td>85260.000000</td>\n",
       "      <td>85260.000000</td>\n",
       "      <td>85260.000000</td>\n",
       "      <td>85260.000000</td>\n",
       "      <td>85260.000000</td>\n",
       "      <td>85260.000000</td>\n",
       "    </tr>\n",
       "    <tr>\n",
       "      <th>mean</th>\n",
       "      <td>1.300831e+07</td>\n",
       "      <td>3.940464</td>\n",
       "      <td>2.273006</td>\n",
       "      <td>3.003718</td>\n",
       "      <td>5.518313</td>\n",
       "      <td>2.292370</td>\n",
       "      <td>1744.828114</td>\n",
       "      <td>1744.828114</td>\n",
       "      <td>6049.181891</td>\n",
       "      <td>2.202451</td>\n",
       "      <td>0.632196</td>\n",
       "      <td>120.947455</td>\n",
       "      <td>7.051501</td>\n",
       "      <td>3.400606e+07</td>\n",
       "      <td>-1.181975e+08</td>\n",
       "      <td>2.770928e+04</td>\n",
       "      <td>0.208902</td>\n",
       "      <td>-0.610439</td>\n",
       "      <td>16.714075</td>\n",
       "      <td>262.534166</td>\n",
       "      <td>6.049489e+07</td>\n",
       "      <td>33041.929838</td>\n",
       "      <td>2510.354504</td>\n",
       "      <td>313517.152081</td>\n",
       "      <td>96597.046481</td>\n",
       "      <td>1.551009</td>\n",
       "      <td>0.141110</td>\n",
       "      <td>1.003882</td>\n",
       "      <td>1969.648076</td>\n",
       "      <td>1.365323</td>\n",
       "      <td>1.802959e+05</td>\n",
       "      <td>4.577877e+05</td>\n",
       "      <td>2015.0</td>\n",
       "      <td>2.774918e+05</td>\n",
       "      <td>5950.011678</td>\n",
       "      <td>6.049493e+13</td>\n",
       "      <td>0.011847</td>\n",
       "      <td>52.351924</td>\n",
       "      <td>1.0</td>\n",
       "      <td>0.251669</td>\n",
       "      <td>20.615613</td>\n",
       "      <td>5.276724</td>\n",
       "      <td>-3.725715</td>\n",
       "      <td>76.172455</td>\n",
       "      <td>9.148169</td>\n",
       "      <td>0.330624</td>\n",
       "      <td>0.654609</td>\n",
       "      <td>16.351865</td>\n",
       "      <td>5.866444</td>\n",
       "      <td>164.288576</td>\n",
       "    </tr>\n",
       "    <tr>\n",
       "      <th>std</th>\n",
       "      <td>2.501356e+06</td>\n",
       "      <td>2.281202</td>\n",
       "      <td>0.942914</td>\n",
       "      <td>1.010668</td>\n",
       "      <td>1.528335</td>\n",
       "      <td>1.025875</td>\n",
       "      <td>910.132596</td>\n",
       "      <td>910.132596</td>\n",
       "      <td>20.842449</td>\n",
       "      <td>0.926120</td>\n",
       "      <td>0.935511</td>\n",
       "      <td>228.323631</td>\n",
       "      <td>5.242937</td>\n",
       "      <td>2.678723e+05</td>\n",
       "      <td>3.651736e+05</td>\n",
       "      <td>1.170653e+05</td>\n",
       "      <td>0.406527</td>\n",
       "      <td>0.792068</td>\n",
       "      <td>18.114525</td>\n",
       "      <td>2.480914</td>\n",
       "      <td>2.068262e+05</td>\n",
       "      <td>45917.853125</td>\n",
       "      <td>810.696899</td>\n",
       "      <td>261495.298980</td>\n",
       "      <td>3619.142402</td>\n",
       "      <td>2.870366</td>\n",
       "      <td>0.351923</td>\n",
       "      <td>0.543855</td>\n",
       "      <td>23.032999</td>\n",
       "      <td>0.393560</td>\n",
       "      <td>2.096894e+05</td>\n",
       "      <td>5.552339e+05</td>\n",
       "      <td>0.0</td>\n",
       "      <td>3.986431e+05</td>\n",
       "      <td>6809.581404</td>\n",
       "      <td>2.068273e+11</td>\n",
       "      <td>0.154299</td>\n",
       "      <td>23.032999</td>\n",
       "      <td>0.0</td>\n",
       "      <td>0.208196</td>\n",
       "      <td>90.184032</td>\n",
       "      <td>1.746947</td>\n",
       "      <td>3.123941</td>\n",
       "      <td>31.379033</td>\n",
       "      <td>0.681431</td>\n",
       "      <td>0.470441</td>\n",
       "      <td>0.475498</td>\n",
       "      <td>8.994995</td>\n",
       "      <td>2.807128</td>\n",
       "      <td>85.608589</td>\n",
       "    </tr>\n",
       "    <tr>\n",
       "      <th>min</th>\n",
       "      <td>1.071174e+07</td>\n",
       "      <td>1.000000</td>\n",
       "      <td>0.000000</td>\n",
       "      <td>0.000000</td>\n",
       "      <td>1.000000</td>\n",
       "      <td>1.000000</td>\n",
       "      <td>2.000000</td>\n",
       "      <td>2.000000</td>\n",
       "      <td>6037.000000</td>\n",
       "      <td>0.000000</td>\n",
       "      <td>0.000000</td>\n",
       "      <td>0.000000</td>\n",
       "      <td>1.000000</td>\n",
       "      <td>3.333930e+07</td>\n",
       "      <td>-1.194479e+08</td>\n",
       "      <td>1.670000e+02</td>\n",
       "      <td>0.000000</td>\n",
       "      <td>-1.000000</td>\n",
       "      <td>0.000000</td>\n",
       "      <td>246.000000</td>\n",
       "      <td>6.037101e+07</td>\n",
       "      <td>0.000000</td>\n",
       "      <td>1286.000000</td>\n",
       "      <td>6952.000000</td>\n",
       "      <td>95982.000000</td>\n",
       "      <td>0.000000</td>\n",
       "      <td>0.000000</td>\n",
       "      <td>1.000000</td>\n",
       "      <td>1885.000000</td>\n",
       "      <td>1.000000</td>\n",
       "      <td>1.000000e+02</td>\n",
       "      <td>1.044000e+03</td>\n",
       "      <td>2015.0</td>\n",
       "      <td>2.780000e+02</td>\n",
       "      <td>49.080000</td>\n",
       "      <td>6.037101e+13</td>\n",
       "      <td>-4.605000</td>\n",
       "      <td>7.000000</td>\n",
       "      <td>1.0</td>\n",
       "      <td>0.000179</td>\n",
       "      <td>-0.913021</td>\n",
       "      <td>0.000000</td>\n",
       "      <td>-23.000000</td>\n",
       "      <td>2.438853</td>\n",
       "      <td>4.824880</td>\n",
       "      <td>0.000000</td>\n",
       "      <td>0.000000</td>\n",
       "      <td>1.000000</td>\n",
       "      <td>1.000000</td>\n",
       "      <td>1.000000</td>\n",
       "    </tr>\n",
       "    <tr>\n",
       "      <th>25%</th>\n",
       "      <td>1.153918e+07</td>\n",
       "      <td>1.000000</td>\n",
       "      <td>2.000000</td>\n",
       "      <td>2.000000</td>\n",
       "      <td>4.000000</td>\n",
       "      <td>2.000000</td>\n",
       "      <td>1171.000000</td>\n",
       "      <td>1171.000000</td>\n",
       "      <td>6037.000000</td>\n",
       "      <td>2.000000</td>\n",
       "      <td>0.000000</td>\n",
       "      <td>0.000000</td>\n",
       "      <td>2.000000</td>\n",
       "      <td>3.380784e+07</td>\n",
       "      <td>-1.184183e+08</td>\n",
       "      <td>5.503000e+03</td>\n",
       "      <td>0.000000</td>\n",
       "      <td>-1.000000</td>\n",
       "      <td>1.000000</td>\n",
       "      <td>261.000000</td>\n",
       "      <td>6.037401e+07</td>\n",
       "      <td>12447.000000</td>\n",
       "      <td>1286.000000</td>\n",
       "      <td>54300.000000</td>\n",
       "      <td>96208.000000</td>\n",
       "      <td>0.000000</td>\n",
       "      <td>0.000000</td>\n",
       "      <td>1.000000</td>\n",
       "      <td>1954.000000</td>\n",
       "      <td>1.000000</td>\n",
       "      <td>8.159800e+04</td>\n",
       "      <td>1.997625e+05</td>\n",
       "      <td>2015.0</td>\n",
       "      <td>8.159800e+04</td>\n",
       "      <td>2861.877500</td>\n",
       "      <td>6.037401e+13</td>\n",
       "      <td>-0.024300</td>\n",
       "      <td>35.000000</td>\n",
       "      <td>1.0</td>\n",
       "      <td>0.142310</td>\n",
       "      <td>2.209749</td>\n",
       "      <td>4.000000</td>\n",
       "      <td>-6.000000</td>\n",
       "      <td>70.709451</td>\n",
       "      <td>8.756233</td>\n",
       "      <td>0.000000</td>\n",
       "      <td>0.000000</td>\n",
       "      <td>8.000000</td>\n",
       "      <td>4.000000</td>\n",
       "      <td>97.000000</td>\n",
       "    </tr>\n",
       "    <tr>\n",
       "      <th>50%</th>\n",
       "      <td>1.259030e+07</td>\n",
       "      <td>5.000000</td>\n",
       "      <td>2.000000</td>\n",
       "      <td>3.000000</td>\n",
       "      <td>5.565407</td>\n",
       "      <td>2.000000</td>\n",
       "      <td>1516.500000</td>\n",
       "      <td>1516.500000</td>\n",
       "      <td>6037.000000</td>\n",
       "      <td>2.000000</td>\n",
       "      <td>0.000000</td>\n",
       "      <td>0.000000</td>\n",
       "      <td>7.000000</td>\n",
       "      <td>3.402349e+07</td>\n",
       "      <td>-1.181640e+08</td>\n",
       "      <td>7.098000e+03</td>\n",
       "      <td>0.000000</td>\n",
       "      <td>-1.000000</td>\n",
       "      <td>8.000000</td>\n",
       "      <td>261.000000</td>\n",
       "      <td>6.037621e+07</td>\n",
       "      <td>25218.000000</td>\n",
       "      <td>3101.000000</td>\n",
       "      <td>273930.000000</td>\n",
       "      <td>96403.000000</td>\n",
       "      <td>0.000000</td>\n",
       "      <td>0.000000</td>\n",
       "      <td>1.000000</td>\n",
       "      <td>1971.000000</td>\n",
       "      <td>1.200000</td>\n",
       "      <td>1.320050e+05</td>\n",
       "      <td>3.434420e+05</td>\n",
       "      <td>2015.0</td>\n",
       "      <td>1.932350e+05</td>\n",
       "      <td>4526.525000</td>\n",
       "      <td>6.037621e+13</td>\n",
       "      <td>0.006000</td>\n",
       "      <td>51.000000</td>\n",
       "      <td>1.0</td>\n",
       "      <td>0.214227</td>\n",
       "      <td>3.667943</td>\n",
       "      <td>5.000000</td>\n",
       "      <td>-4.500000</td>\n",
       "      <td>79.560010</td>\n",
       "      <td>9.181363</td>\n",
       "      <td>0.000000</td>\n",
       "      <td>1.000000</td>\n",
       "      <td>16.000000</td>\n",
       "      <td>6.000000</td>\n",
       "      <td>167.000000</td>\n",
       "    </tr>\n",
       "    <tr>\n",
       "      <th>75%</th>\n",
       "      <td>1.425592e+07</td>\n",
       "      <td>5.000000</td>\n",
       "      <td>3.000000</td>\n",
       "      <td>4.000000</td>\n",
       "      <td>7.000000</td>\n",
       "      <td>3.000000</td>\n",
       "      <td>2055.000000</td>\n",
       "      <td>2055.000000</td>\n",
       "      <td>6059.000000</td>\n",
       "      <td>3.000000</td>\n",
       "      <td>2.000000</td>\n",
       "      <td>0.000000</td>\n",
       "      <td>13.000000</td>\n",
       "      <td>3.417580e+07</td>\n",
       "      <td>-1.179140e+08</td>\n",
       "      <td>1.139625e+04</td>\n",
       "      <td>0.000000</td>\n",
       "      <td>-1.000000</td>\n",
       "      <td>38.000000</td>\n",
       "      <td>266.000000</td>\n",
       "      <td>6.059042e+07</td>\n",
       "      <td>45457.000000</td>\n",
       "      <td>3101.000000</td>\n",
       "      <td>416319.000000</td>\n",
       "      <td>96987.000000</td>\n",
       "      <td>0.000000</td>\n",
       "      <td>0.000000</td>\n",
       "      <td>1.000000</td>\n",
       "      <td>1987.000000</td>\n",
       "      <td>1.600000</td>\n",
       "      <td>2.102180e+05</td>\n",
       "      <td>5.399680e+05</td>\n",
       "      <td>2015.0</td>\n",
       "      <td>3.453752e+05</td>\n",
       "      <td>6863.390000</td>\n",
       "      <td>6.059042e+13</td>\n",
       "      <td>0.038300</td>\n",
       "      <td>68.000000</td>\n",
       "      <td>1.0</td>\n",
       "      <td>0.311551</td>\n",
       "      <td>6.026908</td>\n",
       "      <td>6.000000</td>\n",
       "      <td>-2.000000</td>\n",
       "      <td>84.455372</td>\n",
       "      <td>9.559639</td>\n",
       "      <td>1.000000</td>\n",
       "      <td>1.000000</td>\n",
       "      <td>24.000000</td>\n",
       "      <td>8.000000</td>\n",
       "      <td>232.000000</td>\n",
       "    </tr>\n",
       "    <tr>\n",
       "      <th>max</th>\n",
       "      <td>1.629608e+08</td>\n",
       "      <td>13.000000</td>\n",
       "      <td>20.000000</td>\n",
       "      <td>16.000000</td>\n",
       "      <td>12.000000</td>\n",
       "      <td>20.000000</td>\n",
       "      <td>20013.000000</td>\n",
       "      <td>20013.000000</td>\n",
       "      <td>6111.000000</td>\n",
       "      <td>20.000000</td>\n",
       "      <td>24.000000</td>\n",
       "      <td>7339.000000</td>\n",
       "      <td>24.000000</td>\n",
       "      <td>3.481601e+07</td>\n",
       "      <td>-1.175549e+08</td>\n",
       "      <td>6.971010e+06</td>\n",
       "      <td>1.000000</td>\n",
       "      <td>1.000000</td>\n",
       "      <td>51.000000</td>\n",
       "      <td>275.000000</td>\n",
       "      <td>6.111009e+07</td>\n",
       "      <td>396556.000000</td>\n",
       "      <td>3101.000000</td>\n",
       "      <td>764167.000000</td>\n",
       "      <td>399675.000000</td>\n",
       "      <td>18.000000</td>\n",
       "      <td>4.000000</td>\n",
       "      <td>143.000000</td>\n",
       "      <td>2015.000000</td>\n",
       "      <td>4.000000</td>\n",
       "      <td>9.948100e+06</td>\n",
       "      <td>2.775000e+07</td>\n",
       "      <td>2015.0</td>\n",
       "      <td>2.450000e+07</td>\n",
       "      <td>321936.090000</td>\n",
       "      <td>6.111009e+13</td>\n",
       "      <td>4.737000</td>\n",
       "      <td>137.000000</td>\n",
       "      <td>1.0</td>\n",
       "      <td>11.497006</td>\n",
       "      <td>5584.745192</td>\n",
       "      <td>23.000000</td>\n",
       "      <td>7.000000</td>\n",
       "      <td>4997.622067</td>\n",
       "      <td>12.951033</td>\n",
       "      <td>1.000000</td>\n",
       "      <td>1.000000</td>\n",
       "      <td>31.000000</td>\n",
       "      <td>12.000000</td>\n",
       "      <td>365.000000</td>\n",
       "    </tr>\n",
       "  </tbody>\n",
       "</table>\n",
       "</div>"
      ],
      "text/plain": [
       "           parcelid  airconditioningtypeid   bathroomcnt    bedroomcnt  \\\n",
       "count  8.526000e+04           85260.000000  85260.000000  85260.000000   \n",
       "mean   1.300831e+07               3.940464      2.273006      3.003718   \n",
       "std    2.501356e+06               2.281202      0.942914      1.010668   \n",
       "min    1.071174e+07               1.000000      0.000000      0.000000   \n",
       "25%    1.153918e+07               1.000000      2.000000      2.000000   \n",
       "50%    1.259030e+07               5.000000      2.000000      3.000000   \n",
       "75%    1.425592e+07               5.000000      3.000000      4.000000   \n",
       "max    1.629608e+08              13.000000     20.000000     16.000000   \n",
       "\n",
       "       buildingqualitytypeid  calculatedbathnbr  calculatedfinishedsquarefeet  \\\n",
       "count           85260.000000       85260.000000                  85260.000000   \n",
       "mean                5.518313           2.292370                   1744.828114   \n",
       "std                 1.528335           1.025875                    910.132596   \n",
       "min                 1.000000           1.000000                      2.000000   \n",
       "25%                 4.000000           2.000000                   1171.000000   \n",
       "50%                 5.565407           2.000000                   1516.500000   \n",
       "75%                 7.000000           3.000000                   2055.000000   \n",
       "max                12.000000          20.000000                  20013.000000   \n",
       "\n",
       "       finishedsquarefeet12          fips   fullbathcnt  garagecarcnt  \\\n",
       "count          85260.000000  85260.000000  85260.000000  85260.000000   \n",
       "mean            1744.828114   6049.181891      2.202451      0.632196   \n",
       "std              910.132596     20.842449      0.926120      0.935511   \n",
       "min                2.000000   6037.000000      0.000000      0.000000   \n",
       "25%             1171.000000   6037.000000      2.000000      0.000000   \n",
       "50%             1516.500000   6037.000000      2.000000      0.000000   \n",
       "75%             2055.000000   6059.000000      3.000000      2.000000   \n",
       "max            20013.000000   6111.000000     20.000000     24.000000   \n",
       "\n",
       "       garagetotalsqft  heatingorsystemtypeid      latitude     longitude  \\\n",
       "count     85260.000000           85260.000000  8.526000e+04  8.526000e+04   \n",
       "mean        120.947455               7.051501  3.400606e+07 -1.181975e+08   \n",
       "std         228.323631               5.242937  2.678723e+05  3.651736e+05   \n",
       "min           0.000000               1.000000  3.333930e+07 -1.194479e+08   \n",
       "25%           0.000000               2.000000  3.380784e+07 -1.184183e+08   \n",
       "50%           0.000000               7.000000  3.402349e+07 -1.181640e+08   \n",
       "75%           0.000000              13.000000  3.417580e+07 -1.179140e+08   \n",
       "max        7339.000000              24.000000  3.481601e+07 -1.175549e+08   \n",
       "\n",
       "       lotsizesquarefeet       poolcnt   pooltypeid7  \\\n",
       "count       8.526000e+04  85260.000000  85260.000000   \n",
       "mean        2.770928e+04      0.208902     -0.610439   \n",
       "std         1.170653e+05      0.406527      0.792068   \n",
       "min         1.670000e+02      0.000000     -1.000000   \n",
       "25%         5.503000e+03      0.000000     -1.000000   \n",
       "50%         7.098000e+03      0.000000     -1.000000   \n",
       "75%         1.139625e+04      0.000000     -1.000000   \n",
       "max         6.971010e+06      1.000000      1.000000   \n",
       "\n",
       "       propertycountylandusecode  propertylandusetypeid  \\\n",
       "count               85260.000000           85260.000000   \n",
       "mean                   16.714075             262.534166   \n",
       "std                    18.114525               2.480914   \n",
       "min                     0.000000             246.000000   \n",
       "25%                     1.000000             261.000000   \n",
       "50%                     8.000000             261.000000   \n",
       "75%                    38.000000             266.000000   \n",
       "max                    51.000000             275.000000   \n",
       "\n",
       "       rawcensustractandblock   regionidcity  regionidcounty  \\\n",
       "count            8.526000e+04   85260.000000    85260.000000   \n",
       "mean             6.049489e+07   33041.929838     2510.354504   \n",
       "std              2.068262e+05   45917.853125      810.696899   \n",
       "min              6.037101e+07       0.000000     1286.000000   \n",
       "25%              6.037401e+07   12447.000000     1286.000000   \n",
       "50%              6.037621e+07   25218.000000     3101.000000   \n",
       "75%              6.059042e+07   45457.000000     3101.000000   \n",
       "max              6.111009e+07  396556.000000     3101.000000   \n",
       "\n",
       "       regionidneighborhood    regionidzip       roomcnt  threequarterbathnbr  \\\n",
       "count          85260.000000   85260.000000  85260.000000         85260.000000   \n",
       "mean          313517.152081   96597.046481      1.551009             0.141110   \n",
       "std           261495.298980    3619.142402      2.870366             0.351923   \n",
       "min             6952.000000   95982.000000      0.000000             0.000000   \n",
       "25%            54300.000000   96208.000000      0.000000             0.000000   \n",
       "50%           273930.000000   96403.000000      0.000000             0.000000   \n",
       "75%           416319.000000   96987.000000      0.000000             0.000000   \n",
       "max           764167.000000  399675.000000     18.000000             4.000000   \n",
       "\n",
       "            unitcnt     yearbuilt  numberofstories  \\\n",
       "count  85260.000000  85260.000000     85260.000000   \n",
       "mean       1.003882   1969.648076         1.365323   \n",
       "std        0.543855     23.032999         0.393560   \n",
       "min        1.000000   1885.000000         1.000000   \n",
       "25%        1.000000   1954.000000         1.000000   \n",
       "50%        1.000000   1971.000000         1.200000   \n",
       "75%        1.000000   1987.000000         1.600000   \n",
       "max      143.000000   2015.000000         4.000000   \n",
       "\n",
       "       structuretaxvaluedollarcnt  taxvaluedollarcnt  assessmentyear  \\\n",
       "count                8.526000e+04       8.526000e+04         85260.0   \n",
       "mean                 1.802959e+05       4.577877e+05          2015.0   \n",
       "std                  2.096894e+05       5.552339e+05             0.0   \n",
       "min                  1.000000e+02       1.044000e+03          2015.0   \n",
       "25%                  8.159800e+04       1.997625e+05          2015.0   \n",
       "50%                  1.320050e+05       3.434420e+05          2015.0   \n",
       "75%                  2.102180e+05       5.399680e+05          2015.0   \n",
       "max                  9.948100e+06       2.775000e+07          2015.0   \n",
       "\n",
       "       landtaxvaluedollarcnt      taxamount  censustractandblock  \\\n",
       "count           8.526000e+04   85260.000000         8.526000e+04   \n",
       "mean            2.774918e+05    5950.011678         6.049493e+13   \n",
       "std             3.986431e+05    6809.581404         2.068273e+11   \n",
       "min             2.780000e+02      49.080000         6.037101e+13   \n",
       "25%             8.159800e+04    2861.877500         6.037401e+13   \n",
       "50%             1.932350e+05    4526.525000         6.037621e+13   \n",
       "75%             3.453752e+05    6863.390000         6.059042e+13   \n",
       "max             2.450000e+07  321936.090000         6.111009e+13   \n",
       "\n",
       "           logerror        N-life  N-LivingAreaError  N-LivingAreaProp  \\\n",
       "count  85260.000000  85260.000000            85260.0      85260.000000   \n",
       "mean       0.011847     52.351924                1.0          0.251669   \n",
       "std        0.154299     23.032999                0.0          0.208196   \n",
       "min       -4.605000      7.000000                1.0          0.000179   \n",
       "25%       -0.024300     35.000000                1.0          0.142310   \n",
       "50%        0.006000     51.000000                1.0          0.214227   \n",
       "75%        0.038300     68.000000                1.0          0.311551   \n",
       "max        4.737000    137.000000                1.0         11.497006   \n",
       "\n",
       "       N-ExtraSpaceRatio  N-TotalRooms  N-ExtraRooms  N-ValueRatio  \\\n",
       "count       85260.000000  85260.000000  85260.000000  85260.000000   \n",
       "mean           20.615613      5.276724     -3.725715     76.172455   \n",
       "std            90.184032      1.746947      3.123941     31.379033   \n",
       "min            -0.913021      0.000000    -23.000000      2.438853   \n",
       "25%             2.209749      4.000000     -6.000000     70.709451   \n",
       "50%             3.667943      5.000000     -4.500000     79.560010   \n",
       "75%             6.026908      6.000000     -2.000000     84.455372   \n",
       "max          5584.745192     23.000000      7.000000   4997.622067   \n",
       "\n",
       "       N-LogTaxScore       N-ACInd     N-HeatInd            DD            MM  \\\n",
       "count   85260.000000  85260.000000  85260.000000  85260.000000  85260.000000   \n",
       "mean        9.148169      0.330624      0.654609     16.351865      5.866444   \n",
       "std         0.681431      0.470441      0.475498      8.994995      2.807128   \n",
       "min         4.824880      0.000000      0.000000      1.000000      1.000000   \n",
       "25%         8.756233      0.000000      0.000000      8.000000      4.000000   \n",
       "50%         9.181363      0.000000      1.000000     16.000000      6.000000   \n",
       "75%         9.559639      1.000000      1.000000     24.000000      8.000000   \n",
       "max        12.951033      1.000000      1.000000     31.000000     12.000000   \n",
       "\n",
       "       N-DaysInCurrentYear  \n",
       "count         85260.000000  \n",
       "mean            164.288576  \n",
       "std              85.608589  \n",
       "min               1.000000  \n",
       "25%              97.000000  \n",
       "50%             167.000000  \n",
       "75%             232.000000  \n",
       "max             365.000000  "
      ]
     },
     "execution_count": 36,
     "metadata": {},
     "output_type": "execute_result"
    }
   ],
   "source": [
    "df_train.describe(include='all')"
   ]
  },
  {
   "cell_type": "markdown",
   "metadata": {},
   "source": [
    "The following features are the ones that we identified as problematic. We will start by plotting their distributions with boxplots."
   ]
  },
  {
   "cell_type": "code",
   "execution_count": 37,
   "metadata": {},
   "outputs": [],
   "source": [
    "to_rescale = [\n",
    "'latitude',\n",
    "'longitude',\n",
    "'lotsizesquarefeet',\n",
    "'rawcensustractandblock',\n",
    "'structuretaxvaluedollarcnt',\n",
    "'taxvaluedollarcnt',\n",
    "'landtaxvaluedollarcnt',\n",
    "'censustractandblock',\n",
    "'rawcensustractandblock',\n",
    "'pooltypeid7']"
   ]
  },
  {
   "cell_type": "code",
   "execution_count": 38,
   "metadata": {
    "scrolled": true
   },
   "outputs": [
    {
     "data": {
      "image/png": "[encoded data removed]",
      "text/plain": [
       "<Figure size 432x288 with 1 Axes>"
      ]
     },
     "metadata": {
      "needs_background": "light"
     },
     "output_type": "display_data"
    },
    {
     "data": {
      "image/png": "[encoded data removed]",
      "text/plain": [
       "<Figure size 432x288 with 1 Axes>"
      ]
     },
     "metadata": {
      "needs_background": "light"
     },
     "output_type": "display_data"
    },
    {
     "data": {
      "image/png": "[encoded data removed]",
      "text/plain": [
       "<Figure size 432x288 with 1 Axes>"
      ]
     },
     "metadata": {
      "needs_background": "light"
     },
     "output_type": "display_data"
    },
    {
     "data": {
      "image/png": "[encoded data removed]",
      "text/plain": [
       "<Figure size 432x288 with 1 Axes>"
      ]
     },
     "metadata": {
      "needs_background": "light"
     },
     "output_type": "display_data"
    },
    {
     "data": {
      "image/png": "[encoded data removed]",
      "text/plain": [
       "<Figure size 432x288 with 1 Axes>"
      ]
     },
     "metadata": {
      "needs_background": "light"
     },
     "output_type": "display_data"
    },
    {
     "data": {
      "image/png": "[encoded data removed]",
      "text/plain": [
       "<Figure size 432x288 with 1 Axes>"
      ]
     },
     "metadata": {
      "needs_background": "light"
     },
     "output_type": "display_data"
    },
    {
     "data": {
      "image/png": "[encoded data removed]",
      "text/plain": [
       "<Figure size 432x288 with 1 Axes>"
      ]
     },
     "metadata": {
      "needs_background": "light"
     },
     "output_type": "display_data"
    },
    {
     "data": {
      "image/png": "[encoded data removed]",
      "text/plain": [
       "<Figure size 432x288 with 1 Axes>"
      ]
     },
     "metadata": {
      "needs_background": "light"
     },
     "output_type": "display_data"
    },
    {
     "data": {
      "image/png": "[encoded data removed]",
      "text/plain": [
       "<Figure size 432x288 with 1 Axes>"
      ]
     },
     "metadata": {
      "needs_background": "light"
     },
     "output_type": "display_data"
    },
    {
     "data": {
      "image/png": "[encoded data removed]",
      "text/plain": [
       "<Figure size 432x288 with 1 Axes>"
      ]
     },
     "metadata": {
      "needs_background": "light"
     },
     "output_type": "display_data"
    }
   ],
   "source": [
    "for col in to_rescale:\n",
    "    df_train.plot.box(column=col)"
   ]
  },
  {
   "cell_type": "markdown",
   "metadata": {},
   "source": [
    "The more appropriate thing to do is to rescale them, using the MinMax normalization. We will use the [ScikitLearn](https://scikit-learn.org/stable/modules/generated/sklearn.preprocessing.MinMaxScaler.html#sklearn.preprocessing.MinMaxScaler) implementation.\n",
    "\n",
    "The only exception is made for `pooltypeid7`: the values of this feature are -1 and 1. We are just going to convert the -1 values to 0."
   ]
  },
  {
   "cell_type": "code",
   "execution_count": 39,
   "metadata": {},
   "outputs": [],
   "source": [
    "df_train['pooltypeid7'] = df_train['pooltypeid7'].replace(to_replace=-1., value=0.)"
   ]
  },
  {
   "cell_type": "code",
   "execution_count": 40,
   "metadata": {},
   "outputs": [],
   "source": [
    "def MinMaxRescaling(features, min_v=0, max_v=1):\n",
    "    scaler = MinMaxScaler(feature_range=(min_v, max_v), copy=False) #in place\n",
    "    scaler.fit(features)\n",
    "    return scaler.transform(features)"
   ]
  },
  {
   "cell_type": "code",
   "execution_count": 41,
   "metadata": {},
   "outputs": [],
   "source": [
    "# Rescaling\n",
    "df_train[to_rescale] = MinMaxRescaling(df_train[to_rescale])"
   ]
  },
  {
   "cell_type": "markdown",
   "metadata": {},
   "source": [
    "Let's check the status of the dataset before proceeding with the final steps."
   ]
  },
  {
   "cell_type": "code",
   "execution_count": 42,
   "metadata": {},
   "outputs": [
    {
     "data": {
      "text/html": [
       "<div>\n",
       "<style scoped>\n",
       "    .dataframe tbody tr th:only-of-type {\n",
       "        vertical-align: middle;\n",
       "    }\n",
       "\n",
       "    .dataframe tbody tr th {\n",
       "        vertical-align: top;\n",
       "    }\n",
       "\n",
       "    .dataframe thead th {\n",
       "        text-align: right;\n",
       "    }\n",
       "</style>\n",
       "<table border=\"1\" class=\"dataframe\">\n",
       "  <thead>\n",
       "    <tr style=\"text-align: right;\">\n",
       "      <th></th>\n",
       "      <th>parcelid</th>\n",
       "      <th>airconditioningtypeid</th>\n",
       "      <th>bathroomcnt</th>\n",
       "      <th>bedroomcnt</th>\n",
       "      <th>buildingqualitytypeid</th>\n",
       "      <th>calculatedbathnbr</th>\n",
       "      <th>calculatedfinishedsquarefeet</th>\n",
       "      <th>finishedsquarefeet12</th>\n",
       "      <th>fips</th>\n",
       "      <th>fullbathcnt</th>\n",
       "      <th>garagecarcnt</th>\n",
       "      <th>garagetotalsqft</th>\n",
       "      <th>heatingorsystemtypeid</th>\n",
       "      <th>latitude</th>\n",
       "      <th>longitude</th>\n",
       "      <th>lotsizesquarefeet</th>\n",
       "      <th>poolcnt</th>\n",
       "      <th>pooltypeid7</th>\n",
       "      <th>propertycountylandusecode</th>\n",
       "      <th>propertylandusetypeid</th>\n",
       "      <th>rawcensustractandblock</th>\n",
       "      <th>regionidcity</th>\n",
       "      <th>regionidcounty</th>\n",
       "      <th>regionidneighborhood</th>\n",
       "      <th>regionidzip</th>\n",
       "      <th>roomcnt</th>\n",
       "      <th>threequarterbathnbr</th>\n",
       "      <th>unitcnt</th>\n",
       "      <th>yearbuilt</th>\n",
       "      <th>numberofstories</th>\n",
       "      <th>structuretaxvaluedollarcnt</th>\n",
       "      <th>taxvaluedollarcnt</th>\n",
       "      <th>assessmentyear</th>\n",
       "      <th>landtaxvaluedollarcnt</th>\n",
       "      <th>taxamount</th>\n",
       "      <th>censustractandblock</th>\n",
       "      <th>logerror</th>\n",
       "      <th>N-life</th>\n",
       "      <th>N-LivingAreaError</th>\n",
       "      <th>N-LivingAreaProp</th>\n",
       "      <th>N-ExtraSpaceRatio</th>\n",
       "      <th>N-TotalRooms</th>\n",
       "      <th>N-ExtraRooms</th>\n",
       "      <th>N-ValueRatio</th>\n",
       "      <th>N-LogTaxScore</th>\n",
       "      <th>N-ACInd</th>\n",
       "      <th>N-HeatInd</th>\n",
       "      <th>DD</th>\n",
       "      <th>MM</th>\n",
       "      <th>N-DaysInCurrentYear</th>\n",
       "    </tr>\n",
       "  </thead>\n",
       "  <tbody>\n",
       "    <tr>\n",
       "      <th>count</th>\n",
       "      <td>8.526000e+04</td>\n",
       "      <td>85260.000000</td>\n",
       "      <td>85260.000000</td>\n",
       "      <td>85260.000000</td>\n",
       "      <td>85260.000000</td>\n",
       "      <td>85260.000000</td>\n",
       "      <td>85260.000000</td>\n",
       "      <td>85260.000000</td>\n",
       "      <td>85260.000000</td>\n",
       "      <td>85260.000000</td>\n",
       "      <td>85260.000000</td>\n",
       "      <td>85260.000000</td>\n",
       "      <td>85260.000000</td>\n",
       "      <td>85260.000000</td>\n",
       "      <td>85260.000000</td>\n",
       "      <td>85260.000000</td>\n",
       "      <td>85260.000000</td>\n",
       "      <td>85260.000000</td>\n",
       "      <td>85260.000000</td>\n",
       "      <td>85260.000000</td>\n",
       "      <td>85260.000000</td>\n",
       "      <td>85260.000000</td>\n",
       "      <td>85260.000000</td>\n",
       "      <td>85260.000000</td>\n",
       "      <td>85260.000000</td>\n",
       "      <td>85260.000000</td>\n",
       "      <td>85260.000000</td>\n",
       "      <td>85260.000000</td>\n",
       "      <td>85260.000000</td>\n",
       "      <td>85260.000000</td>\n",
       "      <td>85260.000000</td>\n",
       "      <td>85260.000000</td>\n",
       "      <td>85260.0</td>\n",
       "      <td>85260.000000</td>\n",
       "      <td>85260.000000</td>\n",
       "      <td>85260.000000</td>\n",
       "      <td>85260.000000</td>\n",
       "      <td>85260.000000</td>\n",
       "      <td>85260.0</td>\n",
       "      <td>85260.000000</td>\n",
       "      <td>85260.000000</td>\n",
       "      <td>85260.000000</td>\n",
       "      <td>85260.000000</td>\n",
       "      <td>85260.000000</td>\n",
       "      <td>85260.000000</td>\n",
       "      <td>85260.000000</td>\n",
       "      <td>85260.000000</td>\n",
       "      <td>85260.000000</td>\n",
       "      <td>85260.000000</td>\n",
       "      <td>85260.000000</td>\n",
       "    </tr>\n",
       "    <tr>\n",
       "      <th>mean</th>\n",
       "      <td>1.300831e+07</td>\n",
       "      <td>3.940464</td>\n",
       "      <td>2.273006</td>\n",
       "      <td>3.003718</td>\n",
       "      <td>5.518313</td>\n",
       "      <td>2.292370</td>\n",
       "      <td>1744.828114</td>\n",
       "      <td>1744.828114</td>\n",
       "      <td>6049.181891</td>\n",
       "      <td>2.202451</td>\n",
       "      <td>0.632196</td>\n",
       "      <td>120.947455</td>\n",
       "      <td>7.051501</td>\n",
       "      <td>0.451522</td>\n",
       "      <td>0.660546</td>\n",
       "      <td>0.003951</td>\n",
       "      <td>0.208902</td>\n",
       "      <td>0.194781</td>\n",
       "      <td>16.714075</td>\n",
       "      <td>262.534166</td>\n",
       "      <td>0.167615</td>\n",
       "      <td>33041.929838</td>\n",
       "      <td>2510.354504</td>\n",
       "      <td>313517.152081</td>\n",
       "      <td>96597.046481</td>\n",
       "      <td>1.551009</td>\n",
       "      <td>0.141110</td>\n",
       "      <td>1.003882</td>\n",
       "      <td>1969.648076</td>\n",
       "      <td>1.365323</td>\n",
       "      <td>0.018114</td>\n",
       "      <td>0.016460</td>\n",
       "      <td>2015.0</td>\n",
       "      <td>0.011315</td>\n",
       "      <td>5950.011678</td>\n",
       "      <td>0.167662</td>\n",
       "      <td>0.011847</td>\n",
       "      <td>52.351924</td>\n",
       "      <td>1.0</td>\n",
       "      <td>0.251669</td>\n",
       "      <td>20.615613</td>\n",
       "      <td>5.276724</td>\n",
       "      <td>-3.725715</td>\n",
       "      <td>76.172455</td>\n",
       "      <td>9.148169</td>\n",
       "      <td>0.330624</td>\n",
       "      <td>0.654609</td>\n",
       "      <td>16.351865</td>\n",
       "      <td>5.866444</td>\n",
       "      <td>164.288576</td>\n",
       "    </tr>\n",
       "    <tr>\n",
       "      <th>std</th>\n",
       "      <td>2.501356e+06</td>\n",
       "      <td>2.281202</td>\n",
       "      <td>0.942914</td>\n",
       "      <td>1.010668</td>\n",
       "      <td>1.528335</td>\n",
       "      <td>1.025875</td>\n",
       "      <td>910.132596</td>\n",
       "      <td>910.132596</td>\n",
       "      <td>20.842449</td>\n",
       "      <td>0.926120</td>\n",
       "      <td>0.935511</td>\n",
       "      <td>228.323631</td>\n",
       "      <td>5.242937</td>\n",
       "      <td>0.181398</td>\n",
       "      <td>0.192913</td>\n",
       "      <td>0.016794</td>\n",
       "      <td>0.406527</td>\n",
       "      <td>0.396034</td>\n",
       "      <td>18.114525</td>\n",
       "      <td>2.480914</td>\n",
       "      <td>0.279843</td>\n",
       "      <td>45917.853125</td>\n",
       "      <td>810.696899</td>\n",
       "      <td>261495.298980</td>\n",
       "      <td>3619.142402</td>\n",
       "      <td>2.870366</td>\n",
       "      <td>0.351923</td>\n",
       "      <td>0.543855</td>\n",
       "      <td>23.032999</td>\n",
       "      <td>0.393560</td>\n",
       "      <td>0.021079</td>\n",
       "      <td>0.020009</td>\n",
       "      <td>0.0</td>\n",
       "      <td>0.016271</td>\n",
       "      <td>6809.581404</td>\n",
       "      <td>0.279844</td>\n",
       "      <td>0.154299</td>\n",
       "      <td>23.032999</td>\n",
       "      <td>0.0</td>\n",
       "      <td>0.208196</td>\n",
       "      <td>90.184032</td>\n",
       "      <td>1.746947</td>\n",
       "      <td>3.123941</td>\n",
       "      <td>31.379033</td>\n",
       "      <td>0.681431</td>\n",
       "      <td>0.470441</td>\n",
       "      <td>0.475498</td>\n",
       "      <td>8.994995</td>\n",
       "      <td>2.807128</td>\n",
       "      <td>85.608589</td>\n",
       "    </tr>\n",
       "    <tr>\n",
       "      <th>min</th>\n",
       "      <td>1.071174e+07</td>\n",
       "      <td>1.000000</td>\n",
       "      <td>0.000000</td>\n",
       "      <td>0.000000</td>\n",
       "      <td>1.000000</td>\n",
       "      <td>1.000000</td>\n",
       "      <td>2.000000</td>\n",
       "      <td>2.000000</td>\n",
       "      <td>6037.000000</td>\n",
       "      <td>0.000000</td>\n",
       "      <td>0.000000</td>\n",
       "      <td>0.000000</td>\n",
       "      <td>1.000000</td>\n",
       "      <td>0.000000</td>\n",
       "      <td>0.000000</td>\n",
       "      <td>0.000000</td>\n",
       "      <td>0.000000</td>\n",
       "      <td>0.000000</td>\n",
       "      <td>0.000000</td>\n",
       "      <td>246.000000</td>\n",
       "      <td>0.000000</td>\n",
       "      <td>0.000000</td>\n",
       "      <td>1286.000000</td>\n",
       "      <td>6952.000000</td>\n",
       "      <td>95982.000000</td>\n",
       "      <td>0.000000</td>\n",
       "      <td>0.000000</td>\n",
       "      <td>1.000000</td>\n",
       "      <td>1885.000000</td>\n",
       "      <td>1.000000</td>\n",
       "      <td>0.000000</td>\n",
       "      <td>0.000000</td>\n",
       "      <td>2015.0</td>\n",
       "      <td>0.000000</td>\n",
       "      <td>49.080000</td>\n",
       "      <td>0.000000</td>\n",
       "      <td>-4.605000</td>\n",
       "      <td>7.000000</td>\n",
       "      <td>1.0</td>\n",
       "      <td>0.000179</td>\n",
       "      <td>-0.913021</td>\n",
       "      <td>0.000000</td>\n",
       "      <td>-23.000000</td>\n",
       "      <td>2.438853</td>\n",
       "      <td>4.824880</td>\n",
       "      <td>0.000000</td>\n",
       "      <td>0.000000</td>\n",
       "      <td>1.000000</td>\n",
       "      <td>1.000000</td>\n",
       "      <td>1.000000</td>\n",
       "    </tr>\n",
       "    <tr>\n",
       "      <th>25%</th>\n",
       "      <td>1.153918e+07</td>\n",
       "      <td>1.000000</td>\n",
       "      <td>2.000000</td>\n",
       "      <td>2.000000</td>\n",
       "      <td>4.000000</td>\n",
       "      <td>2.000000</td>\n",
       "      <td>1171.000000</td>\n",
       "      <td>1171.000000</td>\n",
       "      <td>6037.000000</td>\n",
       "      <td>2.000000</td>\n",
       "      <td>0.000000</td>\n",
       "      <td>0.000000</td>\n",
       "      <td>2.000000</td>\n",
       "      <td>0.317289</td>\n",
       "      <td>0.543914</td>\n",
       "      <td>0.000765</td>\n",
       "      <td>0.000000</td>\n",
       "      <td>0.000000</td>\n",
       "      <td>1.000000</td>\n",
       "      <td>261.000000</td>\n",
       "      <td>0.004058</td>\n",
       "      <td>12447.000000</td>\n",
       "      <td>1286.000000</td>\n",
       "      <td>54300.000000</td>\n",
       "      <td>96208.000000</td>\n",
       "      <td>0.000000</td>\n",
       "      <td>0.000000</td>\n",
       "      <td>1.000000</td>\n",
       "      <td>1954.000000</td>\n",
       "      <td>1.000000</td>\n",
       "      <td>0.008192</td>\n",
       "      <td>0.007161</td>\n",
       "      <td>2015.0</td>\n",
       "      <td>0.003319</td>\n",
       "      <td>2861.877500</td>\n",
       "      <td>0.004059</td>\n",
       "      <td>-0.024300</td>\n",
       "      <td>35.000000</td>\n",
       "      <td>1.0</td>\n",
       "      <td>0.142310</td>\n",
       "      <td>2.209749</td>\n",
       "      <td>4.000000</td>\n",
       "      <td>-6.000000</td>\n",
       "      <td>70.709451</td>\n",
       "      <td>8.756233</td>\n",
       "      <td>0.000000</td>\n",
       "      <td>0.000000</td>\n",
       "      <td>8.000000</td>\n",
       "      <td>4.000000</td>\n",
       "      <td>97.000000</td>\n",
       "    </tr>\n",
       "    <tr>\n",
       "      <th>50%</th>\n",
       "      <td>1.259030e+07</td>\n",
       "      <td>5.000000</td>\n",
       "      <td>2.000000</td>\n",
       "      <td>3.000000</td>\n",
       "      <td>5.565407</td>\n",
       "      <td>2.000000</td>\n",
       "      <td>1516.500000</td>\n",
       "      <td>1516.500000</td>\n",
       "      <td>6037.000000</td>\n",
       "      <td>2.000000</td>\n",
       "      <td>0.000000</td>\n",
       "      <td>0.000000</td>\n",
       "      <td>7.000000</td>\n",
       "      <td>0.463325</td>\n",
       "      <td>0.678238</td>\n",
       "      <td>0.000994</td>\n",
       "      <td>0.000000</td>\n",
       "      <td>0.000000</td>\n",
       "      <td>8.000000</td>\n",
       "      <td>261.000000</td>\n",
       "      <td>0.007038</td>\n",
       "      <td>25218.000000</td>\n",
       "      <td>3101.000000</td>\n",
       "      <td>273930.000000</td>\n",
       "      <td>96403.000000</td>\n",
       "      <td>0.000000</td>\n",
       "      <td>0.000000</td>\n",
       "      <td>1.000000</td>\n",
       "      <td>1971.000000</td>\n",
       "      <td>1.200000</td>\n",
       "      <td>0.013259</td>\n",
       "      <td>0.012339</td>\n",
       "      <td>2015.0</td>\n",
       "      <td>0.007876</td>\n",
       "      <td>4526.525000</td>\n",
       "      <td>0.007038</td>\n",
       "      <td>0.006000</td>\n",
       "      <td>51.000000</td>\n",
       "      <td>1.0</td>\n",
       "      <td>0.214227</td>\n",
       "      <td>3.667943</td>\n",
       "      <td>5.000000</td>\n",
       "      <td>-4.500000</td>\n",
       "      <td>79.560010</td>\n",
       "      <td>9.181363</td>\n",
       "      <td>0.000000</td>\n",
       "      <td>1.000000</td>\n",
       "      <td>16.000000</td>\n",
       "      <td>6.000000</td>\n",
       "      <td>167.000000</td>\n",
       "    </tr>\n",
       "    <tr>\n",
       "      <th>75%</th>\n",
       "      <td>1.425592e+07</td>\n",
       "      <td>5.000000</td>\n",
       "      <td>3.000000</td>\n",
       "      <td>4.000000</td>\n",
       "      <td>7.000000</td>\n",
       "      <td>3.000000</td>\n",
       "      <td>2055.000000</td>\n",
       "      <td>2055.000000</td>\n",
       "      <td>6059.000000</td>\n",
       "      <td>3.000000</td>\n",
       "      <td>2.000000</td>\n",
       "      <td>0.000000</td>\n",
       "      <td>13.000000</td>\n",
       "      <td>0.566465</td>\n",
       "      <td>0.810308</td>\n",
       "      <td>0.001611</td>\n",
       "      <td>0.000000</td>\n",
       "      <td>0.000000</td>\n",
       "      <td>38.000000</td>\n",
       "      <td>266.000000</td>\n",
       "      <td>0.296872</td>\n",
       "      <td>45457.000000</td>\n",
       "      <td>3101.000000</td>\n",
       "      <td>416319.000000</td>\n",
       "      <td>96987.000000</td>\n",
       "      <td>0.000000</td>\n",
       "      <td>0.000000</td>\n",
       "      <td>1.000000</td>\n",
       "      <td>1987.000000</td>\n",
       "      <td>1.600000</td>\n",
       "      <td>0.021122</td>\n",
       "      <td>0.019421</td>\n",
       "      <td>2015.0</td>\n",
       "      <td>0.014086</td>\n",
       "      <td>6863.390000</td>\n",
       "      <td>0.296872</td>\n",
       "      <td>0.038300</td>\n",
       "      <td>68.000000</td>\n",
       "      <td>1.0</td>\n",
       "      <td>0.311551</td>\n",
       "      <td>6.026908</td>\n",
       "      <td>6.000000</td>\n",
       "      <td>-2.000000</td>\n",
       "      <td>84.455372</td>\n",
       "      <td>9.559639</td>\n",
       "      <td>1.000000</td>\n",
       "      <td>1.000000</td>\n",
       "      <td>24.000000</td>\n",
       "      <td>8.000000</td>\n",
       "      <td>232.000000</td>\n",
       "    </tr>\n",
       "    <tr>\n",
       "      <th>max</th>\n",
       "      <td>1.629608e+08</td>\n",
       "      <td>13.000000</td>\n",
       "      <td>20.000000</td>\n",
       "      <td>16.000000</td>\n",
       "      <td>12.000000</td>\n",
       "      <td>20.000000</td>\n",
       "      <td>20013.000000</td>\n",
       "      <td>20013.000000</td>\n",
       "      <td>6111.000000</td>\n",
       "      <td>20.000000</td>\n",
       "      <td>24.000000</td>\n",
       "      <td>7339.000000</td>\n",
       "      <td>24.000000</td>\n",
       "      <td>1.000000</td>\n",
       "      <td>1.000000</td>\n",
       "      <td>1.000000</td>\n",
       "      <td>1.000000</td>\n",
       "      <td>1.000000</td>\n",
       "      <td>51.000000</td>\n",
       "      <td>275.000000</td>\n",
       "      <td>1.000000</td>\n",
       "      <td>396556.000000</td>\n",
       "      <td>3101.000000</td>\n",
       "      <td>764167.000000</td>\n",
       "      <td>399675.000000</td>\n",
       "      <td>18.000000</td>\n",
       "      <td>4.000000</td>\n",
       "      <td>143.000000</td>\n",
       "      <td>2015.000000</td>\n",
       "      <td>4.000000</td>\n",
       "      <td>1.000000</td>\n",
       "      <td>1.000000</td>\n",
       "      <td>2015.0</td>\n",
       "      <td>1.000000</td>\n",
       "      <td>321936.090000</td>\n",
       "      <td>1.000000</td>\n",
       "      <td>4.737000</td>\n",
       "      <td>137.000000</td>\n",
       "      <td>1.0</td>\n",
       "      <td>11.497006</td>\n",
       "      <td>5584.745192</td>\n",
       "      <td>23.000000</td>\n",
       "      <td>7.000000</td>\n",
       "      <td>4997.622067</td>\n",
       "      <td>12.951033</td>\n",
       "      <td>1.000000</td>\n",
       "      <td>1.000000</td>\n",
       "      <td>31.000000</td>\n",
       "      <td>12.000000</td>\n",
       "      <td>365.000000</td>\n",
       "    </tr>\n",
       "  </tbody>\n",
       "</table>\n",
       "</div>"
      ],
      "text/plain": [
       "           parcelid  airconditioningtypeid   bathroomcnt    bedroomcnt  \\\n",
       "count  8.526000e+04           85260.000000  85260.000000  85260.000000   \n",
       "mean   1.300831e+07               3.940464      2.273006      3.003718   \n",
       "std    2.501356e+06               2.281202      0.942914      1.010668   \n",
       "min    1.071174e+07               1.000000      0.000000      0.000000   \n",
       "25%    1.153918e+07               1.000000      2.000000      2.000000   \n",
       "50%    1.259030e+07               5.000000      2.000000      3.000000   \n",
       "75%    1.425592e+07               5.000000      3.000000      4.000000   \n",
       "max    1.629608e+08              13.000000     20.000000     16.000000   \n",
       "\n",
       "       buildingqualitytypeid  calculatedbathnbr  calculatedfinishedsquarefeet  \\\n",
       "count           85260.000000       85260.000000                  85260.000000   \n",
       "mean                5.518313           2.292370                   1744.828114   \n",
       "std                 1.528335           1.025875                    910.132596   \n",
       "min                 1.000000           1.000000                      2.000000   \n",
       "25%                 4.000000           2.000000                   1171.000000   \n",
       "50%                 5.565407           2.000000                   1516.500000   \n",
       "75%                 7.000000           3.000000                   2055.000000   \n",
       "max                12.000000          20.000000                  20013.000000   \n",
       "\n",
       "       finishedsquarefeet12          fips   fullbathcnt  garagecarcnt  \\\n",
       "count          85260.000000  85260.000000  85260.000000  85260.000000   \n",
       "mean            1744.828114   6049.181891      2.202451      0.632196   \n",
       "std              910.132596     20.842449      0.926120      0.935511   \n",
       "min                2.000000   6037.000000      0.000000      0.000000   \n",
       "25%             1171.000000   6037.000000      2.000000      0.000000   \n",
       "50%             1516.500000   6037.000000      2.000000      0.000000   \n",
       "75%             2055.000000   6059.000000      3.000000      2.000000   \n",
       "max            20013.000000   6111.000000     20.000000     24.000000   \n",
       "\n",
       "       garagetotalsqft  heatingorsystemtypeid      latitude     longitude  \\\n",
       "count     85260.000000           85260.000000  85260.000000  85260.000000   \n",
       "mean        120.947455               7.051501      0.451522      0.660546   \n",
       "std         228.323631               5.242937      0.181398      0.192913   \n",
       "min           0.000000               1.000000      0.000000      0.000000   \n",
       "25%           0.000000               2.000000      0.317289      0.543914   \n",
       "50%           0.000000               7.000000      0.463325      0.678238   \n",
       "75%           0.000000              13.000000      0.566465      0.810308   \n",
       "max        7339.000000              24.000000      1.000000      1.000000   \n",
       "\n",
       "       lotsizesquarefeet       poolcnt   pooltypeid7  \\\n",
       "count       85260.000000  85260.000000  85260.000000   \n",
       "mean            0.003951      0.208902      0.194781   \n",
       "std             0.016794      0.406527      0.396034   \n",
       "min             0.000000      0.000000      0.000000   \n",
       "25%             0.000765      0.000000      0.000000   \n",
       "50%             0.000994      0.000000      0.000000   \n",
       "75%             0.001611      0.000000      0.000000   \n",
       "max             1.000000      1.000000      1.000000   \n",
       "\n",
       "       propertycountylandusecode  propertylandusetypeid  \\\n",
       "count               85260.000000           85260.000000   \n",
       "mean                   16.714075             262.534166   \n",
       "std                    18.114525               2.480914   \n",
       "min                     0.000000             246.000000   \n",
       "25%                     1.000000             261.000000   \n",
       "50%                     8.000000             261.000000   \n",
       "75%                    38.000000             266.000000   \n",
       "max                    51.000000             275.000000   \n",
       "\n",
       "       rawcensustractandblock   regionidcity  regionidcounty  \\\n",
       "count            85260.000000   85260.000000    85260.000000   \n",
       "mean                 0.167615   33041.929838     2510.354504   \n",
       "std                  0.279843   45917.853125      810.696899   \n",
       "min                  0.000000       0.000000     1286.000000   \n",
       "25%                  0.004058   12447.000000     1286.000000   \n",
       "50%                  0.007038   25218.000000     3101.000000   \n",
       "75%                  0.296872   45457.000000     3101.000000   \n",
       "max                  1.000000  396556.000000     3101.000000   \n",
       "\n",
       "       regionidneighborhood    regionidzip       roomcnt  threequarterbathnbr  \\\n",
       "count          85260.000000   85260.000000  85260.000000         85260.000000   \n",
       "mean          313517.152081   96597.046481      1.551009             0.141110   \n",
       "std           261495.298980    3619.142402      2.870366             0.351923   \n",
       "min             6952.000000   95982.000000      0.000000             0.000000   \n",
       "25%            54300.000000   96208.000000      0.000000             0.000000   \n",
       "50%           273930.000000   96403.000000      0.000000             0.000000   \n",
       "75%           416319.000000   96987.000000      0.000000             0.000000   \n",
       "max           764167.000000  399675.000000     18.000000             4.000000   \n",
       "\n",
       "            unitcnt     yearbuilt  numberofstories  \\\n",
       "count  85260.000000  85260.000000     85260.000000   \n",
       "mean       1.003882   1969.648076         1.365323   \n",
       "std        0.543855     23.032999         0.393560   \n",
       "min        1.000000   1885.000000         1.000000   \n",
       "25%        1.000000   1954.000000         1.000000   \n",
       "50%        1.000000   1971.000000         1.200000   \n",
       "75%        1.000000   1987.000000         1.600000   \n",
       "max      143.000000   2015.000000         4.000000   \n",
       "\n",
       "       structuretaxvaluedollarcnt  taxvaluedollarcnt  assessmentyear  \\\n",
       "count                85260.000000       85260.000000         85260.0   \n",
       "mean                     0.018114           0.016460          2015.0   \n",
       "std                      0.021079           0.020009             0.0   \n",
       "min                      0.000000           0.000000          2015.0   \n",
       "25%                      0.008192           0.007161          2015.0   \n",
       "50%                      0.013259           0.012339          2015.0   \n",
       "75%                      0.021122           0.019421          2015.0   \n",
       "max                      1.000000           1.000000          2015.0   \n",
       "\n",
       "       landtaxvaluedollarcnt      taxamount  censustractandblock  \\\n",
       "count           85260.000000   85260.000000         85260.000000   \n",
       "mean                0.011315    5950.011678             0.167662   \n",
       "std                 0.016271    6809.581404             0.279844   \n",
       "min                 0.000000      49.080000             0.000000   \n",
       "25%                 0.003319    2861.877500             0.004059   \n",
       "50%                 0.007876    4526.525000             0.007038   \n",
       "75%                 0.014086    6863.390000             0.296872   \n",
       "max                 1.000000  321936.090000             1.000000   \n",
       "\n",
       "           logerror        N-life  N-LivingAreaError  N-LivingAreaProp  \\\n",
       "count  85260.000000  85260.000000            85260.0      85260.000000   \n",
       "mean       0.011847     52.351924                1.0          0.251669   \n",
       "std        0.154299     23.032999                0.0          0.208196   \n",
       "min       -4.605000      7.000000                1.0          0.000179   \n",
       "25%       -0.024300     35.000000                1.0          0.142310   \n",
       "50%        0.006000     51.000000                1.0          0.214227   \n",
       "75%        0.038300     68.000000                1.0          0.311551   \n",
       "max        4.737000    137.000000                1.0         11.497006   \n",
       "\n",
       "       N-ExtraSpaceRatio  N-TotalRooms  N-ExtraRooms  N-ValueRatio  \\\n",
       "count       85260.000000  85260.000000  85260.000000  85260.000000   \n",
       "mean           20.615613      5.276724     -3.725715     76.172455   \n",
       "std            90.184032      1.746947      3.123941     31.379033   \n",
       "min            -0.913021      0.000000    -23.000000      2.438853   \n",
       "25%             2.209749      4.000000     -6.000000     70.709451   \n",
       "50%             3.667943      5.000000     -4.500000     79.560010   \n",
       "75%             6.026908      6.000000     -2.000000     84.455372   \n",
       "max          5584.745192     23.000000      7.000000   4997.622067   \n",
       "\n",
       "       N-LogTaxScore       N-ACInd     N-HeatInd            DD            MM  \\\n",
       "count   85260.000000  85260.000000  85260.000000  85260.000000  85260.000000   \n",
       "mean        9.148169      0.330624      0.654609     16.351865      5.866444   \n",
       "std         0.681431      0.470441      0.475498      8.994995      2.807128   \n",
       "min         4.824880      0.000000      0.000000      1.000000      1.000000   \n",
       "25%         8.756233      0.000000      0.000000      8.000000      4.000000   \n",
       "50%         9.181363      0.000000      1.000000     16.000000      6.000000   \n",
       "75%         9.559639      1.000000      1.000000     24.000000      8.000000   \n",
       "max        12.951033      1.000000      1.000000     31.000000     12.000000   \n",
       "\n",
       "       N-DaysInCurrentYear  \n",
       "count         85260.000000  \n",
       "mean            164.288576  \n",
       "std              85.608589  \n",
       "min               1.000000  \n",
       "25%              97.000000  \n",
       "50%             167.000000  \n",
       "75%             232.000000  \n",
       "max             365.000000  "
      ]
     },
     "execution_count": 42,
     "metadata": {},
     "output_type": "execute_result"
    }
   ],
   "source": [
    "df_train.describe(include='all')"
   ]
  },
  {
   "cell_type": "markdown",
   "metadata": {
    "id": "2fCCx_OlTyYk"
   },
   "source": [
    "## Step 3: Development and Modeling\n",
    "This step involves presenting\n",
    "the dataset to the target audience in the form of graphs, summary tables, maps,\n",
    "and diagrams."
   ]
  },
  {
   "cell_type": "markdown",
   "metadata": {
    "id": "hmaSD9VwvFRO"
   },
   "source": [
    "### Step 3.1: Assessing feature importance\n",
    "Let's use XGBoost to assess the importance of the remaining features.\n",
    "\n",
    "This algorithm substantially creates a Random Forest with the input dataset, and evaluates the importance of each feature by counting the number of nodes in which that feature is used. It is reasonable to assume that, if a feature is selected as a splitting criterion, that it may have some kind of importance in the dataset.\n",
    "\n",
    "We need to rescale some values before training our model, because of some errors raised by the presence of large data types.\n",
    "\n",
    "We are going to use the [StandardScaler](https://scikit-learn.org/stable/modules/generated/sklearn.preprocessing.StandardScaler.html) from Sklearn to achieve some normalization on our data."
   ]
  },
  {
   "cell_type": "code",
   "execution_count": 43,
   "metadata": {},
   "outputs": [],
   "source": [
    "train_y = df_train['logerror'].values\n",
    "df_assess = df_train.drop(['parcelid', 'logerror', 'propertycountylandusecode'], axis=1)\n",
    "feat_names = df_assess.columns.values"
   ]
  },
  {
   "cell_type": "code",
   "execution_count": 44,
   "metadata": {},
   "outputs": [],
   "source": [
    "def rescale_data_XGBoost(x_train, x_names):\n",
    "    scaler = StandardScaler() \n",
    "    x_train = x_train.replace((np.inf, -np.inf, np.nan), 0).reset_index(drop=True)\n",
    "    return pd.DataFrame(scaler.fit_transform(x_train),columns=x_names)"
   ]
  },
  {
   "cell_type": "code",
   "execution_count": 49,
   "metadata": {
    "id": "p5CYRJMFvFRO"
   },
   "outputs": [
    {
     "name": "stdout",
     "output_type": "stream",
     "text": [
      "[14:16:15] WARNING: C:/Users/Administrator/workspace/xgboost-win64_release_1.6.0/src/objective/regression_obj.cu:203: reg:linear is now deprecated in favor of reg:squarederror.\n",
      "[14:16:15] WARNING: C:/Users/Administrator/workspace/xgboost-win64_release_1.6.0/src/learner.cc:627: \n",
      "Parameters: { \"silent\" } might not be used.\n",
      "\n",
      "  This could be a false alarm, with some parameters getting used by language bindings but\n",
      "  then being mistakenly passed down to XGBoost core, or some parameter actually being used\n",
      "  but getting flagged wrongly here. Please open an issue if you find any such cases.\n",
      "\n",
      "\n"
     ]
    },
    {
     "data": {
      "image/png": "[encoded data removed]",
      "text/plain": [
       "<Figure size 864x1296 with 1 Axes>"
      ]
     },
     "metadata": {
      "needs_background": "light"
     },
     "output_type": "display_data"
    }
   ],
   "source": [
    "df_assess = rescale_data_XGBoost(df_assess, feat_names)\n",
    "\n",
    "xgb_params = {\n",
    "    'eta': 0.05,\n",
    "    'max_depth': 8,\n",
    "    'subsample': 0.7,\n",
    "    'colsample_bytree': 0.7,\n",
    "    'objective': 'reg:linear',\n",
    "    'silent': 0,\n",
    "    'seed' : 0\n",
    "}\n",
    "dtrain = xgb.DMatrix(df_assess, train_y, feature_names=df_assess.columns.values)\n",
    "model = xgb.train(xgb_params, dtrain, num_boost_round=150)\n",
    "\n",
    "# plot the important features #\n",
    "fig, ax = plt.subplots(figsize=(12,18))\n",
    "xgb.plot_importance(model, max_num_features=50, height=0.8, ax=ax)\n",
    "plt.show()"
   ]
  },
  {
   "cell_type": "markdown",
   "metadata": {
    "id": "GPGVvSmnvFRQ"
   },
   "source": [
    "### Step 3.2 Top Features Selection"
   ]
  },
  {
   "cell_type": "markdown",
   "metadata": {},
   "source": [
    "Basing on the results of the XGBoost algorithm, it looks like some feature have very low importance.\n",
    "It is crucial that we save some space, so we are going to drop the feature whose F-score is below 600. This value was decided after a process of trial and error."
   ]
  },
  {
   "cell_type": "code",
   "execution_count": 46,
   "metadata": {},
   "outputs": [],
   "source": [
    "features_imp = pd.DataFrame(model.get_fscore().items(), columns=['feature','importance']).sort_values('importance', ascending=True)\n",
    "features_imp = features_imp.loc[features_imp['importance'] < 600]\n",
    "df_train.drop(list(features_imp['feature']), axis=1, inplace=True)"
   ]
  },
  {
   "cell_type": "markdown",
   "metadata": {},
   "source": [
    "The evaluation of the features' importance showed that, even if some custom features are in the top part of the ranking, most of the features added did not produce significant variations.\n",
    "\n",
    "It was necessary to higher the value of the F-score in order to prevent the overfitting of the models. Even with the current value, the second algorithm that was tested overfitted, leading to no significant conclusions."
   ]
  },
  {
   "cell_type": "markdown",
   "metadata": {
    "id": "QdAgaYMBxnvp"
   },
   "source": [
    "## Step 4: Cross Validation & Export\n",
    "### Cross Validation & Overfitting\n",
    "The threat of overfitting is always behind the corner. \n",
    "\n",
    "Overfitting is the low predictive power of the model, caused by the use of the same dataset for the training phase and the testing phase. Since the goal of the model is to \"adapt\" to the data on which it trains on, testing its accuracy on the same dataset would lead to some unaccurate results.\n",
    "\n",
    "For this reason, we adopted the cross validation, which is a technique that tries to prevent this phenomenon. \n",
    "\n",
    "We chose to split the dataset using the k-fold algorithm, by using the library provided by [Scikitlearn](https://scikit-learn.org/stable/modules/cross_validation.html).\n",
    "\n",
    "This method consist in splitting the dataset in k groups (the \"folds\") and keeping one out as the testing set. This procedure is repeated for each one of the folds, in order to minimize the chances of overfitting. The value we chose for k is 4, because the tests we conducted previously took a very long time."
   ]
  },
  {
   "cell_type": "code",
   "execution_count": 47,
   "metadata": {
    "id": "Lw7ez8PavFRR"
   },
   "outputs": [],
   "source": [
    "from sklearn.model_selection import KFold\n",
    "\n",
    "kf = KFold(n_splits=4)\n",
    "\n",
    "df_train_folded16, df_test_folded16 = [], []\n",
    "\n",
    "for train_index, test_index in kf.split(df_train):\n",
    "    df_train_folded16.append(df_train.iloc[train_index])\n",
    "    df_test_folded16.append(df_train.iloc[test_index])"
   ]
  },
  {
   "cell_type": "markdown",
   "metadata": {
    "id": "yq1yZTgixsU-"
   },
   "source": [
    "### Exporting the cleaned dataset\n",
    "\n",
    "The following snippet will export the cleaned dataset in a series of file containing the testing and training dataset.\n",
    "\n"
   ]
  },
  {
   "cell_type": "code",
   "execution_count": 48,
   "metadata": {
    "id": "WkE-g-Iv3_AY"
   },
   "outputs": [],
   "source": [
    "#2016 dataset\n",
    "i = 0\n",
    "for ds in df_train_folded16:\n",
    "  i += 1\n",
    "  ds.to_csv(f\"Data/train_dataset_2016_{i}.csv\")\n",
    "\n",
    "i = 0\n",
    "for ds in df_test_folded16:\n",
    "  i += 1\n",
    "  ds.to_csv(f\"Data/test_dataset_2016_{i}.csv\")\n"
   ]
  },
  {
   "cell_type": "markdown",
   "metadata": {
    "id": "9Cl7HqQIvFRR"
   },
   "source": [
    "##### Credits\n",
    "Credits go to: \n",
    "[Simple Exploration Notebook](https://www.kaggle.com/code/sudalairajkumar/simple-exploration-notebook-zillow-prize)\n",
    "[Zillow analysis with EDA🏠](https://www.kaggle.com/code/hyewon328/zillow-analysis-with-eda)\n",
    "[Zillow EDA On Missing Values & Multicollinearity](https://www.kaggle.com/code/viveksrinivasan/zillow-eda-on-missing-values-multicollinearity)\n",
    "[Creating Additional Features](https://www.kaggle.com/code/nikunjm88/creating-additional-features)\n",
    "[Simple EDA Geo Data & Time Series](https://www.kaggle.com/code/kueipo/simple-eda-geo-data-time-series)\n",
    "[Carefully dealing with missing values](https://www.kaggle.com/code/nikunjm88/carefully-dealing-with-missing-values)"
   ]
  }
 ],
 "metadata": {
  "colab": {
   "collapsed_sections": [],
   "name": "EDA_Zillow.ipynb",
   "provenance": [],
   "toc_visible": true
  },
  "kernelspec": {
   "display_name": "Python 3 (ipykernel)",
   "language": "python",
   "name": "python3"
  },
  "language_info": {
   "codemirror_mode": {
    "name": "ipython",
    "version": 3
   },
   "file_extension": ".py",
   "mimetype": "text/x-python",
   "name": "python",
   "nbconvert_exporter": "python",
   "pygments_lexer": "ipython3",
   "version": "3.9.12"
  }
 },
 "nbformat": 4,
 "nbformat_minor": 1
}
